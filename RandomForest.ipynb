{
 "cells": [
  {
   "cell_type": "code",
   "execution_count": 1,
   "metadata": {
    "scrolled": true
   },
   "outputs": [],
   "source": [
    "import numpy as np\n",
    "import matplotlib.pyplot as plt\n",
    "import pandas as pd\n",
    "import geopandas as gpd\n",
    "import math\n",
    "from sklearn.model_selection import KFold\n",
    "from sklearn.ensemble import RandomForestRegressor"
   ]
  },
  {
   "cell_type": "markdown",
   "metadata": {},
   "source": [
    "The following code segments are for running the historical analysis shown in figure 2 of the paper. The code does the following:\n",
    "\n",
    "* Set input path to the data and an output path to where you want to save output data  \n",
    "* Open data. The data used to run the model can be downloaded from: https://doi.org/10.5518/1152\n",
    "\n",
    "* Set dependent variable name\n",
    "* Set simulation information\n",
    "* Set years you would like to analyse \n",
    "* Set Random Forest model \n",
    "* Loop over simulations and years and fit model to data in each simulation"
   ]
  },
  {
   "cell_type": "markdown",
   "metadata": {},
   "source": [
    "Set inpath and outpath"
   ]
  },
  {
   "cell_type": "code",
   "execution_count": 2,
   "metadata": {},
   "outputs": [],
   "source": [
    "# Path to the data.\n",
    "inpath = '.../'\n",
    "\n",
    "# Outpath where you would like to save output data.\n",
    "outpath = '.../RFout/' "
   ]
  },
  {
   "cell_type": "markdown",
   "metadata": {},
   "source": [
    "Open data"
   ]
  },
  {
   "cell_type": "code",
   "execution_count": 3,
   "metadata": {},
   "outputs": [],
   "source": [
    "df = pd.read_pickle(inpath + 'trainvalid.pkl')\n",
    "df = pd.DataFrame(df)"
   ]
  },
  {
   "cell_type": "code",
   "execution_count": 4,
   "metadata": {},
   "outputs": [
    {
     "data": {
      "text/html": [
       "<div>\n",
       "<style scoped>\n",
       "    .dataframe tbody tr th:only-of-type {\n",
       "        vertical-align: middle;\n",
       "    }\n",
       "\n",
       "    .dataframe tbody tr th {\n",
       "        vertical-align: top;\n",
       "    }\n",
       "\n",
       "    .dataframe thead th {\n",
       "        text-align: right;\n",
       "    }\n",
       "</style>\n",
       "<table border=\"1\" class=\"dataframe\">\n",
       "  <thead>\n",
       "    <tr style=\"text-align: right;\">\n",
       "      <th></th>\n",
       "      <th>FID</th>\n",
       "      <th>geometry</th>\n",
       "      <th>centre</th>\n",
       "      <th>area_km</th>\n",
       "      <th>states</th>\n",
       "      <th>year</th>\n",
       "      <th>month</th>\n",
       "      <th>fire_number</th>\n",
       "      <th>defor</th>\n",
       "      <th>t_month</th>\n",
       "      <th>p_6_month</th>\n",
       "      <th>p_month</th>\n",
       "      <th>pasture_frac</th>\n",
       "      <th>crop_frac</th>\n",
       "      <th>savanna_frac</th>\n",
       "      <th>lai_12_month_mean</th>\n",
       "    </tr>\n",
       "  </thead>\n",
       "  <tbody>\n",
       "    <tr>\n",
       "      <th>0</th>\n",
       "      <td>6938</td>\n",
       "      <td>POLYGON ((-73.50000 -6.75000, -73.25000 -6.750...</td>\n",
       "      <td>POINT (-73.37500 -6.87500)</td>\n",
       "      <td>763.931320</td>\n",
       "      <td>Amazonas</td>\n",
       "      <td>2003</td>\n",
       "      <td>1</td>\n",
       "      <td>0.0</td>\n",
       "      <td>0.000000</td>\n",
       "      <td>28.2428</td>\n",
       "      <td>713.030685</td>\n",
       "      <td>268.399323</td>\n",
       "      <td>0.000</td>\n",
       "      <td>0.000</td>\n",
       "      <td>0.000</td>\n",
       "      <td>5.258945</td>\n",
       "    </tr>\n",
       "    <tr>\n",
       "      <th>1</th>\n",
       "      <td>6939</td>\n",
       "      <td>POLYGON ((-73.50000 -7.00000, -73.25000 -7.000...</td>\n",
       "      <td>POINT (-73.37500 -7.12500)</td>\n",
       "      <td>763.532945</td>\n",
       "      <td>Amazonas</td>\n",
       "      <td>2003</td>\n",
       "      <td>1</td>\n",
       "      <td>0.0</td>\n",
       "      <td>1.357946</td>\n",
       "      <td>28.1812</td>\n",
       "      <td>756.387218</td>\n",
       "      <td>270.729797</td>\n",
       "      <td>0.001</td>\n",
       "      <td>0.000</td>\n",
       "      <td>0.000</td>\n",
       "      <td>5.231799</td>\n",
       "    </tr>\n",
       "    <tr>\n",
       "      <th>2</th>\n",
       "      <td>6940</td>\n",
       "      <td>POLYGON ((-73.50000 -7.25000, -73.25000 -7.250...</td>\n",
       "      <td>POINT (-73.37500 -7.37500)</td>\n",
       "      <td>763.120400</td>\n",
       "      <td>Acre</td>\n",
       "      <td>2003</td>\n",
       "      <td>1</td>\n",
       "      <td>0.0</td>\n",
       "      <td>8.050515</td>\n",
       "      <td>28.3756</td>\n",
       "      <td>779.980492</td>\n",
       "      <td>248.937378</td>\n",
       "      <td>0.017</td>\n",
       "      <td>0.000</td>\n",
       "      <td>0.000</td>\n",
       "      <td>5.270495</td>\n",
       "    </tr>\n",
       "    <tr>\n",
       "      <th>3</th>\n",
       "      <td>6941</td>\n",
       "      <td>POLYGON ((-73.50000 -7.50000, -73.25000 -7.500...</td>\n",
       "      <td>POINT (-73.37500 -7.62500)</td>\n",
       "      <td>762.693690</td>\n",
       "      <td>Acre</td>\n",
       "      <td>2003</td>\n",
       "      <td>1</td>\n",
       "      <td>0.0</td>\n",
       "      <td>4.219792</td>\n",
       "      <td>27.8924</td>\n",
       "      <td>805.984306</td>\n",
       "      <td>234.089584</td>\n",
       "      <td>0.005</td>\n",
       "      <td>0.000</td>\n",
       "      <td>0.000</td>\n",
       "      <td>5.223077</td>\n",
       "    </tr>\n",
       "    <tr>\n",
       "      <th>4</th>\n",
       "      <td>6942</td>\n",
       "      <td>POLYGON ((-73.50000 -7.75000, -73.25000 -7.750...</td>\n",
       "      <td>POINT (-73.37500 -7.87500)</td>\n",
       "      <td>762.252820</td>\n",
       "      <td>Acre</td>\n",
       "      <td>2003</td>\n",
       "      <td>1</td>\n",
       "      <td>0.0</td>\n",
       "      <td>3.456357</td>\n",
       "      <td>27.2764</td>\n",
       "      <td>810.648941</td>\n",
       "      <td>218.884186</td>\n",
       "      <td>0.003</td>\n",
       "      <td>0.000</td>\n",
       "      <td>0.000</td>\n",
       "      <td>5.252493</td>\n",
       "    </tr>\n",
       "    <tr>\n",
       "      <th>...</th>\n",
       "      <td>...</td>\n",
       "      <td>...</td>\n",
       "      <td>...</td>\n",
       "      <td>...</td>\n",
       "      <td>...</td>\n",
       "      <td>...</td>\n",
       "      <td>...</td>\n",
       "      <td>...</td>\n",
       "      <td>...</td>\n",
       "      <td>...</td>\n",
       "      <td>...</td>\n",
       "      <td>...</td>\n",
       "      <td>...</td>\n",
       "      <td>...</td>\n",
       "      <td>...</td>\n",
       "      <td>...</td>\n",
       "    </tr>\n",
       "    <tr>\n",
       "      <th>5126</th>\n",
       "      <td>29463</td>\n",
       "      <td>POLYGON ((-44.75000 -3.00000, -44.50000 -3.000...</td>\n",
       "      <td>POINT (-44.62500 -3.12500)</td>\n",
       "      <td>768.202987</td>\n",
       "      <td>Maranhao</td>\n",
       "      <td>2020</td>\n",
       "      <td>12</td>\n",
       "      <td>0.0</td>\n",
       "      <td>0.000000</td>\n",
       "      <td>30.4916</td>\n",
       "      <td>333.955908</td>\n",
       "      <td>135.318237</td>\n",
       "      <td>0.050</td>\n",
       "      <td>0.006</td>\n",
       "      <td>0.487</td>\n",
       "      <td>1.794112</td>\n",
       "    </tr>\n",
       "    <tr>\n",
       "      <th>5127</th>\n",
       "      <td>29657</td>\n",
       "      <td>POLYGON ((-44.50000 -2.50000, -44.25000 -2.500...</td>\n",
       "      <td>POINT (-44.37500 -2.62500)</td>\n",
       "      <td>768.530736</td>\n",
       "      <td>Maranhao</td>\n",
       "      <td>2020</td>\n",
       "      <td>12</td>\n",
       "      <td>0.0</td>\n",
       "      <td>0.924999</td>\n",
       "      <td>29.5052</td>\n",
       "      <td>351.155690</td>\n",
       "      <td>92.066948</td>\n",
       "      <td>0.043</td>\n",
       "      <td>0.001</td>\n",
       "      <td>0.008</td>\n",
       "      <td>2.633466</td>\n",
       "    </tr>\n",
       "    <tr>\n",
       "      <th>5128</th>\n",
       "      <td>29658</td>\n",
       "      <td>POLYGON ((-44.50000 -2.75000, -44.25000 -2.750...</td>\n",
       "      <td>POINT (-44.37500 -2.87500)</td>\n",
       "      <td>768.373982</td>\n",
       "      <td>Maranhao</td>\n",
       "      <td>2020</td>\n",
       "      <td>12</td>\n",
       "      <td>0.0</td>\n",
       "      <td>0.232154</td>\n",
       "      <td>28.4492</td>\n",
       "      <td>366.457522</td>\n",
       "      <td>118.020523</td>\n",
       "      <td>0.053</td>\n",
       "      <td>0.001</td>\n",
       "      <td>0.085</td>\n",
       "      <td>2.791391</td>\n",
       "    </tr>\n",
       "    <tr>\n",
       "      <th>5129</th>\n",
       "      <td>29659</td>\n",
       "      <td>POLYGON ((-44.50000 -3.00000, -44.25000 -3.000...</td>\n",
       "      <td>POINT (-44.37500 -3.12500)</td>\n",
       "      <td>768.202987</td>\n",
       "      <td>Maranhao</td>\n",
       "      <td>2020</td>\n",
       "      <td>12</td>\n",
       "      <td>0.0</td>\n",
       "      <td>1.950259</td>\n",
       "      <td>30.0412</td>\n",
       "      <td>328.087385</td>\n",
       "      <td>146.691986</td>\n",
       "      <td>0.255</td>\n",
       "      <td>0.002</td>\n",
       "      <td>0.200</td>\n",
       "      <td>2.445894</td>\n",
       "    </tr>\n",
       "    <tr>\n",
       "      <th>5130</th>\n",
       "      <td>29853</td>\n",
       "      <td>POLYGON ((-44.25000 -2.50000, -44.00000 -2.500...</td>\n",
       "      <td>POINT (-44.12500 -2.62500)</td>\n",
       "      <td>768.530736</td>\n",
       "      <td>Maranhao</td>\n",
       "      <td>2020</td>\n",
       "      <td>12</td>\n",
       "      <td>0.0</td>\n",
       "      <td>0.503407</td>\n",
       "      <td>30.6444</td>\n",
       "      <td>325.144393</td>\n",
       "      <td>89.317810</td>\n",
       "      <td>0.089</td>\n",
       "      <td>0.001</td>\n",
       "      <td>0.002</td>\n",
       "      <td>3.000128</td>\n",
       "    </tr>\n",
       "  </tbody>\n",
       "</table>\n",
       "<p>1108296 rows × 16 columns</p>\n",
       "</div>"
      ],
      "text/plain": [
       "        FID                                           geometry  \\\n",
       "0      6938  POLYGON ((-73.50000 -6.75000, -73.25000 -6.750...   \n",
       "1      6939  POLYGON ((-73.50000 -7.00000, -73.25000 -7.000...   \n",
       "2      6940  POLYGON ((-73.50000 -7.25000, -73.25000 -7.250...   \n",
       "3      6941  POLYGON ((-73.50000 -7.50000, -73.25000 -7.500...   \n",
       "4      6942  POLYGON ((-73.50000 -7.75000, -73.25000 -7.750...   \n",
       "...     ...                                                ...   \n",
       "5126  29463  POLYGON ((-44.75000 -3.00000, -44.50000 -3.000...   \n",
       "5127  29657  POLYGON ((-44.50000 -2.50000, -44.25000 -2.500...   \n",
       "5128  29658  POLYGON ((-44.50000 -2.75000, -44.25000 -2.750...   \n",
       "5129  29659  POLYGON ((-44.50000 -3.00000, -44.25000 -3.000...   \n",
       "5130  29853  POLYGON ((-44.25000 -2.50000, -44.00000 -2.500...   \n",
       "\n",
       "                          centre     area_km    states  year  month  \\\n",
       "0     POINT (-73.37500 -6.87500)  763.931320  Amazonas  2003      1   \n",
       "1     POINT (-73.37500 -7.12500)  763.532945  Amazonas  2003      1   \n",
       "2     POINT (-73.37500 -7.37500)  763.120400      Acre  2003      1   \n",
       "3     POINT (-73.37500 -7.62500)  762.693690      Acre  2003      1   \n",
       "4     POINT (-73.37500 -7.87500)  762.252820      Acre  2003      1   \n",
       "...                          ...         ...       ...   ...    ...   \n",
       "5126  POINT (-44.62500 -3.12500)  768.202987  Maranhao  2020     12   \n",
       "5127  POINT (-44.37500 -2.62500)  768.530736  Maranhao  2020     12   \n",
       "5128  POINT (-44.37500 -2.87500)  768.373982  Maranhao  2020     12   \n",
       "5129  POINT (-44.37500 -3.12500)  768.202987  Maranhao  2020     12   \n",
       "5130  POINT (-44.12500 -2.62500)  768.530736  Maranhao  2020     12   \n",
       "\n",
       "      fire_number     defor  t_month   p_6_month     p_month  pasture_frac  \\\n",
       "0             0.0  0.000000  28.2428  713.030685  268.399323         0.000   \n",
       "1             0.0  1.357946  28.1812  756.387218  270.729797         0.001   \n",
       "2             0.0  8.050515  28.3756  779.980492  248.937378         0.017   \n",
       "3             0.0  4.219792  27.8924  805.984306  234.089584         0.005   \n",
       "4             0.0  3.456357  27.2764  810.648941  218.884186         0.003   \n",
       "...           ...       ...      ...         ...         ...           ...   \n",
       "5126          0.0  0.000000  30.4916  333.955908  135.318237         0.050   \n",
       "5127          0.0  0.924999  29.5052  351.155690   92.066948         0.043   \n",
       "5128          0.0  0.232154  28.4492  366.457522  118.020523         0.053   \n",
       "5129          0.0  1.950259  30.0412  328.087385  146.691986         0.255   \n",
       "5130          0.0  0.503407  30.6444  325.144393   89.317810         0.089   \n",
       "\n",
       "      crop_frac  savanna_frac  lai_12_month_mean  \n",
       "0         0.000         0.000           5.258945  \n",
       "1         0.000         0.000           5.231799  \n",
       "2         0.000         0.000           5.270495  \n",
       "3         0.000         0.000           5.223077  \n",
       "4         0.000         0.000           5.252493  \n",
       "...         ...           ...                ...  \n",
       "5126      0.006         0.487           1.794112  \n",
       "5127      0.001         0.008           2.633466  \n",
       "5128      0.001         0.085           2.791391  \n",
       "5129      0.002         0.200           2.445894  \n",
       "5130      0.001         0.002           3.000128  \n",
       "\n",
       "[1108296 rows x 16 columns]"
      ]
     },
     "execution_count": 4,
     "metadata": {},
     "output_type": "execute_result"
    }
   ],
   "source": [
    "df"
   ]
  },
  {
   "cell_type": "markdown",
   "metadata": {},
   "source": [
    "Print features/variable names. Refer to data README file for a description of variables."
   ]
  },
  {
   "cell_type": "code",
   "execution_count": 5,
   "metadata": {},
   "outputs": [
    {
     "data": {
      "text/plain": [
       "Index(['FID', 'geometry', 'centre', 'area_km', 'states', 'year', 'month',\n",
       "       'fire_number', 'defor', 't_month', 'p_6_month', 'p_month',\n",
       "       'pasture_frac', 'crop_frac', 'savanna_frac', 'lai_12_month_mean'],\n",
       "      dtype='object')"
      ]
     },
     "execution_count": 5,
     "metadata": {},
     "output_type": "execute_result"
    }
   ],
   "source": [
    "df.columns"
   ]
  },
  {
   "cell_type": "markdown",
   "metadata": {},
   "source": [
    "Set dependent variable name"
   ]
  },
  {
   "cell_type": "code",
   "execution_count": 6,
   "metadata": {},
   "outputs": [],
   "source": [
    "dep_var = 'fire_number'"
   ]
  },
  {
   "cell_type": "markdown",
   "metadata": {},
   "source": [
    "Resacale featues that we will use in the simultaions."
   ]
  },
  {
   "cell_type": "code",
   "execution_count": 7,
   "metadata": {},
   "outputs": [],
   "source": [
    "df['defor'] = df['defor'] / df['area_km'] \n",
    "df['defor'] = (df['defor'] - df['defor'].min())/(df['defor'].max() - df['defor'].min())\n",
    "df['p_month'] = (df['p_month'] - df['p_month'].min())/(df['p_month'].max() - df['p_month'].min())\n",
    "df['t_month'] = (df['t_month'] - df['t_month'].min())/(df['t_month'].max() - df['t_month'].min())\n",
    "df['p_6_month'] = (df['p_6_month'] - df['p_6_month'].min())/(df['p_6_month'].max() - df['p_6_month'].min())\n",
    "df['lai_12_month_mean'] = (df['lai_12_month_mean'] - df['lai_12_month_mean'].min())/(df['lai_12_month_mean'].max() - df['lai_12_month_mean'].min())"
   ]
  },
  {
   "cell_type": "markdown",
   "metadata": {},
   "source": [
    "Set simulation information: \n",
    "\n",
    "* 'to_drop': features to drop \n",
    "* 'sim_label': label used to save predictions for each simulation. \n",
    "\n",
    "Refer to paper for details about each simulation. "
   ]
  },
  {
   "cell_type": "code",
   "execution_count": 8,
   "metadata": {},
   "outputs": [],
   "source": [
    "sim_label = [\n",
    "    'Sim_Clim+Def',\n",
    "    'Sim_Clim',\n",
    "    'Sim_Clim+LU',\n",
    "    'Sim_Clim+LU+Def'\n",
    "]\n",
    "\n",
    "sim_features = [\n",
    "    \n",
    "    ['fire_number', 'defor', 't_month', 'p_6_month', 'p_month','lai_12_month_mean', 'year'], # 'Sim_Clim+Def'\n",
    "    \n",
    "    ['fire_number', 't_month', 'p_6_month', 'p_month','lai_12_month_mean', 'year'],          # 'Sim_Clim'\n",
    "    \n",
    "    ['fire_number', 't_month', 'p_6_month', 'p_month','lai_12_month_mean',                   # 'Sim_Clim+LU'\n",
    "     'pasture_frac', 'crop_frac', 'savanna_frac', 'year'], \n",
    "    \n",
    "    ['fire_number', 'defor', 't_month', 'p_6_month', 'p_month','lai_12_month_mean',          # 'Sim_Clim+LU+Def'\n",
    "     'pasture_frac', 'crop_frac', 'savanna_frac', 'year']\n",
    "    \n",
    "]\n"
   ]
  },
  {
   "cell_type": "markdown",
   "metadata": {},
   "source": [
    "Set years you would like to analyse. Years allowed 2003 to 2020."
   ]
  },
  {
   "cell_type": "code",
   "execution_count": 9,
   "metadata": {},
   "outputs": [],
   "source": [
    "years = np.arange(2003,2021,1)"
   ]
  },
  {
   "cell_type": "markdown",
   "metadata": {},
   "source": [
    "Set Random Forest model and RMSE function"
   ]
  },
  {
   "cell_type": "code",
   "execution_count": 10,
   "metadata": {},
   "outputs": [],
   "source": [
    "def rf(X, y, n_estimators = 200, \n",
    "       max_samples = 500_000,\n",
    "       max_features = 0.5, \n",
    "       max_depth = 12, \n",
    "       min_samples_leaf = 30, \n",
    "       min_samples_split = 80, **kwargs):\n",
    "    return RandomForestRegressor(n_jobs = -1, \n",
    "                                 n_estimators = n_estimators,\n",
    "                                 max_samples = max_samples, \n",
    "                                 max_features = max_features,\n",
    "                                 min_samples_split = min_samples_split,\n",
    "                                 min_samples_leaf = min_samples_leaf,\n",
    "                                 max_depth = max_depth, oob_score = True).fit(X, y)\n",
    "\n",
    "def r_mse(pred,y): \n",
    "    return round(math.sqrt(((pred-y)**2).mean()), 6)"
   ]
  },
  {
   "cell_type": "markdown",
   "metadata": {},
   "source": [
    "Loop over simulations and years and fit model to data in each simulation"
   ]
  },
  {
   "cell_type": "code",
   "execution_count": 11,
   "metadata": {},
   "outputs": [
    {
     "name": "stdout",
     "output_type": "stream",
     "text": [
      "Sim_Clim+Def\n",
      "2003\n",
      "0\n"
     ]
    },
    {
     "name": "stderr",
     "output_type": "stream",
     "text": [
      "/nfs/b0122/Users/eeeeb/miniconda3/envs/pangeo2/lib/python3.9/site-packages/sklearn/base.py:445: UserWarning: X does not have valid feature names, but RandomForestRegressor was fitted with feature names\n",
      "  warnings.warn(\n"
     ]
    },
    {
     "name": "stdout",
     "output_type": "stream",
     "text": [
      "Train RMSE in = 6.943427\n",
      "Valid RMSE in = 7.023728\n",
      "Test RMSE in 2003= 8.143685\n",
      "1\n"
     ]
    },
    {
     "name": "stderr",
     "output_type": "stream",
     "text": [
      "/nfs/b0122/Users/eeeeb/miniconda3/envs/pangeo2/lib/python3.9/site-packages/sklearn/base.py:445: UserWarning: X does not have valid feature names, but RandomForestRegressor was fitted with feature names\n",
      "  warnings.warn(\n"
     ]
    },
    {
     "name": "stdout",
     "output_type": "stream",
     "text": [
      "Train RMSE in = 6.909394\n",
      "Valid RMSE in = 7.136165\n",
      "Test RMSE in 2003= 8.127091\n",
      "2\n"
     ]
    },
    {
     "name": "stderr",
     "output_type": "stream",
     "text": [
      "/nfs/b0122/Users/eeeeb/miniconda3/envs/pangeo2/lib/python3.9/site-packages/sklearn/base.py:445: UserWarning: X does not have valid feature names, but RandomForestRegressor was fitted with feature names\n",
      "  warnings.warn(\n"
     ]
    },
    {
     "name": "stdout",
     "output_type": "stream",
     "text": [
      "Train RMSE in = 6.825286\n",
      "Valid RMSE in = 7.491777\n",
      "Test RMSE in 2003= 8.135651\n",
      "3\n"
     ]
    },
    {
     "name": "stderr",
     "output_type": "stream",
     "text": [
      "/nfs/b0122/Users/eeeeb/miniconda3/envs/pangeo2/lib/python3.9/site-packages/sklearn/base.py:445: UserWarning: X does not have valid feature names, but RandomForestRegressor was fitted with feature names\n",
      "  warnings.warn(\n"
     ]
    },
    {
     "name": "stdout",
     "output_type": "stream",
     "text": [
      "Train RMSE in = 6.862333\n",
      "Valid RMSE in = 7.323752\n",
      "Test RMSE in 2003= 8.151602\n",
      "4\n"
     ]
    },
    {
     "name": "stderr",
     "output_type": "stream",
     "text": [
      "/nfs/b0122/Users/eeeeb/miniconda3/envs/pangeo2/lib/python3.9/site-packages/sklearn/base.py:445: UserWarning: X does not have valid feature names, but RandomForestRegressor was fitted with feature names\n",
      "  warnings.warn(\n"
     ]
    },
    {
     "name": "stdout",
     "output_type": "stream",
     "text": [
      "Train RMSE in = 7.009428\n",
      "Valid RMSE in = 6.681837\n",
      "Test RMSE in 2003= 8.131785\n",
      "2004\n",
      "0\n"
     ]
    },
    {
     "name": "stderr",
     "output_type": "stream",
     "text": [
      "/nfs/b0122/Users/eeeeb/miniconda3/envs/pangeo2/lib/python3.9/site-packages/sklearn/base.py:445: UserWarning: X does not have valid feature names, but RandomForestRegressor was fitted with feature names\n",
      "  warnings.warn(\n"
     ]
    },
    {
     "name": "stdout",
     "output_type": "stream",
     "text": [
      "Train RMSE in = 6.839712\n",
      "Valid RMSE in = 6.890077\n",
      "Test RMSE in 2004= 9.758449\n",
      "1\n"
     ]
    },
    {
     "name": "stderr",
     "output_type": "stream",
     "text": [
      "/nfs/b0122/Users/eeeeb/miniconda3/envs/pangeo2/lib/python3.9/site-packages/sklearn/base.py:445: UserWarning: X does not have valid feature names, but RandomForestRegressor was fitted with feature names\n",
      "  warnings.warn(\n"
     ]
    },
    {
     "name": "stdout",
     "output_type": "stream",
     "text": [
      "Train RMSE in = 6.823779\n",
      "Valid RMSE in = 6.966877\n",
      "Test RMSE in 2004= 9.751289\n",
      "2\n"
     ]
    },
    {
     "name": "stderr",
     "output_type": "stream",
     "text": [
      "/nfs/b0122/Users/eeeeb/miniconda3/envs/pangeo2/lib/python3.9/site-packages/sklearn/base.py:445: UserWarning: X does not have valid feature names, but RandomForestRegressor was fitted with feature names\n",
      "  warnings.warn(\n"
     ]
    },
    {
     "name": "stdout",
     "output_type": "stream",
     "text": [
      "Train RMSE in = 6.741541\n",
      "Valid RMSE in = 7.340624\n",
      "Test RMSE in 2004= 9.786774\n",
      "3\n"
     ]
    },
    {
     "name": "stderr",
     "output_type": "stream",
     "text": [
      "/nfs/b0122/Users/eeeeb/miniconda3/envs/pangeo2/lib/python3.9/site-packages/sklearn/base.py:445: UserWarning: X does not have valid feature names, but RandomForestRegressor was fitted with feature names\n",
      "  warnings.warn(\n"
     ]
    },
    {
     "name": "stdout",
     "output_type": "stream",
     "text": [
      "Train RMSE in = 6.77035\n",
      "Valid RMSE in = 7.237833\n",
      "Test RMSE in 2004= 9.755375\n",
      "4\n"
     ]
    },
    {
     "name": "stderr",
     "output_type": "stream",
     "text": [
      "/nfs/b0122/Users/eeeeb/miniconda3/envs/pangeo2/lib/python3.9/site-packages/sklearn/base.py:445: UserWarning: X does not have valid feature names, but RandomForestRegressor was fitted with feature names\n",
      "  warnings.warn(\n"
     ]
    },
    {
     "name": "stdout",
     "output_type": "stream",
     "text": [
      "Train RMSE in = 6.878899\n",
      "Valid RMSE in = 6.719198\n",
      "Test RMSE in 2004= 9.730538\n",
      "2005\n",
      "0\n"
     ]
    },
    {
     "name": "stderr",
     "output_type": "stream",
     "text": [
      "/nfs/b0122/Users/eeeeb/miniconda3/envs/pangeo2/lib/python3.9/site-packages/sklearn/base.py:445: UserWarning: X does not have valid feature names, but RandomForestRegressor was fitted with feature names\n",
      "  warnings.warn(\n"
     ]
    },
    {
     "name": "stdout",
     "output_type": "stream",
     "text": [
      "Train RMSE in = 6.702885\n",
      "Valid RMSE in = 6.763013\n",
      "Test RMSE in 2005= 11.660086\n",
      "1\n"
     ]
    },
    {
     "name": "stderr",
     "output_type": "stream",
     "text": [
      "/nfs/b0122/Users/eeeeb/miniconda3/envs/pangeo2/lib/python3.9/site-packages/sklearn/base.py:445: UserWarning: X does not have valid feature names, but RandomForestRegressor was fitted with feature names\n",
      "  warnings.warn(\n"
     ]
    },
    {
     "name": "stdout",
     "output_type": "stream",
     "text": [
      "Train RMSE in = 6.66921\n",
      "Valid RMSE in = 6.861264\n",
      "Test RMSE in 2005= 11.703504\n",
      "2\n"
     ]
    },
    {
     "name": "stderr",
     "output_type": "stream",
     "text": [
      "/nfs/b0122/Users/eeeeb/miniconda3/envs/pangeo2/lib/python3.9/site-packages/sklearn/base.py:445: UserWarning: X does not have valid feature names, but RandomForestRegressor was fitted with feature names\n",
      "  warnings.warn(\n"
     ]
    },
    {
     "name": "stdout",
     "output_type": "stream",
     "text": [
      "Train RMSE in = 6.585726\n",
      "Valid RMSE in = 7.264073\n",
      "Test RMSE in 2005= 11.799504\n",
      "3\n"
     ]
    },
    {
     "name": "stderr",
     "output_type": "stream",
     "text": [
      "/nfs/b0122/Users/eeeeb/miniconda3/envs/pangeo2/lib/python3.9/site-packages/sklearn/base.py:445: UserWarning: X does not have valid feature names, but RandomForestRegressor was fitted with feature names\n",
      "  warnings.warn(\n"
     ]
    },
    {
     "name": "stdout",
     "output_type": "stream",
     "text": [
      "Train RMSE in = 6.649919\n",
      "Valid RMSE in = 6.98025\n",
      "Test RMSE in 2005= 11.699149\n",
      "4\n"
     ]
    },
    {
     "name": "stderr",
     "output_type": "stream",
     "text": [
      "/nfs/b0122/Users/eeeeb/miniconda3/envs/pangeo2/lib/python3.9/site-packages/sklearn/base.py:445: UserWarning: X does not have valid feature names, but RandomForestRegressor was fitted with feature names\n",
      "  warnings.warn(\n"
     ]
    },
    {
     "name": "stdout",
     "output_type": "stream",
     "text": [
      "Train RMSE in = 6.742302\n",
      "Valid RMSE in = 6.543083\n",
      "Test RMSE in 2005= 11.733012\n",
      "2006\n",
      "0\n"
     ]
    },
    {
     "name": "stderr",
     "output_type": "stream",
     "text": [
      "/nfs/b0122/Users/eeeeb/miniconda3/envs/pangeo2/lib/python3.9/site-packages/sklearn/base.py:445: UserWarning: X does not have valid feature names, but RandomForestRegressor was fitted with feature names\n",
      "  warnings.warn(\n"
     ]
    },
    {
     "name": "stdout",
     "output_type": "stream",
     "text": [
      "Train RMSE in = 6.974613\n",
      "Valid RMSE in = 7.145972\n",
      "Test RMSE in 2006= 7.492841\n",
      "1\n"
     ]
    },
    {
     "name": "stderr",
     "output_type": "stream",
     "text": [
      "/nfs/b0122/Users/eeeeb/miniconda3/envs/pangeo2/lib/python3.9/site-packages/sklearn/base.py:445: UserWarning: X does not have valid feature names, but RandomForestRegressor was fitted with feature names\n",
      "  warnings.warn(\n"
     ]
    },
    {
     "name": "stdout",
     "output_type": "stream",
     "text": [
      "Train RMSE in = 6.946993\n",
      "Valid RMSE in = 7.226735\n",
      "Test RMSE in 2006= 7.49079\n",
      "2\n"
     ]
    },
    {
     "name": "stderr",
     "output_type": "stream",
     "text": [
      "/nfs/b0122/Users/eeeeb/miniconda3/envs/pangeo2/lib/python3.9/site-packages/sklearn/base.py:445: UserWarning: X does not have valid feature names, but RandomForestRegressor was fitted with feature names\n",
      "  warnings.warn(\n"
     ]
    },
    {
     "name": "stdout",
     "output_type": "stream",
     "text": [
      "Train RMSE in = 6.913604\n",
      "Valid RMSE in = 7.421847\n",
      "Test RMSE in 2006= 7.491009\n",
      "3\n"
     ]
    },
    {
     "name": "stderr",
     "output_type": "stream",
     "text": [
      "/nfs/b0122/Users/eeeeb/miniconda3/envs/pangeo2/lib/python3.9/site-packages/sklearn/base.py:445: UserWarning: X does not have valid feature names, but RandomForestRegressor was fitted with feature names\n",
      "  warnings.warn(\n"
     ]
    },
    {
     "name": "stdout",
     "output_type": "stream",
     "text": [
      "Train RMSE in = 6.934252\n",
      "Valid RMSE in = 7.312491\n",
      "Test RMSE in 2006= 7.472181\n",
      "4\n"
     ]
    },
    {
     "name": "stderr",
     "output_type": "stream",
     "text": [
      "/nfs/b0122/Users/eeeeb/miniconda3/envs/pangeo2/lib/python3.9/site-packages/sklearn/base.py:445: UserWarning: X does not have valid feature names, but RandomForestRegressor was fitted with feature names\n",
      "  warnings.warn(\n"
     ]
    },
    {
     "name": "stdout",
     "output_type": "stream",
     "text": [
      "Train RMSE in = 7.04223\n",
      "Valid RMSE in = 6.796438\n",
      "Test RMSE in 2006= 7.473153\n",
      "2007\n",
      "0\n"
     ]
    },
    {
     "name": "stderr",
     "output_type": "stream",
     "text": [
      "/nfs/b0122/Users/eeeeb/miniconda3/envs/pangeo2/lib/python3.9/site-packages/sklearn/base.py:445: UserWarning: X does not have valid feature names, but RandomForestRegressor was fitted with feature names\n",
      "  warnings.warn(\n"
     ]
    },
    {
     "name": "stdout",
     "output_type": "stream",
     "text": [
      "Train RMSE in = 6.660773\n",
      "Valid RMSE in = 6.870753\n",
      "Test RMSE in 2007= 11.784132\n",
      "1\n"
     ]
    },
    {
     "name": "stderr",
     "output_type": "stream",
     "text": [
      "/nfs/b0122/Users/eeeeb/miniconda3/envs/pangeo2/lib/python3.9/site-packages/sklearn/base.py:445: UserWarning: X does not have valid feature names, but RandomForestRegressor was fitted with feature names\n",
      "  warnings.warn(\n"
     ]
    },
    {
     "name": "stdout",
     "output_type": "stream",
     "text": [
      "Train RMSE in = 6.632026\n",
      "Valid RMSE in = 6.97338\n",
      "Test RMSE in 2007= 11.810908\n",
      "2\n"
     ]
    },
    {
     "name": "stderr",
     "output_type": "stream",
     "text": [
      "/nfs/b0122/Users/eeeeb/miniconda3/envs/pangeo2/lib/python3.9/site-packages/sklearn/base.py:445: UserWarning: X does not have valid feature names, but RandomForestRegressor was fitted with feature names\n",
      "  warnings.warn(\n"
     ]
    },
    {
     "name": "stdout",
     "output_type": "stream",
     "text": [
      "Train RMSE in = 6.636028\n",
      "Valid RMSE in = 6.974048\n",
      "Test RMSE in 2007= 11.779768\n",
      "3\n"
     ]
    },
    {
     "name": "stderr",
     "output_type": "stream",
     "text": [
      "/nfs/b0122/Users/eeeeb/miniconda3/envs/pangeo2/lib/python3.9/site-packages/sklearn/base.py:445: UserWarning: X does not have valid feature names, but RandomForestRegressor was fitted with feature names\n",
      "  warnings.warn(\n"
     ]
    },
    {
     "name": "stdout",
     "output_type": "stream",
     "text": [
      "Train RMSE in = 6.629198\n",
      "Valid RMSE in = 6.984806\n",
      "Test RMSE in 2007= 11.79319\n",
      "4\n"
     ]
    },
    {
     "name": "stderr",
     "output_type": "stream",
     "text": [
      "/nfs/b0122/Users/eeeeb/miniconda3/envs/pangeo2/lib/python3.9/site-packages/sklearn/base.py:445: UserWarning: X does not have valid feature names, but RandomForestRegressor was fitted with feature names\n",
      "  warnings.warn(\n"
     ]
    },
    {
     "name": "stdout",
     "output_type": "stream",
     "text": [
      "Train RMSE in = 6.73117\n",
      "Valid RMSE in = 6.537095\n",
      "Test RMSE in 2007= 11.745397\n",
      "2008\n",
      "0\n"
     ]
    },
    {
     "name": "stderr",
     "output_type": "stream",
     "text": [
      "/nfs/b0122/Users/eeeeb/miniconda3/envs/pangeo2/lib/python3.9/site-packages/sklearn/base.py:445: UserWarning: X does not have valid feature names, but RandomForestRegressor was fitted with feature names\n",
      "  warnings.warn(\n"
     ]
    },
    {
     "name": "stdout",
     "output_type": "stream",
     "text": [
      "Train RMSE in = 7.009136\n",
      "Valid RMSE in = 7.307165\n",
      "Test RMSE in 2008= 5.96083\n",
      "1\n"
     ]
    },
    {
     "name": "stderr",
     "output_type": "stream",
     "text": [
      "/nfs/b0122/Users/eeeeb/miniconda3/envs/pangeo2/lib/python3.9/site-packages/sklearn/base.py:445: UserWarning: X does not have valid feature names, but RandomForestRegressor was fitted with feature names\n",
      "  warnings.warn(\n"
     ]
    },
    {
     "name": "stdout",
     "output_type": "stream",
     "text": [
      "Train RMSE in = 6.984717\n",
      "Valid RMSE in = 7.400036\n",
      "Test RMSE in 2008= 5.982174\n",
      "2\n"
     ]
    },
    {
     "name": "stderr",
     "output_type": "stream",
     "text": [
      "/nfs/b0122/Users/eeeeb/miniconda3/envs/pangeo2/lib/python3.9/site-packages/sklearn/base.py:445: UserWarning: X does not have valid feature names, but RandomForestRegressor was fitted with feature names\n",
      "  warnings.warn(\n"
     ]
    },
    {
     "name": "stdout",
     "output_type": "stream",
     "text": [
      "Train RMSE in = 7.027794\n",
      "Valid RMSE in = 7.234377\n",
      "Test RMSE in 2008= 5.956617\n",
      "3\n"
     ]
    },
    {
     "name": "stderr",
     "output_type": "stream",
     "text": [
      "/nfs/b0122/Users/eeeeb/miniconda3/envs/pangeo2/lib/python3.9/site-packages/sklearn/base.py:445: UserWarning: X does not have valid feature names, but RandomForestRegressor was fitted with feature names\n",
      "  warnings.warn(\n"
     ]
    },
    {
     "name": "stdout",
     "output_type": "stream",
     "text": [
      "Train RMSE in = 6.994738\n",
      "Valid RMSE in = 7.359257\n",
      "Test RMSE in 2008= 5.967834\n",
      "4\n"
     ]
    },
    {
     "name": "stderr",
     "output_type": "stream",
     "text": [
      "/nfs/b0122/Users/eeeeb/miniconda3/envs/pangeo2/lib/python3.9/site-packages/sklearn/base.py:445: UserWarning: X does not have valid feature names, but RandomForestRegressor was fitted with feature names\n",
      "  warnings.warn(\n"
     ]
    },
    {
     "name": "stdout",
     "output_type": "stream",
     "text": [
      "Train RMSE in = 7.080451\n",
      "Valid RMSE in = 6.953115\n",
      "Test RMSE in 2008= 5.945127\n",
      "2009\n",
      "0\n"
     ]
    },
    {
     "name": "stderr",
     "output_type": "stream",
     "text": [
      "/nfs/b0122/Users/eeeeb/miniconda3/envs/pangeo2/lib/python3.9/site-packages/sklearn/base.py:445: UserWarning: X does not have valid feature names, but RandomForestRegressor was fitted with feature names\n",
      "  warnings.warn(\n"
     ]
    },
    {
     "name": "stdout",
     "output_type": "stream",
     "text": [
      "Train RMSE in = 7.054966\n",
      "Valid RMSE in = 7.367871\n",
      "Test RMSE in 2009= 4.869077\n",
      "1\n"
     ]
    },
    {
     "name": "stderr",
     "output_type": "stream",
     "text": [
      "/nfs/b0122/Users/eeeeb/miniconda3/envs/pangeo2/lib/python3.9/site-packages/sklearn/base.py:445: UserWarning: X does not have valid feature names, but RandomForestRegressor was fitted with feature names\n",
      "  warnings.warn(\n"
     ]
    },
    {
     "name": "stdout",
     "output_type": "stream",
     "text": [
      "Train RMSE in = 7.03929\n",
      "Valid RMSE in = 7.417967\n",
      "Test RMSE in 2009= 4.875498\n",
      "2\n"
     ]
    },
    {
     "name": "stderr",
     "output_type": "stream",
     "text": [
      "/nfs/b0122/Users/eeeeb/miniconda3/envs/pangeo2/lib/python3.9/site-packages/sklearn/base.py:445: UserWarning: X does not have valid feature names, but RandomForestRegressor was fitted with feature names\n",
      "  warnings.warn(\n"
     ]
    },
    {
     "name": "stdout",
     "output_type": "stream",
     "text": [
      "Train RMSE in = 7.069061\n",
      "Valid RMSE in = 7.310797\n",
      "Test RMSE in 2009= 4.880006\n",
      "3\n"
     ]
    },
    {
     "name": "stderr",
     "output_type": "stream",
     "text": [
      "/nfs/b0122/Users/eeeeb/miniconda3/envs/pangeo2/lib/python3.9/site-packages/sklearn/base.py:445: UserWarning: X does not have valid feature names, but RandomForestRegressor was fitted with feature names\n",
      "  warnings.warn(\n"
     ]
    },
    {
     "name": "stdout",
     "output_type": "stream",
     "text": [
      "Train RMSE in = 7.042416\n",
      "Valid RMSE in = 7.408147\n",
      "Test RMSE in 2009= 4.901811\n",
      "4\n"
     ]
    },
    {
     "name": "stderr",
     "output_type": "stream",
     "text": [
      "/nfs/b0122/Users/eeeeb/miniconda3/envs/pangeo2/lib/python3.9/site-packages/sklearn/base.py:445: UserWarning: X does not have valid feature names, but RandomForestRegressor was fitted with feature names\n",
      "  warnings.warn(\n"
     ]
    },
    {
     "name": "stdout",
     "output_type": "stream",
     "text": [
      "Train RMSE in = 7.131078\n",
      "Valid RMSE in = 6.994708\n",
      "Test RMSE in 2009= 4.909915\n",
      "2010\n",
      "0\n"
     ]
    },
    {
     "name": "stderr",
     "output_type": "stream",
     "text": [
      "/nfs/b0122/Users/eeeeb/miniconda3/envs/pangeo2/lib/python3.9/site-packages/sklearn/base.py:445: UserWarning: X does not have valid feature names, but RandomForestRegressor was fitted with feature names\n",
      "  warnings.warn(\n"
     ]
    },
    {
     "name": "stdout",
     "output_type": "stream",
     "text": [
      "Train RMSE in = 6.582877\n",
      "Valid RMSE in = 6.933522\n",
      "Test RMSE in 2010= 12.073051\n",
      "1\n"
     ]
    },
    {
     "name": "stderr",
     "output_type": "stream",
     "text": [
      "/nfs/b0122/Users/eeeeb/miniconda3/envs/pangeo2/lib/python3.9/site-packages/sklearn/base.py:445: UserWarning: X does not have valid feature names, but RandomForestRegressor was fitted with feature names\n",
      "  warnings.warn(\n"
     ]
    },
    {
     "name": "stdout",
     "output_type": "stream",
     "text": [
      "Train RMSE in = 6.618383\n",
      "Valid RMSE in = 6.76797\n",
      "Test RMSE in 2010= 12.021112\n",
      "2\n"
     ]
    },
    {
     "name": "stderr",
     "output_type": "stream",
     "text": [
      "/nfs/b0122/Users/eeeeb/miniconda3/envs/pangeo2/lib/python3.9/site-packages/sklearn/base.py:445: UserWarning: X does not have valid feature names, but RandomForestRegressor was fitted with feature names\n",
      "  warnings.warn(\n"
     ]
    },
    {
     "name": "stdout",
     "output_type": "stream",
     "text": [
      "Train RMSE in = 6.629483\n",
      "Valid RMSE in = 6.747824\n",
      "Test RMSE in 2010= 12.061838\n",
      "3\n"
     ]
    },
    {
     "name": "stderr",
     "output_type": "stream",
     "text": [
      "/nfs/b0122/Users/eeeeb/miniconda3/envs/pangeo2/lib/python3.9/site-packages/sklearn/base.py:445: UserWarning: X does not have valid feature names, but RandomForestRegressor was fitted with feature names\n",
      "  warnings.warn(\n"
     ]
    },
    {
     "name": "stdout",
     "output_type": "stream",
     "text": [
      "Train RMSE in = 6.580339\n",
      "Valid RMSE in = 6.927546\n",
      "Test RMSE in 2010= 12.07456\n",
      "4\n"
     ]
    },
    {
     "name": "stderr",
     "output_type": "stream",
     "text": [
      "/nfs/b0122/Users/eeeeb/miniconda3/envs/pangeo2/lib/python3.9/site-packages/sklearn/base.py:445: UserWarning: X does not have valid feature names, but RandomForestRegressor was fitted with feature names\n",
      "  warnings.warn(\n"
     ]
    },
    {
     "name": "stdout",
     "output_type": "stream",
     "text": [
      "Train RMSE in = 6.608882\n",
      "Valid RMSE in = 6.752088\n",
      "Test RMSE in 2010= 12.068507\n",
      "2011\n",
      "0\n"
     ]
    },
    {
     "name": "stderr",
     "output_type": "stream",
     "text": [
      "/nfs/b0122/Users/eeeeb/miniconda3/envs/pangeo2/lib/python3.9/site-packages/sklearn/base.py:445: UserWarning: X does not have valid feature names, but RandomForestRegressor was fitted with feature names\n",
      "  warnings.warn(\n"
     ]
    },
    {
     "name": "stdout",
     "output_type": "stream",
     "text": [
      "Train RMSE in = 7.126799\n",
      "Valid RMSE in = 7.332783\n",
      "Test RMSE in 2011= 3.392035\n",
      "1\n"
     ]
    },
    {
     "name": "stderr",
     "output_type": "stream",
     "text": [
      "/nfs/b0122/Users/eeeeb/miniconda3/envs/pangeo2/lib/python3.9/site-packages/sklearn/base.py:445: UserWarning: X does not have valid feature names, but RandomForestRegressor was fitted with feature names\n",
      "  warnings.warn(\n"
     ]
    },
    {
     "name": "stdout",
     "output_type": "stream",
     "text": [
      "Train RMSE in = 7.117434\n",
      "Valid RMSE in = 7.38048\n",
      "Test RMSE in 2011= 3.410042\n",
      "2\n"
     ]
    },
    {
     "name": "stderr",
     "output_type": "stream",
     "text": [
      "/nfs/b0122/Users/eeeeb/miniconda3/envs/pangeo2/lib/python3.9/site-packages/sklearn/base.py:445: UserWarning: X does not have valid feature names, but RandomForestRegressor was fitted with feature names\n",
      "  warnings.warn(\n"
     ]
    },
    {
     "name": "stdout",
     "output_type": "stream",
     "text": [
      "Train RMSE in = 7.108245\n",
      "Valid RMSE in = 7.386977\n",
      "Test RMSE in 2011= 3.404831\n",
      "3\n"
     ]
    },
    {
     "name": "stderr",
     "output_type": "stream",
     "text": [
      "/nfs/b0122/Users/eeeeb/miniconda3/envs/pangeo2/lib/python3.9/site-packages/sklearn/base.py:445: UserWarning: X does not have valid feature names, but RandomForestRegressor was fitted with feature names\n",
      "  warnings.warn(\n"
     ]
    },
    {
     "name": "stdout",
     "output_type": "stream",
     "text": [
      "Train RMSE in = 7.133684\n",
      "Valid RMSE in = 7.273362\n",
      "Test RMSE in 2011= 3.400567\n",
      "4\n"
     ]
    },
    {
     "name": "stderr",
     "output_type": "stream",
     "text": [
      "/nfs/b0122/Users/eeeeb/miniconda3/envs/pangeo2/lib/python3.9/site-packages/sklearn/base.py:445: UserWarning: X does not have valid feature names, but RandomForestRegressor was fitted with feature names\n",
      "  warnings.warn(\n"
     ]
    },
    {
     "name": "stdout",
     "output_type": "stream",
     "text": [
      "Train RMSE in = 7.098402\n",
      "Valid RMSE in = 7.409398\n",
      "Test RMSE in 2011= 3.416813\n",
      "2012\n",
      "0\n"
     ]
    },
    {
     "name": "stderr",
     "output_type": "stream",
     "text": [
      "/nfs/b0122/Users/eeeeb/miniconda3/envs/pangeo2/lib/python3.9/site-packages/sklearn/base.py:445: UserWarning: X does not have valid feature names, but RandomForestRegressor was fitted with feature names\n",
      "  warnings.warn(\n"
     ]
    },
    {
     "name": "stdout",
     "output_type": "stream",
     "text": [
      "Train RMSE in = 7.062728\n",
      "Valid RMSE in = 7.304972\n",
      "Test RMSE in 2012= 5.112227\n",
      "1\n"
     ]
    },
    {
     "name": "stderr",
     "output_type": "stream",
     "text": [
      "/nfs/b0122/Users/eeeeb/miniconda3/envs/pangeo2/lib/python3.9/site-packages/sklearn/base.py:445: UserWarning: X does not have valid feature names, but RandomForestRegressor was fitted with feature names\n",
      "  warnings.warn(\n"
     ]
    },
    {
     "name": "stdout",
     "output_type": "stream",
     "text": [
      "Train RMSE in = 7.059411\n",
      "Valid RMSE in = 7.342435\n",
      "Test RMSE in 2012= 5.116281\n",
      "2\n"
     ]
    },
    {
     "name": "stderr",
     "output_type": "stream",
     "text": [
      "/nfs/b0122/Users/eeeeb/miniconda3/envs/pangeo2/lib/python3.9/site-packages/sklearn/base.py:445: UserWarning: X does not have valid feature names, but RandomForestRegressor was fitted with feature names\n",
      "  warnings.warn(\n"
     ]
    },
    {
     "name": "stdout",
     "output_type": "stream",
     "text": [
      "Train RMSE in = 7.065267\n",
      "Valid RMSE in = 7.302044\n",
      "Test RMSE in 2012= 5.113956\n",
      "3\n"
     ]
    },
    {
     "name": "stderr",
     "output_type": "stream",
     "text": [
      "/nfs/b0122/Users/eeeeb/miniconda3/envs/pangeo2/lib/python3.9/site-packages/sklearn/base.py:445: UserWarning: X does not have valid feature names, but RandomForestRegressor was fitted with feature names\n",
      "  warnings.warn(\n"
     ]
    },
    {
     "name": "stdout",
     "output_type": "stream",
     "text": [
      "Train RMSE in = 7.07848\n",
      "Valid RMSE in = 7.232202\n",
      "Test RMSE in 2012= 5.106591\n",
      "4\n"
     ]
    },
    {
     "name": "stderr",
     "output_type": "stream",
     "text": [
      "/nfs/b0122/Users/eeeeb/miniconda3/envs/pangeo2/lib/python3.9/site-packages/sklearn/base.py:445: UserWarning: X does not have valid feature names, but RandomForestRegressor was fitted with feature names\n",
      "  warnings.warn(\n"
     ]
    },
    {
     "name": "stdout",
     "output_type": "stream",
     "text": [
      "Train RMSE in = 7.052453\n",
      "Valid RMSE in = 7.316041\n",
      "Test RMSE in 2012= 5.113723\n",
      "2013\n",
      "0\n"
     ]
    },
    {
     "name": "stderr",
     "output_type": "stream",
     "text": [
      "/nfs/b0122/Users/eeeeb/miniconda3/envs/pangeo2/lib/python3.9/site-packages/sklearn/base.py:445: UserWarning: X does not have valid feature names, but RandomForestRegressor was fitted with feature names\n",
      "  warnings.warn(\n"
     ]
    },
    {
     "name": "stdout",
     "output_type": "stream",
     "text": [
      "Train RMSE in = 7.141071\n",
      "Valid RMSE in = 7.345032\n",
      "Test RMSE in 2013= 2.75217\n",
      "1\n"
     ]
    },
    {
     "name": "stderr",
     "output_type": "stream",
     "text": [
      "/nfs/b0122/Users/eeeeb/miniconda3/envs/pangeo2/lib/python3.9/site-packages/sklearn/base.py:445: UserWarning: X does not have valid feature names, but RandomForestRegressor was fitted with feature names\n",
      "  warnings.warn(\n"
     ]
    },
    {
     "name": "stdout",
     "output_type": "stream",
     "text": [
      "Train RMSE in = 7.129576\n",
      "Valid RMSE in = 7.403677\n",
      "Test RMSE in 2013= 2.750836\n",
      "2\n"
     ]
    },
    {
     "name": "stderr",
     "output_type": "stream",
     "text": [
      "/nfs/b0122/Users/eeeeb/miniconda3/envs/pangeo2/lib/python3.9/site-packages/sklearn/base.py:445: UserWarning: X does not have valid feature names, but RandomForestRegressor was fitted with feature names\n",
      "  warnings.warn(\n"
     ]
    },
    {
     "name": "stdout",
     "output_type": "stream",
     "text": [
      "Train RMSE in = 7.12789\n",
      "Valid RMSE in = 7.405169\n",
      "Test RMSE in 2013= 2.748964\n",
      "3\n"
     ]
    },
    {
     "name": "stderr",
     "output_type": "stream",
     "text": [
      "/nfs/b0122/Users/eeeeb/miniconda3/envs/pangeo2/lib/python3.9/site-packages/sklearn/base.py:445: UserWarning: X does not have valid feature names, but RandomForestRegressor was fitted with feature names\n",
      "  warnings.warn(\n"
     ]
    },
    {
     "name": "stdout",
     "output_type": "stream",
     "text": [
      "Train RMSE in = 7.149339\n",
      "Valid RMSE in = 7.302973\n",
      "Test RMSE in 2013= 2.762869\n",
      "4\n"
     ]
    },
    {
     "name": "stderr",
     "output_type": "stream",
     "text": [
      "/nfs/b0122/Users/eeeeb/miniconda3/envs/pangeo2/lib/python3.9/site-packages/sklearn/base.py:445: UserWarning: X does not have valid feature names, but RandomForestRegressor was fitted with feature names\n",
      "  warnings.warn(\n"
     ]
    },
    {
     "name": "stdout",
     "output_type": "stream",
     "text": [
      "Train RMSE in = 7.122106\n",
      "Valid RMSE in = 7.410206\n",
      "Test RMSE in 2013= 2.757946\n",
      "2014\n",
      "0\n"
     ]
    },
    {
     "name": "stderr",
     "output_type": "stream",
     "text": [
      "/nfs/b0122/Users/eeeeb/miniconda3/envs/pangeo2/lib/python3.9/site-packages/sklearn/base.py:445: UserWarning: X does not have valid feature names, but RandomForestRegressor was fitted with feature names\n",
      "  warnings.warn(\n"
     ]
    },
    {
     "name": "stdout",
     "output_type": "stream",
     "text": [
      "Train RMSE in = 7.10721\n",
      "Valid RMSE in = 7.311308\n",
      "Test RMSE in 2014= 4.305895\n",
      "1\n"
     ]
    },
    {
     "name": "stderr",
     "output_type": "stream",
     "text": [
      "/nfs/b0122/Users/eeeeb/miniconda3/envs/pangeo2/lib/python3.9/site-packages/sklearn/base.py:445: UserWarning: X does not have valid feature names, but RandomForestRegressor was fitted with feature names\n",
      "  warnings.warn(\n"
     ]
    },
    {
     "name": "stdout",
     "output_type": "stream",
     "text": [
      "Train RMSE in = 7.093599\n",
      "Valid RMSE in = 7.363944\n",
      "Test RMSE in 2014= 4.313561\n",
      "2\n"
     ]
    },
    {
     "name": "stderr",
     "output_type": "stream",
     "text": [
      "/nfs/b0122/Users/eeeeb/miniconda3/envs/pangeo2/lib/python3.9/site-packages/sklearn/base.py:445: UserWarning: X does not have valid feature names, but RandomForestRegressor was fitted with feature names\n",
      "  warnings.warn(\n"
     ]
    },
    {
     "name": "stdout",
     "output_type": "stream",
     "text": [
      "Train RMSE in = 7.080916\n",
      "Valid RMSE in = 7.371521\n",
      "Test RMSE in 2014= 4.303003\n",
      "3\n"
     ]
    },
    {
     "name": "stderr",
     "output_type": "stream",
     "text": [
      "/nfs/b0122/Users/eeeeb/miniconda3/envs/pangeo2/lib/python3.9/site-packages/sklearn/base.py:445: UserWarning: X does not have valid feature names, but RandomForestRegressor was fitted with feature names\n",
      "  warnings.warn(\n"
     ]
    },
    {
     "name": "stdout",
     "output_type": "stream",
     "text": [
      "Train RMSE in = 7.117719\n",
      "Valid RMSE in = 7.243653\n",
      "Test RMSE in 2014= 4.303843\n",
      "4\n"
     ]
    },
    {
     "name": "stderr",
     "output_type": "stream",
     "text": [
      "/nfs/b0122/Users/eeeeb/miniconda3/envs/pangeo2/lib/python3.9/site-packages/sklearn/base.py:445: UserWarning: X does not have valid feature names, but RandomForestRegressor was fitted with feature names\n",
      "  warnings.warn(\n"
     ]
    },
    {
     "name": "stdout",
     "output_type": "stream",
     "text": [
      "Train RMSE in = 7.079766\n",
      "Valid RMSE in = 7.384703\n",
      "Test RMSE in 2014= 4.308255\n",
      "2015\n",
      "0\n"
     ]
    },
    {
     "name": "stderr",
     "output_type": "stream",
     "text": [
      "/nfs/b0122/Users/eeeeb/miniconda3/envs/pangeo2/lib/python3.9/site-packages/sklearn/base.py:445: UserWarning: X does not have valid feature names, but RandomForestRegressor was fitted with feature names\n",
      "  warnings.warn(\n"
     ]
    },
    {
     "name": "stdout",
     "output_type": "stream",
     "text": [
      "Train RMSE in = 7.05236\n",
      "Valid RMSE in = 7.219095\n",
      "Test RMSE in 2015= 5.947724\n",
      "1\n"
     ]
    },
    {
     "name": "stderr",
     "output_type": "stream",
     "text": [
      "/nfs/b0122/Users/eeeeb/miniconda3/envs/pangeo2/lib/python3.9/site-packages/sklearn/base.py:445: UserWarning: X does not have valid feature names, but RandomForestRegressor was fitted with feature names\n",
      "  warnings.warn(\n"
     ]
    },
    {
     "name": "stdout",
     "output_type": "stream",
     "text": [
      "Train RMSE in = 7.021483\n",
      "Valid RMSE in = 7.295001\n",
      "Test RMSE in 2015= 5.908051\n",
      "2\n"
     ]
    },
    {
     "name": "stderr",
     "output_type": "stream",
     "text": [
      "/nfs/b0122/Users/eeeeb/miniconda3/envs/pangeo2/lib/python3.9/site-packages/sklearn/base.py:445: UserWarning: X does not have valid feature names, but RandomForestRegressor was fitted with feature names\n",
      "  warnings.warn(\n"
     ]
    },
    {
     "name": "stdout",
     "output_type": "stream",
     "text": [
      "Train RMSE in = 7.019198\n",
      "Valid RMSE in = 7.311439\n",
      "Test RMSE in 2015= 5.930919\n",
      "3\n"
     ]
    },
    {
     "name": "stderr",
     "output_type": "stream",
     "text": [
      "/nfs/b0122/Users/eeeeb/miniconda3/envs/pangeo2/lib/python3.9/site-packages/sklearn/base.py:445: UserWarning: X does not have valid feature names, but RandomForestRegressor was fitted with feature names\n",
      "  warnings.warn(\n"
     ]
    },
    {
     "name": "stdout",
     "output_type": "stream",
     "text": [
      "Train RMSE in = 7.047447\n",
      "Valid RMSE in = 7.192557\n",
      "Test RMSE in 2015= 5.917195\n",
      "4\n"
     ]
    },
    {
     "name": "stderr",
     "output_type": "stream",
     "text": [
      "/nfs/b0122/Users/eeeeb/miniconda3/envs/pangeo2/lib/python3.9/site-packages/sklearn/base.py:445: UserWarning: X does not have valid feature names, but RandomForestRegressor was fitted with feature names\n",
      "  warnings.warn(\n"
     ]
    },
    {
     "name": "stdout",
     "output_type": "stream",
     "text": [
      "Train RMSE in = 7.014609\n",
      "Valid RMSE in = 7.325721\n",
      "Test RMSE in 2015= 5.925867\n",
      "2016\n",
      "0\n"
     ]
    },
    {
     "name": "stderr",
     "output_type": "stream",
     "text": [
      "/nfs/b0122/Users/eeeeb/miniconda3/envs/pangeo2/lib/python3.9/site-packages/sklearn/base.py:445: UserWarning: X does not have valid feature names, but RandomForestRegressor was fitted with feature names\n",
      "  warnings.warn(\n"
     ]
    },
    {
     "name": "stdout",
     "output_type": "stream",
     "text": [
      "Train RMSE in = 7.054258\n",
      "Valid RMSE in = 7.223988\n",
      "Test RMSE in 2016= 5.554599\n",
      "1\n"
     ]
    },
    {
     "name": "stderr",
     "output_type": "stream",
     "text": [
      "/nfs/b0122/Users/eeeeb/miniconda3/envs/pangeo2/lib/python3.9/site-packages/sklearn/base.py:445: UserWarning: X does not have valid feature names, but RandomForestRegressor was fitted with feature names\n",
      "  warnings.warn(\n"
     ]
    },
    {
     "name": "stdout",
     "output_type": "stream",
     "text": [
      "Train RMSE in = 7.037578\n",
      "Valid RMSE in = 7.318258\n",
      "Test RMSE in 2016= 5.558043\n",
      "2\n"
     ]
    },
    {
     "name": "stderr",
     "output_type": "stream",
     "text": [
      "/nfs/b0122/Users/eeeeb/miniconda3/envs/pangeo2/lib/python3.9/site-packages/sklearn/base.py:445: UserWarning: X does not have valid feature names, but RandomForestRegressor was fitted with feature names\n",
      "  warnings.warn(\n"
     ]
    },
    {
     "name": "stdout",
     "output_type": "stream",
     "text": [
      "Train RMSE in = 7.02532\n",
      "Valid RMSE in = 7.331795\n",
      "Test RMSE in 2016= 5.542987\n",
      "3\n"
     ]
    },
    {
     "name": "stderr",
     "output_type": "stream",
     "text": [
      "/nfs/b0122/Users/eeeeb/miniconda3/envs/pangeo2/lib/python3.9/site-packages/sklearn/base.py:445: UserWarning: X does not have valid feature names, but RandomForestRegressor was fitted with feature names\n",
      "  warnings.warn(\n"
     ]
    },
    {
     "name": "stdout",
     "output_type": "stream",
     "text": [
      "Train RMSE in = 7.064114\n",
      "Valid RMSE in = 7.181322\n",
      "Test RMSE in 2016= 5.560061\n",
      "4\n"
     ]
    },
    {
     "name": "stderr",
     "output_type": "stream",
     "text": [
      "/nfs/b0122/Users/eeeeb/miniconda3/envs/pangeo2/lib/python3.9/site-packages/sklearn/base.py:445: UserWarning: X does not have valid feature names, but RandomForestRegressor was fitted with feature names\n",
      "  warnings.warn(\n"
     ]
    },
    {
     "name": "stdout",
     "output_type": "stream",
     "text": [
      "Train RMSE in = 7.022326\n",
      "Valid RMSE in = 7.328219\n",
      "Test RMSE in 2016= 5.527594\n",
      "2017\n",
      "0\n"
     ]
    },
    {
     "name": "stderr",
     "output_type": "stream",
     "text": [
      "/nfs/b0122/Users/eeeeb/miniconda3/envs/pangeo2/lib/python3.9/site-packages/sklearn/base.py:445: UserWarning: X does not have valid feature names, but RandomForestRegressor was fitted with feature names\n",
      "  warnings.warn(\n"
     ]
    },
    {
     "name": "stdout",
     "output_type": "stream",
     "text": [
      "Train RMSE in = 7.01988\n",
      "Valid RMSE in = 7.133619\n",
      "Test RMSE in 2017= 6.544571\n",
      "1\n"
     ]
    },
    {
     "name": "stderr",
     "output_type": "stream",
     "text": [
      "/nfs/b0122/Users/eeeeb/miniconda3/envs/pangeo2/lib/python3.9/site-packages/sklearn/base.py:445: UserWarning: X does not have valid feature names, but RandomForestRegressor was fitted with feature names\n",
      "  warnings.warn(\n"
     ]
    },
    {
     "name": "stdout",
     "output_type": "stream",
     "text": [
      "Train RMSE in = 6.989587\n",
      "Valid RMSE in = 7.30626\n",
      "Test RMSE in 2017= 6.552114\n",
      "2\n"
     ]
    },
    {
     "name": "stderr",
     "output_type": "stream",
     "text": [
      "/nfs/b0122/Users/eeeeb/miniconda3/envs/pangeo2/lib/python3.9/site-packages/sklearn/base.py:445: UserWarning: X does not have valid feature names, but RandomForestRegressor was fitted with feature names\n",
      "  warnings.warn(\n"
     ]
    },
    {
     "name": "stdout",
     "output_type": "stream",
     "text": [
      "Train RMSE in = 6.993282\n",
      "Valid RMSE in = 7.2641\n",
      "Test RMSE in 2017= 6.540874\n",
      "3\n"
     ]
    },
    {
     "name": "stderr",
     "output_type": "stream",
     "text": [
      "/nfs/b0122/Users/eeeeb/miniconda3/envs/pangeo2/lib/python3.9/site-packages/sklearn/base.py:445: UserWarning: X does not have valid feature names, but RandomForestRegressor was fitted with feature names\n",
      "  warnings.warn(\n"
     ]
    },
    {
     "name": "stdout",
     "output_type": "stream",
     "text": [
      "Train RMSE in = 7.015128\n",
      "Valid RMSE in = 7.166068\n",
      "Test RMSE in 2017= 6.558168\n",
      "4\n"
     ]
    },
    {
     "name": "stderr",
     "output_type": "stream",
     "text": [
      "/nfs/b0122/Users/eeeeb/miniconda3/envs/pangeo2/lib/python3.9/site-packages/sklearn/base.py:445: UserWarning: X does not have valid feature names, but RandomForestRegressor was fitted with feature names\n",
      "  warnings.warn(\n"
     ]
    },
    {
     "name": "stdout",
     "output_type": "stream",
     "text": [
      "Train RMSE in = 6.978925\n",
      "Valid RMSE in = 7.29823\n",
      "Test RMSE in 2017= 6.534609\n",
      "2018\n",
      "0\n"
     ]
    },
    {
     "name": "stderr",
     "output_type": "stream",
     "text": [
      "/nfs/b0122/Users/eeeeb/miniconda3/envs/pangeo2/lib/python3.9/site-packages/sklearn/base.py:445: UserWarning: X does not have valid feature names, but RandomForestRegressor was fitted with feature names\n",
      "  warnings.warn(\n"
     ]
    },
    {
     "name": "stdout",
     "output_type": "stream",
     "text": [
      "Train RMSE in = 7.121937\n",
      "Valid RMSE in = 7.254241\n",
      "Test RMSE in 2018= 4.037861\n",
      "1\n"
     ]
    },
    {
     "name": "stderr",
     "output_type": "stream",
     "text": [
      "/nfs/b0122/Users/eeeeb/miniconda3/envs/pangeo2/lib/python3.9/site-packages/sklearn/base.py:445: UserWarning: X does not have valid feature names, but RandomForestRegressor was fitted with feature names\n",
      "  warnings.warn(\n"
     ]
    },
    {
     "name": "stdout",
     "output_type": "stream",
     "text": [
      "Train RMSE in = 7.086797\n",
      "Valid RMSE in = 7.391842\n",
      "Test RMSE in 2018= 4.052787\n",
      "2\n"
     ]
    },
    {
     "name": "stderr",
     "output_type": "stream",
     "text": [
      "/nfs/b0122/Users/eeeeb/miniconda3/envs/pangeo2/lib/python3.9/site-packages/sklearn/base.py:445: UserWarning: X does not have valid feature names, but RandomForestRegressor was fitted with feature names\n",
      "  warnings.warn(\n"
     ]
    },
    {
     "name": "stdout",
     "output_type": "stream",
     "text": [
      "Train RMSE in = 7.099365\n",
      "Valid RMSE in = 7.349355\n",
      "Test RMSE in 2018= 4.03599\n",
      "3\n"
     ]
    },
    {
     "name": "stderr",
     "output_type": "stream",
     "text": [
      "/nfs/b0122/Users/eeeeb/miniconda3/envs/pangeo2/lib/python3.9/site-packages/sklearn/base.py:445: UserWarning: X does not have valid feature names, but RandomForestRegressor was fitted with feature names\n",
      "  warnings.warn(\n"
     ]
    },
    {
     "name": "stdout",
     "output_type": "stream",
     "text": [
      "Train RMSE in = 7.102987\n",
      "Valid RMSE in = 7.295739\n",
      "Test RMSE in 2018= 4.050869\n",
      "4\n"
     ]
    },
    {
     "name": "stderr",
     "output_type": "stream",
     "text": [
      "/nfs/b0122/Users/eeeeb/miniconda3/envs/pangeo2/lib/python3.9/site-packages/sklearn/base.py:445: UserWarning: X does not have valid feature names, but RandomForestRegressor was fitted with feature names\n",
      "  warnings.warn(\n"
     ]
    },
    {
     "name": "stdout",
     "output_type": "stream",
     "text": [
      "Train RMSE in = 7.082683\n",
      "Valid RMSE in = 7.392466\n",
      "Test RMSE in 2018= 4.040081\n",
      "2019\n",
      "0\n"
     ]
    },
    {
     "name": "stderr",
     "output_type": "stream",
     "text": [
      "/nfs/b0122/Users/eeeeb/miniconda3/envs/pangeo2/lib/python3.9/site-packages/sklearn/base.py:445: UserWarning: X does not have valid feature names, but RandomForestRegressor was fitted with feature names\n",
      "  warnings.warn(\n"
     ]
    },
    {
     "name": "stdout",
     "output_type": "stream",
     "text": [
      "Train RMSE in = 6.996172\n",
      "Valid RMSE in = 7.08324\n",
      "Test RMSE in 2019= 7.136482\n",
      "1\n"
     ]
    },
    {
     "name": "stderr",
     "output_type": "stream",
     "text": [
      "/nfs/b0122/Users/eeeeb/miniconda3/envs/pangeo2/lib/python3.9/site-packages/sklearn/base.py:445: UserWarning: X does not have valid feature names, but RandomForestRegressor was fitted with feature names\n",
      "  warnings.warn(\n"
     ]
    },
    {
     "name": "stdout",
     "output_type": "stream",
     "text": [
      "Train RMSE in = 6.956732\n",
      "Valid RMSE in = 7.261267\n",
      "Test RMSE in 2019= 7.16189\n",
      "2\n"
     ]
    },
    {
     "name": "stderr",
     "output_type": "stream",
     "text": [
      "/nfs/b0122/Users/eeeeb/miniconda3/envs/pangeo2/lib/python3.9/site-packages/sklearn/base.py:445: UserWarning: X does not have valid feature names, but RandomForestRegressor was fitted with feature names\n",
      "  warnings.warn(\n"
     ]
    },
    {
     "name": "stdout",
     "output_type": "stream",
     "text": [
      "Train RMSE in = 6.963542\n",
      "Valid RMSE in = 7.206096\n",
      "Test RMSE in 2019= 7.157669\n",
      "3\n"
     ]
    },
    {
     "name": "stderr",
     "output_type": "stream",
     "text": [
      "/nfs/b0122/Users/eeeeb/miniconda3/envs/pangeo2/lib/python3.9/site-packages/sklearn/base.py:445: UserWarning: X does not have valid feature names, but RandomForestRegressor was fitted with feature names\n",
      "  warnings.warn(\n"
     ]
    },
    {
     "name": "stdout",
     "output_type": "stream",
     "text": [
      "Train RMSE in = 6.972679\n",
      "Valid RMSE in = 7.165594\n",
      "Test RMSE in 2019= 7.154419\n",
      "4\n"
     ]
    },
    {
     "name": "stderr",
     "output_type": "stream",
     "text": [
      "/nfs/b0122/Users/eeeeb/miniconda3/envs/pangeo2/lib/python3.9/site-packages/sklearn/base.py:445: UserWarning: X does not have valid feature names, but RandomForestRegressor was fitted with feature names\n",
      "  warnings.warn(\n"
     ]
    },
    {
     "name": "stdout",
     "output_type": "stream",
     "text": [
      "Train RMSE in = 6.945449\n",
      "Valid RMSE in = 7.290136\n",
      "Test RMSE in 2019= 7.156926\n",
      "2020\n",
      "0\n"
     ]
    },
    {
     "name": "stderr",
     "output_type": "stream",
     "text": [
      "/nfs/b0122/Users/eeeeb/miniconda3/envs/pangeo2/lib/python3.9/site-packages/sklearn/base.py:445: UserWarning: X does not have valid feature names, but RandomForestRegressor was fitted with feature names\n",
      "  warnings.warn(\n"
     ]
    },
    {
     "name": "stdout",
     "output_type": "stream",
     "text": [
      "Train RMSE in = 7.036387\n",
      "Valid RMSE in = 7.112207\n",
      "Test RMSE in 2020= 6.310611\n",
      "1\n"
     ]
    },
    {
     "name": "stderr",
     "output_type": "stream",
     "text": [
      "/nfs/b0122/Users/eeeeb/miniconda3/envs/pangeo2/lib/python3.9/site-packages/sklearn/base.py:445: UserWarning: X does not have valid feature names, but RandomForestRegressor was fitted with feature names\n",
      "  warnings.warn(\n"
     ]
    },
    {
     "name": "stdout",
     "output_type": "stream",
     "text": [
      "Train RMSE in = 6.992676\n",
      "Valid RMSE in = 7.312171\n",
      "Test RMSE in 2020= 6.253615\n",
      "2\n"
     ]
    },
    {
     "name": "stderr",
     "output_type": "stream",
     "text": [
      "/nfs/b0122/Users/eeeeb/miniconda3/envs/pangeo2/lib/python3.9/site-packages/sklearn/base.py:445: UserWarning: X does not have valid feature names, but RandomForestRegressor was fitted with feature names\n",
      "  warnings.warn(\n"
     ]
    },
    {
     "name": "stdout",
     "output_type": "stream",
     "text": [
      "Train RMSE in = 6.996639\n",
      "Valid RMSE in = 7.294264\n",
      "Test RMSE in 2020= 6.285091\n",
      "3\n"
     ]
    },
    {
     "name": "stderr",
     "output_type": "stream",
     "text": [
      "/nfs/b0122/Users/eeeeb/miniconda3/envs/pangeo2/lib/python3.9/site-packages/sklearn/base.py:445: UserWarning: X does not have valid feature names, but RandomForestRegressor was fitted with feature names\n",
      "  warnings.warn(\n"
     ]
    },
    {
     "name": "stdout",
     "output_type": "stream",
     "text": [
      "Train RMSE in = 7.028375\n",
      "Valid RMSE in = 7.145611\n",
      "Test RMSE in 2020= 6.331853\n",
      "4\n"
     ]
    },
    {
     "name": "stderr",
     "output_type": "stream",
     "text": [
      "/nfs/b0122/Users/eeeeb/miniconda3/envs/pangeo2/lib/python3.9/site-packages/sklearn/base.py:445: UserWarning: X does not have valid feature names, but RandomForestRegressor was fitted with feature names\n",
      "  warnings.warn(\n"
     ]
    },
    {
     "name": "stdout",
     "output_type": "stream",
     "text": [
      "Train RMSE in = 6.977909\n",
      "Valid RMSE in = 7.341228\n",
      "Test RMSE in 2020= 6.265307\n",
      "Sim_Clim\n",
      "2003\n",
      "0\n"
     ]
    },
    {
     "name": "stderr",
     "output_type": "stream",
     "text": [
      "/nfs/b0122/Users/eeeeb/miniconda3/envs/pangeo2/lib/python3.9/site-packages/sklearn/base.py:445: UserWarning: X does not have valid feature names, but RandomForestRegressor was fitted with feature names\n",
      "  warnings.warn(\n"
     ]
    },
    {
     "name": "stdout",
     "output_type": "stream",
     "text": [
      "Train RMSE in = 8.346856\n",
      "Valid RMSE in = 8.234402\n",
      "Test RMSE in 2003= 9.840436\n",
      "1\n"
     ]
    },
    {
     "name": "stderr",
     "output_type": "stream",
     "text": [
      "/nfs/b0122/Users/eeeeb/miniconda3/envs/pangeo2/lib/python3.9/site-packages/sklearn/base.py:445: UserWarning: X does not have valid feature names, but RandomForestRegressor was fitted with feature names\n",
      "  warnings.warn(\n"
     ]
    },
    {
     "name": "stdout",
     "output_type": "stream",
     "text": [
      "Train RMSE in = 8.296123\n",
      "Valid RMSE in = 8.453046\n",
      "Test RMSE in 2003= 9.850266\n",
      "2\n"
     ]
    },
    {
     "name": "stderr",
     "output_type": "stream",
     "text": [
      "/nfs/b0122/Users/eeeeb/miniconda3/envs/pangeo2/lib/python3.9/site-packages/sklearn/base.py:445: UserWarning: X does not have valid feature names, but RandomForestRegressor was fitted with feature names\n",
      "  warnings.warn(\n"
     ]
    },
    {
     "name": "stdout",
     "output_type": "stream",
     "text": [
      "Train RMSE in = 8.168224\n",
      "Valid RMSE in = 8.93972\n",
      "Test RMSE in 2003= 9.866294\n",
      "3\n"
     ]
    },
    {
     "name": "stderr",
     "output_type": "stream",
     "text": [
      "/nfs/b0122/Users/eeeeb/miniconda3/envs/pangeo2/lib/python3.9/site-packages/sklearn/base.py:445: UserWarning: X does not have valid feature names, but RandomForestRegressor was fitted with feature names\n",
      "  warnings.warn(\n"
     ]
    },
    {
     "name": "stdout",
     "output_type": "stream",
     "text": [
      "Train RMSE in = 8.235828\n",
      "Valid RMSE in = 8.690516\n",
      "Test RMSE in 2003= 9.851503\n",
      "4\n"
     ]
    },
    {
     "name": "stderr",
     "output_type": "stream",
     "text": [
      "/nfs/b0122/Users/eeeeb/miniconda3/envs/pangeo2/lib/python3.9/site-packages/sklearn/base.py:445: UserWarning: X does not have valid feature names, but RandomForestRegressor was fitted with feature names\n",
      "  warnings.warn(\n"
     ]
    },
    {
     "name": "stdout",
     "output_type": "stream",
     "text": [
      "Train RMSE in = 8.391654\n",
      "Valid RMSE in = 8.002578\n",
      "Test RMSE in 2003= 9.835175\n",
      "2004\n",
      "0\n"
     ]
    },
    {
     "name": "stderr",
     "output_type": "stream",
     "text": [
      "/nfs/b0122/Users/eeeeb/miniconda3/envs/pangeo2/lib/python3.9/site-packages/sklearn/base.py:445: UserWarning: X does not have valid feature names, but RandomForestRegressor was fitted with feature names\n",
      "  warnings.warn(\n"
     ]
    },
    {
     "name": "stdout",
     "output_type": "stream",
     "text": [
      "Train RMSE in = 8.146345\n",
      "Valid RMSE in = 8.031317\n",
      "Test RMSE in 2004= 12.51601\n",
      "1\n"
     ]
    },
    {
     "name": "stderr",
     "output_type": "stream",
     "text": [
      "/nfs/b0122/Users/eeeeb/miniconda3/envs/pangeo2/lib/python3.9/site-packages/sklearn/base.py:445: UserWarning: X does not have valid feature names, but RandomForestRegressor was fitted with feature names\n",
      "  warnings.warn(\n"
     ]
    },
    {
     "name": "stdout",
     "output_type": "stream",
     "text": [
      "Train RMSE in = 8.110222\n",
      "Valid RMSE in = 8.171357\n",
      "Test RMSE in 2004= 12.513967\n",
      "2\n"
     ]
    },
    {
     "name": "stderr",
     "output_type": "stream",
     "text": [
      "/nfs/b0122/Users/eeeeb/miniconda3/envs/pangeo2/lib/python3.9/site-packages/sklearn/base.py:445: UserWarning: X does not have valid feature names, but RandomForestRegressor was fitted with feature names\n",
      "  warnings.warn(\n"
     ]
    },
    {
     "name": "stdout",
     "output_type": "stream",
     "text": [
      "Train RMSE in = 7.989286\n",
      "Valid RMSE in = 8.655246\n",
      "Test RMSE in 2004= 12.524121\n",
      "3\n"
     ]
    },
    {
     "name": "stderr",
     "output_type": "stream",
     "text": [
      "/nfs/b0122/Users/eeeeb/miniconda3/envs/pangeo2/lib/python3.9/site-packages/sklearn/base.py:445: UserWarning: X does not have valid feature names, but RandomForestRegressor was fitted with feature names\n",
      "  warnings.warn(\n"
     ]
    },
    {
     "name": "stdout",
     "output_type": "stream",
     "text": [
      "Train RMSE in = 8.024796\n",
      "Valid RMSE in = 8.536303\n",
      "Test RMSE in 2004= 12.52234\n",
      "4\n"
     ]
    },
    {
     "name": "stderr",
     "output_type": "stream",
     "text": [
      "/nfs/b0122/Users/eeeeb/miniconda3/envs/pangeo2/lib/python3.9/site-packages/sklearn/base.py:445: UserWarning: X does not have valid feature names, but RandomForestRegressor was fitted with feature names\n",
      "  warnings.warn(\n"
     ]
    },
    {
     "name": "stdout",
     "output_type": "stream",
     "text": [
      "Train RMSE in = 8.16432\n",
      "Valid RMSE in = 7.934298\n",
      "Test RMSE in 2004= 12.514922\n",
      "2005\n",
      "0\n"
     ]
    },
    {
     "name": "stderr",
     "output_type": "stream",
     "text": [
      "/nfs/b0122/Users/eeeeb/miniconda3/envs/pangeo2/lib/python3.9/site-packages/sklearn/base.py:445: UserWarning: X does not have valid feature names, but RandomForestRegressor was fitted with feature names\n",
      "  warnings.warn(\n"
     ]
    },
    {
     "name": "stdout",
     "output_type": "stream",
     "text": [
      "Train RMSE in = 7.917495\n",
      "Valid RMSE in = 7.799812\n",
      "Test RMSE in 2005= 14.905778\n",
      "1\n"
     ]
    },
    {
     "name": "stderr",
     "output_type": "stream",
     "text": [
      "/nfs/b0122/Users/eeeeb/miniconda3/envs/pangeo2/lib/python3.9/site-packages/sklearn/base.py:445: UserWarning: X does not have valid feature names, but RandomForestRegressor was fitted with feature names\n",
      "  warnings.warn(\n"
     ]
    },
    {
     "name": "stdout",
     "output_type": "stream",
     "text": [
      "Train RMSE in = 7.87099\n",
      "Valid RMSE in = 7.995202\n",
      "Test RMSE in 2005= 14.907585\n",
      "2\n"
     ]
    },
    {
     "name": "stderr",
     "output_type": "stream",
     "text": [
      "/nfs/b0122/Users/eeeeb/miniconda3/envs/pangeo2/lib/python3.9/site-packages/sklearn/base.py:445: UserWarning: X does not have valid feature names, but RandomForestRegressor was fitted with feature names\n",
      "  warnings.warn(\n"
     ]
    },
    {
     "name": "stdout",
     "output_type": "stream",
     "text": [
      "Train RMSE in = 7.741771\n",
      "Valid RMSE in = 8.493706\n",
      "Test RMSE in 2005= 14.950029\n",
      "3\n"
     ]
    },
    {
     "name": "stderr",
     "output_type": "stream",
     "text": [
      "/nfs/b0122/Users/eeeeb/miniconda3/envs/pangeo2/lib/python3.9/site-packages/sklearn/base.py:445: UserWarning: X does not have valid feature names, but RandomForestRegressor was fitted with feature names\n",
      "  warnings.warn(\n"
     ]
    },
    {
     "name": "stdout",
     "output_type": "stream",
     "text": [
      "Train RMSE in = 7.833767\n",
      "Valid RMSE in = 8.164049\n",
      "Test RMSE in 2005= 14.89943\n",
      "4\n"
     ]
    },
    {
     "name": "stderr",
     "output_type": "stream",
     "text": [
      "/nfs/b0122/Users/eeeeb/miniconda3/envs/pangeo2/lib/python3.9/site-packages/sklearn/base.py:445: UserWarning: X does not have valid feature names, but RandomForestRegressor was fitted with feature names\n",
      "  warnings.warn(\n"
     ]
    },
    {
     "name": "stdout",
     "output_type": "stream",
     "text": [
      "Train RMSE in = 7.932326\n",
      "Valid RMSE in = 7.708868\n",
      "Test RMSE in 2005= 14.914165\n",
      "2006\n",
      "0\n"
     ]
    },
    {
     "name": "stderr",
     "output_type": "stream",
     "text": [
      "/nfs/b0122/Users/eeeeb/miniconda3/envs/pangeo2/lib/python3.9/site-packages/sklearn/base.py:445: UserWarning: X does not have valid feature names, but RandomForestRegressor was fitted with feature names\n",
      "  warnings.warn(\n"
     ]
    },
    {
     "name": "stdout",
     "output_type": "stream",
     "text": [
      "Train RMSE in = 8.363002\n",
      "Valid RMSE in = 8.392194\n",
      "Test RMSE in 2006= 9.314246\n",
      "1\n"
     ]
    },
    {
     "name": "stderr",
     "output_type": "stream",
     "text": [
      "/nfs/b0122/Users/eeeeb/miniconda3/envs/pangeo2/lib/python3.9/site-packages/sklearn/base.py:445: UserWarning: X does not have valid feature names, but RandomForestRegressor was fitted with feature names\n",
      "  warnings.warn(\n"
     ]
    },
    {
     "name": "stdout",
     "output_type": "stream",
     "text": [
      "Train RMSE in = 8.326785\n",
      "Valid RMSE in = 8.525599\n",
      "Test RMSE in 2006= 9.324363\n",
      "2\n"
     ]
    },
    {
     "name": "stderr",
     "output_type": "stream",
     "text": [
      "/nfs/b0122/Users/eeeeb/miniconda3/envs/pangeo2/lib/python3.9/site-packages/sklearn/base.py:445: UserWarning: X does not have valid feature names, but RandomForestRegressor was fitted with feature names\n",
      "  warnings.warn(\n"
     ]
    },
    {
     "name": "stdout",
     "output_type": "stream",
     "text": [
      "Train RMSE in = 8.256094\n",
      "Valid RMSE in = 8.830897\n",
      "Test RMSE in 2006= 9.323574\n",
      "3\n"
     ]
    },
    {
     "name": "stderr",
     "output_type": "stream",
     "text": [
      "/nfs/b0122/Users/eeeeb/miniconda3/envs/pangeo2/lib/python3.9/site-packages/sklearn/base.py:445: UserWarning: X does not have valid feature names, but RandomForestRegressor was fitted with feature names\n",
      "  warnings.warn(\n"
     ]
    },
    {
     "name": "stdout",
     "output_type": "stream",
     "text": [
      "Train RMSE in = 8.29719\n",
      "Valid RMSE in = 8.667726\n",
      "Test RMSE in 2006= 9.313664\n",
      "4\n"
     ]
    },
    {
     "name": "stderr",
     "output_type": "stream",
     "text": [
      "/nfs/b0122/Users/eeeeb/miniconda3/envs/pangeo2/lib/python3.9/site-packages/sklearn/base.py:445: UserWarning: X does not have valid feature names, but RandomForestRegressor was fitted with feature names\n",
      "  warnings.warn(\n"
     ]
    },
    {
     "name": "stdout",
     "output_type": "stream",
     "text": [
      "Train RMSE in = 8.422764\n",
      "Valid RMSE in = 8.131577\n",
      "Test RMSE in 2006= 9.299699\n",
      "2007\n",
      "0\n"
     ]
    },
    {
     "name": "stderr",
     "output_type": "stream",
     "text": [
      "/nfs/b0122/Users/eeeeb/miniconda3/envs/pangeo2/lib/python3.9/site-packages/sklearn/base.py:445: UserWarning: X does not have valid feature names, but RandomForestRegressor was fitted with feature names\n",
      "  warnings.warn(\n"
     ]
    },
    {
     "name": "stdout",
     "output_type": "stream",
     "text": [
      "Train RMSE in = 8.010491\n",
      "Valid RMSE in = 8.114979\n",
      "Test RMSE in 2007= 13.686344\n",
      "1\n"
     ]
    },
    {
     "name": "stderr",
     "output_type": "stream",
     "text": [
      "/nfs/b0122/Users/eeeeb/miniconda3/envs/pangeo2/lib/python3.9/site-packages/sklearn/base.py:445: UserWarning: X does not have valid feature names, but RandomForestRegressor was fitted with feature names\n",
      "  warnings.warn(\n"
     ]
    },
    {
     "name": "stdout",
     "output_type": "stream",
     "text": [
      "Train RMSE in = 7.987615\n",
      "Valid RMSE in = 8.229252\n",
      "Test RMSE in 2007= 13.682621\n",
      "2\n"
     ]
    },
    {
     "name": "stderr",
     "output_type": "stream",
     "text": [
      "/nfs/b0122/Users/eeeeb/miniconda3/envs/pangeo2/lib/python3.9/site-packages/sklearn/base.py:445: UserWarning: X does not have valid feature names, but RandomForestRegressor was fitted with feature names\n",
      "  warnings.warn(\n"
     ]
    },
    {
     "name": "stdout",
     "output_type": "stream",
     "text": [
      "Train RMSE in = 7.97732\n",
      "Valid RMSE in = 8.320571\n",
      "Test RMSE in 2007= 13.692904\n",
      "3\n"
     ]
    },
    {
     "name": "stderr",
     "output_type": "stream",
     "text": [
      "/nfs/b0122/Users/eeeeb/miniconda3/envs/pangeo2/lib/python3.9/site-packages/sklearn/base.py:445: UserWarning: X does not have valid feature names, but RandomForestRegressor was fitted with feature names\n",
      "  warnings.warn(\n"
     ]
    },
    {
     "name": "stdout",
     "output_type": "stream",
     "text": [
      "Train RMSE in = 7.972578\n",
      "Valid RMSE in = 8.29745\n",
      "Test RMSE in 2007= 13.684255\n",
      "4\n"
     ]
    },
    {
     "name": "stderr",
     "output_type": "stream",
     "text": [
      "/nfs/b0122/Users/eeeeb/miniconda3/envs/pangeo2/lib/python3.9/site-packages/sklearn/base.py:445: UserWarning: X does not have valid feature names, but RandomForestRegressor was fitted with feature names\n",
      "  warnings.warn(\n"
     ]
    },
    {
     "name": "stdout",
     "output_type": "stream",
     "text": [
      "Train RMSE in = 8.063777\n",
      "Valid RMSE in = 7.903713\n",
      "Test RMSE in 2007= 13.654507\n",
      "2008\n",
      "0\n"
     ]
    },
    {
     "name": "stderr",
     "output_type": "stream",
     "text": [
      "/nfs/b0122/Users/eeeeb/miniconda3/envs/pangeo2/lib/python3.9/site-packages/sklearn/base.py:445: UserWarning: X does not have valid feature names, but RandomForestRegressor was fitted with feature names\n",
      "  warnings.warn(\n"
     ]
    },
    {
     "name": "stdout",
     "output_type": "stream",
     "text": [
      "Train RMSE in = 8.475032\n",
      "Valid RMSE in = 8.642568\n",
      "Test RMSE in 2008= 6.471645\n",
      "1\n"
     ]
    },
    {
     "name": "stderr",
     "output_type": "stream",
     "text": [
      "/nfs/b0122/Users/eeeeb/miniconda3/envs/pangeo2/lib/python3.9/site-packages/sklearn/base.py:445: UserWarning: X does not have valid feature names, but RandomForestRegressor was fitted with feature names\n",
      "  warnings.warn(\n"
     ]
    },
    {
     "name": "stdout",
     "output_type": "stream",
     "text": [
      "Train RMSE in = 8.442098\n",
      "Valid RMSE in = 8.763883\n",
      "Test RMSE in 2008= 6.469737\n",
      "2\n"
     ]
    },
    {
     "name": "stderr",
     "output_type": "stream",
     "text": [
      "/nfs/b0122/Users/eeeeb/miniconda3/envs/pangeo2/lib/python3.9/site-packages/sklearn/base.py:445: UserWarning: X does not have valid feature names, but RandomForestRegressor was fitted with feature names\n",
      "  warnings.warn(\n"
     ]
    },
    {
     "name": "stdout",
     "output_type": "stream",
     "text": [
      "Train RMSE in = 8.471341\n",
      "Valid RMSE in = 8.682751\n",
      "Test RMSE in 2008= 6.466802\n",
      "3\n"
     ]
    },
    {
     "name": "stderr",
     "output_type": "stream",
     "text": [
      "/nfs/b0122/Users/eeeeb/miniconda3/envs/pangeo2/lib/python3.9/site-packages/sklearn/base.py:445: UserWarning: X does not have valid feature names, but RandomForestRegressor was fitted with feature names\n",
      "  warnings.warn(\n"
     ]
    },
    {
     "name": "stdout",
     "output_type": "stream",
     "text": [
      "Train RMSE in = 8.441434\n",
      "Valid RMSE in = 8.789708\n",
      "Test RMSE in 2008= 6.465308\n",
      "4\n"
     ]
    },
    {
     "name": "stderr",
     "output_type": "stream",
     "text": [
      "/nfs/b0122/Users/eeeeb/miniconda3/envs/pangeo2/lib/python3.9/site-packages/sklearn/base.py:445: UserWarning: X does not have valid feature names, but RandomForestRegressor was fitted with feature names\n",
      "  warnings.warn(\n"
     ]
    },
    {
     "name": "stdout",
     "output_type": "stream",
     "text": [
      "Train RMSE in = 8.527985\n",
      "Valid RMSE in = 8.420971\n",
      "Test RMSE in 2008= 6.4508\n",
      "2009\n",
      "0\n"
     ]
    },
    {
     "name": "stderr",
     "output_type": "stream",
     "text": [
      "/nfs/b0122/Users/eeeeb/miniconda3/envs/pangeo2/lib/python3.9/site-packages/sklearn/base.py:445: UserWarning: X does not have valid feature names, but RandomForestRegressor was fitted with feature names\n",
      "  warnings.warn(\n"
     ]
    },
    {
     "name": "stdout",
     "output_type": "stream",
     "text": [
      "Train RMSE in = 8.529551\n",
      "Valid RMSE in = 8.734233\n",
      "Test RMSE in 2009= 4.911703\n",
      "1\n"
     ]
    },
    {
     "name": "stderr",
     "output_type": "stream",
     "text": [
      "/nfs/b0122/Users/eeeeb/miniconda3/envs/pangeo2/lib/python3.9/site-packages/sklearn/base.py:445: UserWarning: X does not have valid feature names, but RandomForestRegressor was fitted with feature names\n",
      "  warnings.warn(\n"
     ]
    },
    {
     "name": "stdout",
     "output_type": "stream",
     "text": [
      "Train RMSE in = 8.511089\n",
      "Valid RMSE in = 8.801055\n",
      "Test RMSE in 2009= 4.907911\n",
      "2\n"
     ]
    },
    {
     "name": "stderr",
     "output_type": "stream",
     "text": [
      "/nfs/b0122/Users/eeeeb/miniconda3/envs/pangeo2/lib/python3.9/site-packages/sklearn/base.py:445: UserWarning: X does not have valid feature names, but RandomForestRegressor was fitted with feature names\n",
      "  warnings.warn(\n"
     ]
    },
    {
     "name": "stdout",
     "output_type": "stream",
     "text": [
      "Train RMSE in = 8.524408\n",
      "Valid RMSE in = 8.764736\n",
      "Test RMSE in 2009= 4.893213\n",
      "3\n"
     ]
    },
    {
     "name": "stderr",
     "output_type": "stream",
     "text": [
      "/nfs/b0122/Users/eeeeb/miniconda3/envs/pangeo2/lib/python3.9/site-packages/sklearn/base.py:445: UserWarning: X does not have valid feature names, but RandomForestRegressor was fitted with feature names\n",
      "  warnings.warn(\n"
     ]
    },
    {
     "name": "stdout",
     "output_type": "stream",
     "text": [
      "Train RMSE in = 8.498956\n",
      "Valid RMSE in = 8.840807\n",
      "Test RMSE in 2009= 4.916101\n",
      "4\n"
     ]
    },
    {
     "name": "stderr",
     "output_type": "stream",
     "text": [
      "/nfs/b0122/Users/eeeeb/miniconda3/envs/pangeo2/lib/python3.9/site-packages/sklearn/base.py:445: UserWarning: X does not have valid feature names, but RandomForestRegressor was fitted with feature names\n",
      "  warnings.warn(\n"
     ]
    },
    {
     "name": "stdout",
     "output_type": "stream",
     "text": [
      "Train RMSE in = 8.594187\n",
      "Valid RMSE in = 8.456312\n",
      "Test RMSE in 2009= 4.909899\n",
      "2010\n",
      "0\n"
     ]
    },
    {
     "name": "stderr",
     "output_type": "stream",
     "text": [
      "/nfs/b0122/Users/eeeeb/miniconda3/envs/pangeo2/lib/python3.9/site-packages/sklearn/base.py:445: UserWarning: X does not have valid feature names, but RandomForestRegressor was fitted with feature names\n",
      "  warnings.warn(\n"
     ]
    },
    {
     "name": "stdout",
     "output_type": "stream",
     "text": [
      "Train RMSE in = 8.084342\n",
      "Valid RMSE in = 8.309681\n",
      "Test RMSE in 2010= 12.546274\n",
      "1\n"
     ]
    },
    {
     "name": "stderr",
     "output_type": "stream",
     "text": [
      "/nfs/b0122/Users/eeeeb/miniconda3/envs/pangeo2/lib/python3.9/site-packages/sklearn/base.py:445: UserWarning: X does not have valid feature names, but RandomForestRegressor was fitted with feature names\n",
      "  warnings.warn(\n"
     ]
    },
    {
     "name": "stdout",
     "output_type": "stream",
     "text": [
      "Train RMSE in = 8.109465\n",
      "Valid RMSE in = 8.200648\n",
      "Test RMSE in 2010= 12.547791\n",
      "2\n"
     ]
    },
    {
     "name": "stderr",
     "output_type": "stream",
     "text": [
      "/nfs/b0122/Users/eeeeb/miniconda3/envs/pangeo2/lib/python3.9/site-packages/sklearn/base.py:445: UserWarning: X does not have valid feature names, but RandomForestRegressor was fitted with feature names\n",
      "  warnings.warn(\n"
     ]
    },
    {
     "name": "stdout",
     "output_type": "stream",
     "text": [
      "Train RMSE in = 8.103309\n",
      "Valid RMSE in = 8.251267\n",
      "Test RMSE in 2010= 12.542322\n",
      "3\n"
     ]
    },
    {
     "name": "stderr",
     "output_type": "stream",
     "text": [
      "/nfs/b0122/Users/eeeeb/miniconda3/envs/pangeo2/lib/python3.9/site-packages/sklearn/base.py:445: UserWarning: X does not have valid feature names, but RandomForestRegressor was fitted with feature names\n",
      "  warnings.warn(\n"
     ]
    },
    {
     "name": "stdout",
     "output_type": "stream",
     "text": [
      "Train RMSE in = 8.073937\n",
      "Valid RMSE in = 8.360201\n",
      "Test RMSE in 2010= 12.543728\n",
      "4\n"
     ]
    },
    {
     "name": "stderr",
     "output_type": "stream",
     "text": [
      "/nfs/b0122/Users/eeeeb/miniconda3/envs/pangeo2/lib/python3.9/site-packages/sklearn/base.py:445: UserWarning: X does not have valid feature names, but RandomForestRegressor was fitted with feature names\n",
      "  warnings.warn(\n"
     ]
    },
    {
     "name": "stdout",
     "output_type": "stream",
     "text": [
      "Train RMSE in = 8.107361\n",
      "Valid RMSE in = 8.237311\n",
      "Test RMSE in 2010= 12.541776\n",
      "2011\n",
      "0\n"
     ]
    },
    {
     "name": "stderr",
     "output_type": "stream",
     "text": [
      "/nfs/b0122/Users/eeeeb/miniconda3/envs/pangeo2/lib/python3.9/site-packages/sklearn/base.py:445: UserWarning: X does not have valid feature names, but RandomForestRegressor was fitted with feature names\n",
      "  warnings.warn(\n"
     ]
    },
    {
     "name": "stdout",
     "output_type": "stream",
     "text": [
      "Train RMSE in = 8.561495\n",
      "Valid RMSE in = 8.6726\n",
      "Test RMSE in 2011= 4.402183\n",
      "1\n"
     ]
    },
    {
     "name": "stderr",
     "output_type": "stream",
     "text": [
      "/nfs/b0122/Users/eeeeb/miniconda3/envs/pangeo2/lib/python3.9/site-packages/sklearn/base.py:445: UserWarning: X does not have valid feature names, but RandomForestRegressor was fitted with feature names\n",
      "  warnings.warn(\n"
     ]
    },
    {
     "name": "stdout",
     "output_type": "stream",
     "text": [
      "Train RMSE in = 8.545152\n",
      "Valid RMSE in = 8.747246\n",
      "Test RMSE in 2011= 4.436126\n",
      "2\n"
     ]
    },
    {
     "name": "stderr",
     "output_type": "stream",
     "text": [
      "/nfs/b0122/Users/eeeeb/miniconda3/envs/pangeo2/lib/python3.9/site-packages/sklearn/base.py:445: UserWarning: X does not have valid feature names, but RandomForestRegressor was fitted with feature names\n",
      "  warnings.warn(\n"
     ]
    },
    {
     "name": "stdout",
     "output_type": "stream",
     "text": [
      "Train RMSE in = 8.531066\n",
      "Valid RMSE in = 8.805509\n",
      "Test RMSE in 2011= 4.412727\n",
      "3\n"
     ]
    },
    {
     "name": "stderr",
     "output_type": "stream",
     "text": [
      "/nfs/b0122/Users/eeeeb/miniconda3/envs/pangeo2/lib/python3.9/site-packages/sklearn/base.py:445: UserWarning: X does not have valid feature names, but RandomForestRegressor was fitted with feature names\n",
      "  warnings.warn(\n"
     ]
    },
    {
     "name": "stdout",
     "output_type": "stream",
     "text": [
      "Train RMSE in = 8.560136\n",
      "Valid RMSE in = 8.671402\n",
      "Test RMSE in 2011= 4.444095\n",
      "4\n"
     ]
    },
    {
     "name": "stderr",
     "output_type": "stream",
     "text": [
      "/nfs/b0122/Users/eeeeb/miniconda3/envs/pangeo2/lib/python3.9/site-packages/sklearn/base.py:445: UserWarning: X does not have valid feature names, but RandomForestRegressor was fitted with feature names\n",
      "  warnings.warn(\n"
     ]
    },
    {
     "name": "stdout",
     "output_type": "stream",
     "text": [
      "Train RMSE in = 8.531455\n",
      "Valid RMSE in = 8.796491\n",
      "Test RMSE in 2011= 4.43753\n",
      "2012\n",
      "0\n"
     ]
    },
    {
     "name": "stderr",
     "output_type": "stream",
     "text": [
      "/nfs/b0122/Users/eeeeb/miniconda3/envs/pangeo2/lib/python3.9/site-packages/sklearn/base.py:445: UserWarning: X does not have valid feature names, but RandomForestRegressor was fitted with feature names\n",
      "  warnings.warn(\n"
     ]
    },
    {
     "name": "stdout",
     "output_type": "stream",
     "text": [
      "Train RMSE in = 8.495015\n",
      "Valid RMSE in = 8.645854\n",
      "Test RMSE in 2012= 6.047928\n",
      "1\n"
     ]
    },
    {
     "name": "stderr",
     "output_type": "stream",
     "text": [
      "/nfs/b0122/Users/eeeeb/miniconda3/envs/pangeo2/lib/python3.9/site-packages/sklearn/base.py:445: UserWarning: X does not have valid feature names, but RandomForestRegressor was fitted with feature names\n",
      "  warnings.warn(\n"
     ]
    },
    {
     "name": "stdout",
     "output_type": "stream",
     "text": [
      "Train RMSE in = 8.489679\n",
      "Valid RMSE in = 8.693925\n",
      "Test RMSE in 2012= 6.055935\n",
      "2\n"
     ]
    },
    {
     "name": "stderr",
     "output_type": "stream",
     "text": [
      "/nfs/b0122/Users/eeeeb/miniconda3/envs/pangeo2/lib/python3.9/site-packages/sklearn/base.py:445: UserWarning: X does not have valid feature names, but RandomForestRegressor was fitted with feature names\n",
      "  warnings.warn(\n"
     ]
    },
    {
     "name": "stdout",
     "output_type": "stream",
     "text": [
      "Train RMSE in = 8.481741\n",
      "Valid RMSE in = 8.717638\n",
      "Test RMSE in 2012= 6.041814\n",
      "3\n"
     ]
    },
    {
     "name": "stderr",
     "output_type": "stream",
     "text": [
      "/nfs/b0122/Users/eeeeb/miniconda3/envs/pangeo2/lib/python3.9/site-packages/sklearn/base.py:445: UserWarning: X does not have valid feature names, but RandomForestRegressor was fitted with feature names\n",
      "  warnings.warn(\n"
     ]
    },
    {
     "name": "stdout",
     "output_type": "stream",
     "text": [
      "Train RMSE in = 8.501733\n",
      "Valid RMSE in = 8.630613\n",
      "Test RMSE in 2012= 6.050416\n",
      "4\n"
     ]
    },
    {
     "name": "stderr",
     "output_type": "stream",
     "text": [
      "/nfs/b0122/Users/eeeeb/miniconda3/envs/pangeo2/lib/python3.9/site-packages/sklearn/base.py:445: UserWarning: X does not have valid feature names, but RandomForestRegressor was fitted with feature names\n",
      "  warnings.warn(\n"
     ]
    },
    {
     "name": "stdout",
     "output_type": "stream",
     "text": [
      "Train RMSE in = 8.483021\n",
      "Valid RMSE in = 8.715713\n",
      "Test RMSE in 2012= 6.034373\n",
      "2013\n",
      "0\n"
     ]
    },
    {
     "name": "stderr",
     "output_type": "stream",
     "text": [
      "/nfs/b0122/Users/eeeeb/miniconda3/envs/pangeo2/lib/python3.9/site-packages/sklearn/base.py:445: UserWarning: X does not have valid feature names, but RandomForestRegressor was fitted with feature names\n",
      "  warnings.warn(\n"
     ]
    },
    {
     "name": "stdout",
     "output_type": "stream",
     "text": [
      "Train RMSE in = 8.58279\n",
      "Valid RMSE in = 8.701987\n",
      "Test RMSE in 2013= 3.384547\n",
      "1\n"
     ]
    },
    {
     "name": "stderr",
     "output_type": "stream",
     "text": [
      "/nfs/b0122/Users/eeeeb/miniconda3/envs/pangeo2/lib/python3.9/site-packages/sklearn/base.py:445: UserWarning: X does not have valid feature names, but RandomForestRegressor was fitted with feature names\n",
      "  warnings.warn(\n"
     ]
    },
    {
     "name": "stdout",
     "output_type": "stream",
     "text": [
      "Train RMSE in = 8.572231\n",
      "Valid RMSE in = 8.773167\n",
      "Test RMSE in 2013= 3.392896\n",
      "2\n"
     ]
    },
    {
     "name": "stderr",
     "output_type": "stream",
     "text": [
      "/nfs/b0122/Users/eeeeb/miniconda3/envs/pangeo2/lib/python3.9/site-packages/sklearn/base.py:445: UserWarning: X does not have valid feature names, but RandomForestRegressor was fitted with feature names\n",
      "  warnings.warn(\n"
     ]
    },
    {
     "name": "stdout",
     "output_type": "stream",
     "text": [
      "Train RMSE in = 8.561187\n",
      "Valid RMSE in = 8.819407\n",
      "Test RMSE in 2013= 3.376344\n",
      "3\n"
     ]
    },
    {
     "name": "stderr",
     "output_type": "stream",
     "text": [
      "/nfs/b0122/Users/eeeeb/miniconda3/envs/pangeo2/lib/python3.9/site-packages/sklearn/base.py:445: UserWarning: X does not have valid feature names, but RandomForestRegressor was fitted with feature names\n",
      "  warnings.warn(\n"
     ]
    },
    {
     "name": "stdout",
     "output_type": "stream",
     "text": [
      "Train RMSE in = 8.590176\n",
      "Valid RMSE in = 8.716148\n",
      "Test RMSE in 2013= 3.403845\n",
      "4\n"
     ]
    },
    {
     "name": "stderr",
     "output_type": "stream",
     "text": [
      "/nfs/b0122/Users/eeeeb/miniconda3/envs/pangeo2/lib/python3.9/site-packages/sklearn/base.py:445: UserWarning: X does not have valid feature names, but RandomForestRegressor was fitted with feature names\n",
      "  warnings.warn(\n"
     ]
    },
    {
     "name": "stdout",
     "output_type": "stream",
     "text": [
      "Train RMSE in = 8.570964\n",
      "Valid RMSE in = 8.803819\n",
      "Test RMSE in 2013= 3.375976\n",
      "2014\n",
      "0\n"
     ]
    },
    {
     "name": "stderr",
     "output_type": "stream",
     "text": [
      "/nfs/b0122/Users/eeeeb/miniconda3/envs/pangeo2/lib/python3.9/site-packages/sklearn/base.py:445: UserWarning: X does not have valid feature names, but RandomForestRegressor was fitted with feature names\n",
      "  warnings.warn(\n"
     ]
    },
    {
     "name": "stdout",
     "output_type": "stream",
     "text": [
      "Train RMSE in = 8.536385\n",
      "Valid RMSE in = 8.64943\n",
      "Test RMSE in 2014= 5.092722\n",
      "1\n"
     ]
    },
    {
     "name": "stderr",
     "output_type": "stream",
     "text": [
      "/nfs/b0122/Users/eeeeb/miniconda3/envs/pangeo2/lib/python3.9/site-packages/sklearn/base.py:445: UserWarning: X does not have valid feature names, but RandomForestRegressor was fitted with feature names\n",
      "  warnings.warn(\n"
     ]
    },
    {
     "name": "stdout",
     "output_type": "stream",
     "text": [
      "Train RMSE in = 8.528013\n",
      "Valid RMSE in = 8.727033\n",
      "Test RMSE in 2014= 5.105877\n",
      "2\n"
     ]
    },
    {
     "name": "stderr",
     "output_type": "stream",
     "text": [
      "/nfs/b0122/Users/eeeeb/miniconda3/envs/pangeo2/lib/python3.9/site-packages/sklearn/base.py:445: UserWarning: X does not have valid feature names, but RandomForestRegressor was fitted with feature names\n",
      "  warnings.warn(\n"
     ]
    },
    {
     "name": "stdout",
     "output_type": "stream",
     "text": [
      "Train RMSE in = 8.512561\n",
      "Valid RMSE in = 8.794656\n",
      "Test RMSE in 2014= 5.105265\n",
      "3\n"
     ]
    },
    {
     "name": "stderr",
     "output_type": "stream",
     "text": [
      "/nfs/b0122/Users/eeeeb/miniconda3/envs/pangeo2/lib/python3.9/site-packages/sklearn/base.py:445: UserWarning: X does not have valid feature names, but RandomForestRegressor was fitted with feature names\n",
      "  warnings.warn(\n"
     ]
    },
    {
     "name": "stdout",
     "output_type": "stream",
     "text": [
      "Train RMSE in = 8.541002\n",
      "Valid RMSE in = 8.650986\n",
      "Test RMSE in 2014= 5.099889\n",
      "4\n"
     ]
    },
    {
     "name": "stderr",
     "output_type": "stream",
     "text": [
      "/nfs/b0122/Users/eeeeb/miniconda3/envs/pangeo2/lib/python3.9/site-packages/sklearn/base.py:445: UserWarning: X does not have valid feature names, but RandomForestRegressor was fitted with feature names\n",
      "  warnings.warn(\n"
     ]
    },
    {
     "name": "stdout",
     "output_type": "stream",
     "text": [
      "Train RMSE in = 8.522995\n",
      "Valid RMSE in = 8.765156\n",
      "Test RMSE in 2014= 5.093107\n",
      "2015\n",
      "0\n"
     ]
    },
    {
     "name": "stderr",
     "output_type": "stream",
     "text": [
      "/nfs/b0122/Users/eeeeb/miniconda3/envs/pangeo2/lib/python3.9/site-packages/sklearn/base.py:445: UserWarning: X does not have valid feature names, but RandomForestRegressor was fitted with feature names\n",
      "  warnings.warn(\n"
     ]
    },
    {
     "name": "stdout",
     "output_type": "stream",
     "text": [
      "Train RMSE in = 8.444237\n",
      "Valid RMSE in = 8.520532\n",
      "Test RMSE in 2015= 7.514722\n",
      "1\n"
     ]
    },
    {
     "name": "stderr",
     "output_type": "stream",
     "text": [
      "/nfs/b0122/Users/eeeeb/miniconda3/envs/pangeo2/lib/python3.9/site-packages/sklearn/base.py:445: UserWarning: X does not have valid feature names, but RandomForestRegressor was fitted with feature names\n",
      "  warnings.warn(\n"
     ]
    },
    {
     "name": "stdout",
     "output_type": "stream",
     "text": [
      "Train RMSE in = 8.41936\n",
      "Valid RMSE in = 8.63821\n",
      "Test RMSE in 2015= 7.480676\n",
      "2\n"
     ]
    },
    {
     "name": "stderr",
     "output_type": "stream",
     "text": [
      "/nfs/b0122/Users/eeeeb/miniconda3/envs/pangeo2/lib/python3.9/site-packages/sklearn/base.py:445: UserWarning: X does not have valid feature names, but RandomForestRegressor was fitted with feature names\n",
      "  warnings.warn(\n"
     ]
    },
    {
     "name": "stdout",
     "output_type": "stream",
     "text": [
      "Train RMSE in = 8.406591\n",
      "Valid RMSE in = 8.685741\n",
      "Test RMSE in 2015= 7.471037\n",
      "3\n"
     ]
    },
    {
     "name": "stderr",
     "output_type": "stream",
     "text": [
      "/nfs/b0122/Users/eeeeb/miniconda3/envs/pangeo2/lib/python3.9/site-packages/sklearn/base.py:445: UserWarning: X does not have valid feature names, but RandomForestRegressor was fitted with feature names\n",
      "  warnings.warn(\n"
     ]
    },
    {
     "name": "stdout",
     "output_type": "stream",
     "text": [
      "Train RMSE in = 8.439322\n",
      "Valid RMSE in = 8.566478\n",
      "Test RMSE in 2015= 7.495294\n",
      "4\n"
     ]
    },
    {
     "name": "stderr",
     "output_type": "stream",
     "text": [
      "/nfs/b0122/Users/eeeeb/miniconda3/envs/pangeo2/lib/python3.9/site-packages/sklearn/base.py:445: UserWarning: X does not have valid feature names, but RandomForestRegressor was fitted with feature names\n",
      "  warnings.warn(\n"
     ]
    },
    {
     "name": "stdout",
     "output_type": "stream",
     "text": [
      "Train RMSE in = 8.417303\n",
      "Valid RMSE in = 8.664388\n",
      "Test RMSE in 2015= 7.519248\n",
      "2016\n",
      "0\n"
     ]
    },
    {
     "name": "stderr",
     "output_type": "stream",
     "text": [
      "/nfs/b0122/Users/eeeeb/miniconda3/envs/pangeo2/lib/python3.9/site-packages/sklearn/base.py:445: UserWarning: X does not have valid feature names, but RandomForestRegressor was fitted with feature names\n",
      "  warnings.warn(\n"
     ]
    },
    {
     "name": "stdout",
     "output_type": "stream",
     "text": [
      "Train RMSE in = 8.467879\n",
      "Valid RMSE in = 8.559569\n",
      "Test RMSE in 2016= 6.906542\n",
      "1\n"
     ]
    },
    {
     "name": "stderr",
     "output_type": "stream",
     "text": [
      "/nfs/b0122/Users/eeeeb/miniconda3/envs/pangeo2/lib/python3.9/site-packages/sklearn/base.py:445: UserWarning: X does not have valid feature names, but RandomForestRegressor was fitted with feature names\n",
      "  warnings.warn(\n"
     ]
    },
    {
     "name": "stdout",
     "output_type": "stream",
     "text": [
      "Train RMSE in = 8.446421\n",
      "Valid RMSE in = 8.675623\n",
      "Test RMSE in 2016= 6.899853\n",
      "2\n"
     ]
    },
    {
     "name": "stderr",
     "output_type": "stream",
     "text": [
      "/nfs/b0122/Users/eeeeb/miniconda3/envs/pangeo2/lib/python3.9/site-packages/sklearn/base.py:445: UserWarning: X does not have valid feature names, but RandomForestRegressor was fitted with feature names\n",
      "  warnings.warn(\n"
     ]
    },
    {
     "name": "stdout",
     "output_type": "stream",
     "text": [
      "Train RMSE in = 8.431759\n",
      "Valid RMSE in = 8.738432\n",
      "Test RMSE in 2016= 6.879921\n",
      "3\n"
     ]
    },
    {
     "name": "stderr",
     "output_type": "stream",
     "text": [
      "/nfs/b0122/Users/eeeeb/miniconda3/envs/pangeo2/lib/python3.9/site-packages/sklearn/base.py:445: UserWarning: X does not have valid feature names, but RandomForestRegressor was fitted with feature names\n",
      "  warnings.warn(\n"
     ]
    },
    {
     "name": "stdout",
     "output_type": "stream",
     "text": [
      "Train RMSE in = 8.473132\n",
      "Valid RMSE in = 8.577908\n",
      "Test RMSE in 2016= 6.901444\n",
      "4\n"
     ]
    },
    {
     "name": "stderr",
     "output_type": "stream",
     "text": [
      "/nfs/b0122/Users/eeeeb/miniconda3/envs/pangeo2/lib/python3.9/site-packages/sklearn/base.py:445: UserWarning: X does not have valid feature names, but RandomForestRegressor was fitted with feature names\n",
      "  warnings.warn(\n"
     ]
    },
    {
     "name": "stdout",
     "output_type": "stream",
     "text": [
      "Train RMSE in = 8.451543\n",
      "Valid RMSE in = 8.671259\n",
      "Test RMSE in 2016= 6.846953\n",
      "2017\n",
      "0\n"
     ]
    },
    {
     "name": "stderr",
     "output_type": "stream",
     "text": [
      "/nfs/b0122/Users/eeeeb/miniconda3/envs/pangeo2/lib/python3.9/site-packages/sklearn/base.py:445: UserWarning: X does not have valid feature names, but RandomForestRegressor was fitted with feature names\n",
      "  warnings.warn(\n"
     ]
    },
    {
     "name": "stdout",
     "output_type": "stream",
     "text": [
      "Train RMSE in = 8.474634\n",
      "Valid RMSE in = 8.508931\n",
      "Test RMSE in 2017= 7.145493\n",
      "1\n"
     ]
    },
    {
     "name": "stderr",
     "output_type": "stream",
     "text": [
      "/nfs/b0122/Users/eeeeb/miniconda3/envs/pangeo2/lib/python3.9/site-packages/sklearn/base.py:445: UserWarning: X does not have valid feature names, but RandomForestRegressor was fitted with feature names\n",
      "  warnings.warn(\n"
     ]
    },
    {
     "name": "stdout",
     "output_type": "stream",
     "text": [
      "Train RMSE in = 8.423382\n",
      "Valid RMSE in = 8.704456\n",
      "Test RMSE in 2017= 7.145683\n",
      "2\n"
     ]
    },
    {
     "name": "stderr",
     "output_type": "stream",
     "text": [
      "/nfs/b0122/Users/eeeeb/miniconda3/envs/pangeo2/lib/python3.9/site-packages/sklearn/base.py:445: UserWarning: X does not have valid feature names, but RandomForestRegressor was fitted with feature names\n",
      "  warnings.warn(\n"
     ]
    },
    {
     "name": "stdout",
     "output_type": "stream",
     "text": [
      "Train RMSE in = 8.425234\n",
      "Valid RMSE in = 8.709547\n",
      "Test RMSE in 2017= 7.154649\n",
      "3\n"
     ]
    },
    {
     "name": "stderr",
     "output_type": "stream",
     "text": [
      "/nfs/b0122/Users/eeeeb/miniconda3/envs/pangeo2/lib/python3.9/site-packages/sklearn/base.py:445: UserWarning: X does not have valid feature names, but RandomForestRegressor was fitted with feature names\n",
      "  warnings.warn(\n"
     ]
    },
    {
     "name": "stdout",
     "output_type": "stream",
     "text": [
      "Train RMSE in = 8.459127\n",
      "Valid RMSE in = 8.583057\n",
      "Test RMSE in 2017= 7.164698\n",
      "4\n"
     ]
    },
    {
     "name": "stderr",
     "output_type": "stream",
     "text": [
      "/nfs/b0122/Users/eeeeb/miniconda3/envs/pangeo2/lib/python3.9/site-packages/sklearn/base.py:445: UserWarning: X does not have valid feature names, but RandomForestRegressor was fitted with feature names\n",
      "  warnings.warn(\n"
     ]
    },
    {
     "name": "stdout",
     "output_type": "stream",
     "text": [
      "Train RMSE in = 8.448658\n",
      "Valid RMSE in = 8.672356\n",
      "Test RMSE in 2017= 7.162676\n",
      "2018\n",
      "0\n"
     ]
    },
    {
     "name": "stderr",
     "output_type": "stream",
     "text": [
      "/nfs/b0122/Users/eeeeb/miniconda3/envs/pangeo2/lib/python3.9/site-packages/sklearn/base.py:445: UserWarning: X does not have valid feature names, but RandomForestRegressor was fitted with feature names\n",
      "  warnings.warn(\n"
     ]
    },
    {
     "name": "stdout",
     "output_type": "stream",
     "text": [
      "Train RMSE in = 8.554037\n",
      "Valid RMSE in = 8.593551\n",
      "Test RMSE in 2018= 5.118629\n",
      "1\n"
     ]
    },
    {
     "name": "stderr",
     "output_type": "stream",
     "text": [
      "/nfs/b0122/Users/eeeeb/miniconda3/envs/pangeo2/lib/python3.9/site-packages/sklearn/base.py:445: UserWarning: X does not have valid feature names, but RandomForestRegressor was fitted with feature names\n",
      "  warnings.warn(\n"
     ]
    },
    {
     "name": "stdout",
     "output_type": "stream",
     "text": [
      "Train RMSE in = 8.513587\n",
      "Valid RMSE in = 8.78383\n",
      "Test RMSE in 2018= 5.117601\n",
      "2\n"
     ]
    },
    {
     "name": "stderr",
     "output_type": "stream",
     "text": [
      "/nfs/b0122/Users/eeeeb/miniconda3/envs/pangeo2/lib/python3.9/site-packages/sklearn/base.py:445: UserWarning: X does not have valid feature names, but RandomForestRegressor was fitted with feature names\n",
      "  warnings.warn(\n"
     ]
    },
    {
     "name": "stdout",
     "output_type": "stream",
     "text": [
      "Train RMSE in = 8.509003\n",
      "Valid RMSE in = 8.770117\n",
      "Test RMSE in 2018= 5.101332\n",
      "3\n"
     ]
    },
    {
     "name": "stderr",
     "output_type": "stream",
     "text": [
      "/nfs/b0122/Users/eeeeb/miniconda3/envs/pangeo2/lib/python3.9/site-packages/sklearn/base.py:445: UserWarning: X does not have valid feature names, but RandomForestRegressor was fitted with feature names\n",
      "  warnings.warn(\n"
     ]
    },
    {
     "name": "stdout",
     "output_type": "stream",
     "text": [
      "Train RMSE in = 8.530861\n",
      "Valid RMSE in = 8.674585\n",
      "Test RMSE in 2018= 5.125097\n",
      "4\n"
     ]
    },
    {
     "name": "stderr",
     "output_type": "stream",
     "text": [
      "/nfs/b0122/Users/eeeeb/miniconda3/envs/pangeo2/lib/python3.9/site-packages/sklearn/base.py:445: UserWarning: X does not have valid feature names, but RandomForestRegressor was fitted with feature names\n",
      "  warnings.warn(\n"
     ]
    },
    {
     "name": "stdout",
     "output_type": "stream",
     "text": [
      "Train RMSE in = 8.527317\n",
      "Valid RMSE in = 8.746659\n",
      "Test RMSE in 2018= 5.095034\n",
      "2019\n",
      "0\n"
     ]
    },
    {
     "name": "stderr",
     "output_type": "stream",
     "text": [
      "/nfs/b0122/Users/eeeeb/miniconda3/envs/pangeo2/lib/python3.9/site-packages/sklearn/base.py:445: UserWarning: X does not have valid feature names, but RandomForestRegressor was fitted with feature names\n",
      "  warnings.warn(\n"
     ]
    },
    {
     "name": "stdout",
     "output_type": "stream",
     "text": [
      "Train RMSE in = 8.421041\n",
      "Valid RMSE in = 8.424379\n",
      "Test RMSE in 2019= 8.262346\n",
      "1\n"
     ]
    },
    {
     "name": "stderr",
     "output_type": "stream",
     "text": [
      "/nfs/b0122/Users/eeeeb/miniconda3/envs/pangeo2/lib/python3.9/site-packages/sklearn/base.py:445: UserWarning: X does not have valid feature names, but RandomForestRegressor was fitted with feature names\n",
      "  warnings.warn(\n"
     ]
    },
    {
     "name": "stdout",
     "output_type": "stream",
     "text": [
      "Train RMSE in = 8.377629\n",
      "Valid RMSE in = 8.620203\n",
      "Test RMSE in 2019= 8.271889\n",
      "2\n"
     ]
    },
    {
     "name": "stderr",
     "output_type": "stream",
     "text": [
      "/nfs/b0122/Users/eeeeb/miniconda3/envs/pangeo2/lib/python3.9/site-packages/sklearn/base.py:445: UserWarning: X does not have valid feature names, but RandomForestRegressor was fitted with feature names\n",
      "  warnings.warn(\n"
     ]
    },
    {
     "name": "stdout",
     "output_type": "stream",
     "text": [
      "Train RMSE in = 8.370085\n",
      "Valid RMSE in = 8.647307\n",
      "Test RMSE in 2019= 8.253358\n",
      "3\n"
     ]
    },
    {
     "name": "stderr",
     "output_type": "stream",
     "text": [
      "/nfs/b0122/Users/eeeeb/miniconda3/envs/pangeo2/lib/python3.9/site-packages/sklearn/base.py:445: UserWarning: X does not have valid feature names, but RandomForestRegressor was fitted with feature names\n",
      "  warnings.warn(\n"
     ]
    },
    {
     "name": "stdout",
     "output_type": "stream",
     "text": [
      "Train RMSE in = 8.394275\n",
      "Valid RMSE in = 8.544585\n",
      "Test RMSE in 2019= 8.294385\n",
      "4\n"
     ]
    },
    {
     "name": "stderr",
     "output_type": "stream",
     "text": [
      "/nfs/b0122/Users/eeeeb/miniconda3/envs/pangeo2/lib/python3.9/site-packages/sklearn/base.py:445: UserWarning: X does not have valid feature names, but RandomForestRegressor was fitted with feature names\n",
      "  warnings.warn(\n"
     ]
    },
    {
     "name": "stdout",
     "output_type": "stream",
     "text": [
      "Train RMSE in = 8.381991\n",
      "Valid RMSE in = 8.624552\n",
      "Test RMSE in 2019= 8.261852\n",
      "2020\n",
      "0\n"
     ]
    },
    {
     "name": "stderr",
     "output_type": "stream",
     "text": [
      "/nfs/b0122/Users/eeeeb/miniconda3/envs/pangeo2/lib/python3.9/site-packages/sklearn/base.py:445: UserWarning: X does not have valid feature names, but RandomForestRegressor was fitted with feature names\n",
      "  warnings.warn(\n"
     ]
    },
    {
     "name": "stdout",
     "output_type": "stream",
     "text": [
      "Train RMSE in = 8.468793\n",
      "Valid RMSE in = 8.46858\n",
      "Test RMSE in 2020= 7.311971\n",
      "1\n"
     ]
    },
    {
     "name": "stderr",
     "output_type": "stream",
     "text": [
      "/nfs/b0122/Users/eeeeb/miniconda3/envs/pangeo2/lib/python3.9/site-packages/sklearn/base.py:445: UserWarning: X does not have valid feature names, but RandomForestRegressor was fitted with feature names\n",
      "  warnings.warn(\n"
     ]
    },
    {
     "name": "stdout",
     "output_type": "stream",
     "text": [
      "Train RMSE in = 8.418705\n",
      "Valid RMSE in = 8.689635\n",
      "Test RMSE in 2020= 7.317487\n",
      "2\n"
     ]
    },
    {
     "name": "stderr",
     "output_type": "stream",
     "text": [
      "/nfs/b0122/Users/eeeeb/miniconda3/envs/pangeo2/lib/python3.9/site-packages/sklearn/base.py:445: UserWarning: X does not have valid feature names, but RandomForestRegressor was fitted with feature names\n",
      "  warnings.warn(\n"
     ]
    },
    {
     "name": "stdout",
     "output_type": "stream",
     "text": [
      "Train RMSE in = 8.408789\n",
      "Valid RMSE in = 8.743301\n",
      "Test RMSE in 2020= 7.335278\n",
      "3\n"
     ]
    },
    {
     "name": "stderr",
     "output_type": "stream",
     "text": [
      "/nfs/b0122/Users/eeeeb/miniconda3/envs/pangeo2/lib/python3.9/site-packages/sklearn/base.py:445: UserWarning: X does not have valid feature names, but RandomForestRegressor was fitted with feature names\n",
      "  warnings.warn(\n"
     ]
    },
    {
     "name": "stdout",
     "output_type": "stream",
     "text": [
      "Train RMSE in = 8.453204\n",
      "Valid RMSE in = 8.540263\n",
      "Test RMSE in 2020= 7.332609\n",
      "4\n"
     ]
    },
    {
     "name": "stderr",
     "output_type": "stream",
     "text": [
      "/nfs/b0122/Users/eeeeb/miniconda3/envs/pangeo2/lib/python3.9/site-packages/sklearn/base.py:445: UserWarning: X does not have valid feature names, but RandomForestRegressor was fitted with feature names\n",
      "  warnings.warn(\n"
     ]
    },
    {
     "name": "stdout",
     "output_type": "stream",
     "text": [
      "Train RMSE in = 8.429308\n",
      "Valid RMSE in = 8.678466\n",
      "Test RMSE in 2020= 7.300854\n",
      "Sim_Clim+LU\n",
      "2003\n",
      "0\n"
     ]
    },
    {
     "name": "stderr",
     "output_type": "stream",
     "text": [
      "/nfs/b0122/Users/eeeeb/miniconda3/envs/pangeo2/lib/python3.9/site-packages/sklearn/base.py:445: UserWarning: X does not have valid feature names, but RandomForestRegressor was fitted with feature names\n",
      "  warnings.warn(\n"
     ]
    },
    {
     "name": "stdout",
     "output_type": "stream",
     "text": [
      "Train RMSE in = 7.793416\n",
      "Valid RMSE in = 7.716442\n",
      "Test RMSE in 2003= 9.194798\n",
      "1\n"
     ]
    },
    {
     "name": "stderr",
     "output_type": "stream",
     "text": [
      "/nfs/b0122/Users/eeeeb/miniconda3/envs/pangeo2/lib/python3.9/site-packages/sklearn/base.py:445: UserWarning: X does not have valid feature names, but RandomForestRegressor was fitted with feature names\n",
      "  warnings.warn(\n"
     ]
    },
    {
     "name": "stdout",
     "output_type": "stream",
     "text": [
      "Train RMSE in = 7.723488\n",
      "Valid RMSE in = 7.975196\n",
      "Test RMSE in 2003= 9.208095\n",
      "2\n"
     ]
    },
    {
     "name": "stderr",
     "output_type": "stream",
     "text": [
      "/nfs/b0122/Users/eeeeb/miniconda3/envs/pangeo2/lib/python3.9/site-packages/sklearn/base.py:445: UserWarning: X does not have valid feature names, but RandomForestRegressor was fitted with feature names\n",
      "  warnings.warn(\n"
     ]
    },
    {
     "name": "stdout",
     "output_type": "stream",
     "text": [
      "Train RMSE in = 7.619117\n",
      "Valid RMSE in = 8.386317\n",
      "Test RMSE in 2003= 9.223255\n",
      "3\n"
     ]
    },
    {
     "name": "stderr",
     "output_type": "stream",
     "text": [
      "/nfs/b0122/Users/eeeeb/miniconda3/envs/pangeo2/lib/python3.9/site-packages/sklearn/base.py:445: UserWarning: X does not have valid feature names, but RandomForestRegressor was fitted with feature names\n",
      "  warnings.warn(\n"
     ]
    },
    {
     "name": "stdout",
     "output_type": "stream",
     "text": [
      "Train RMSE in = 7.691452\n",
      "Valid RMSE in = 8.142271\n",
      "Test RMSE in 2003= 9.232004\n",
      "4\n"
     ]
    },
    {
     "name": "stderr",
     "output_type": "stream",
     "text": [
      "/nfs/b0122/Users/eeeeb/miniconda3/envs/pangeo2/lib/python3.9/site-packages/sklearn/base.py:445: UserWarning: X does not have valid feature names, but RandomForestRegressor was fitted with feature names\n",
      "  warnings.warn(\n"
     ]
    },
    {
     "name": "stdout",
     "output_type": "stream",
     "text": [
      "Train RMSE in = 7.850471\n",
      "Valid RMSE in = 7.440037\n",
      "Test RMSE in 2003= 9.206678\n",
      "2004\n",
      "0\n"
     ]
    },
    {
     "name": "stderr",
     "output_type": "stream",
     "text": [
      "/nfs/b0122/Users/eeeeb/miniconda3/envs/pangeo2/lib/python3.9/site-packages/sklearn/base.py:445: UserWarning: X does not have valid feature names, but RandomForestRegressor was fitted with feature names\n",
      "  warnings.warn(\n"
     ]
    },
    {
     "name": "stdout",
     "output_type": "stream",
     "text": [
      "Train RMSE in = 7.594393\n",
      "Valid RMSE in = 7.511522\n",
      "Test RMSE in 2004= 11.859621\n",
      "1\n"
     ]
    },
    {
     "name": "stderr",
     "output_type": "stream",
     "text": [
      "/nfs/b0122/Users/eeeeb/miniconda3/envs/pangeo2/lib/python3.9/site-packages/sklearn/base.py:445: UserWarning: X does not have valid feature names, but RandomForestRegressor was fitted with feature names\n",
      "  warnings.warn(\n"
     ]
    },
    {
     "name": "stdout",
     "output_type": "stream",
     "text": [
      "Train RMSE in = 7.544886\n",
      "Valid RMSE in = 7.707564\n",
      "Test RMSE in 2004= 11.858016\n",
      "2\n"
     ]
    },
    {
     "name": "stderr",
     "output_type": "stream",
     "text": [
      "/nfs/b0122/Users/eeeeb/miniconda3/envs/pangeo2/lib/python3.9/site-packages/sklearn/base.py:445: UserWarning: X does not have valid feature names, but RandomForestRegressor was fitted with feature names\n",
      "  warnings.warn(\n"
     ]
    },
    {
     "name": "stdout",
     "output_type": "stream",
     "text": [
      "Train RMSE in = 7.438263\n",
      "Valid RMSE in = 8.109572\n",
      "Test RMSE in 2004= 11.879642\n",
      "3\n"
     ]
    },
    {
     "name": "stderr",
     "output_type": "stream",
     "text": [
      "/nfs/b0122/Users/eeeeb/miniconda3/envs/pangeo2/lib/python3.9/site-packages/sklearn/base.py:445: UserWarning: X does not have valid feature names, but RandomForestRegressor was fitted with feature names\n",
      "  warnings.warn(\n"
     ]
    },
    {
     "name": "stdout",
     "output_type": "stream",
     "text": [
      "Train RMSE in = 7.481573\n",
      "Valid RMSE in = 7.981767\n",
      "Test RMSE in 2004= 11.887266\n",
      "4\n"
     ]
    },
    {
     "name": "stderr",
     "output_type": "stream",
     "text": [
      "/nfs/b0122/Users/eeeeb/miniconda3/envs/pangeo2/lib/python3.9/site-packages/sklearn/base.py:445: UserWarning: X does not have valid feature names, but RandomForestRegressor was fitted with feature names\n",
      "  warnings.warn(\n"
     ]
    },
    {
     "name": "stdout",
     "output_type": "stream",
     "text": [
      "Train RMSE in = 7.633293\n",
      "Valid RMSE in = 7.362963\n",
      "Test RMSE in 2004= 11.869894\n",
      "2005\n",
      "0\n"
     ]
    },
    {
     "name": "stderr",
     "output_type": "stream",
     "text": [
      "/nfs/b0122/Users/eeeeb/miniconda3/envs/pangeo2/lib/python3.9/site-packages/sklearn/base.py:445: UserWarning: X does not have valid feature names, but RandomForestRegressor was fitted with feature names\n",
      "  warnings.warn(\n"
     ]
    },
    {
     "name": "stdout",
     "output_type": "stream",
     "text": [
      "Train RMSE in = 7.398737\n",
      "Valid RMSE in = 7.300063\n",
      "Test RMSE in 2005= 14.063243\n",
      "1\n"
     ]
    },
    {
     "name": "stderr",
     "output_type": "stream",
     "text": [
      "/nfs/b0122/Users/eeeeb/miniconda3/envs/pangeo2/lib/python3.9/site-packages/sklearn/base.py:445: UserWarning: X does not have valid feature names, but RandomForestRegressor was fitted with feature names\n",
      "  warnings.warn(\n"
     ]
    },
    {
     "name": "stdout",
     "output_type": "stream",
     "text": [
      "Train RMSE in = 7.336113\n",
      "Valid RMSE in = 7.555456\n",
      "Test RMSE in 2005= 14.021944\n",
      "2\n"
     ]
    },
    {
     "name": "stderr",
     "output_type": "stream",
     "text": [
      "/nfs/b0122/Users/eeeeb/miniconda3/envs/pangeo2/lib/python3.9/site-packages/sklearn/base.py:445: UserWarning: X does not have valid feature names, but RandomForestRegressor was fitted with feature names\n",
      "  warnings.warn(\n"
     ]
    },
    {
     "name": "stdout",
     "output_type": "stream",
     "text": [
      "Train RMSE in = 7.235541\n",
      "Valid RMSE in = 7.977903\n",
      "Test RMSE in 2005= 14.121481\n",
      "3\n"
     ]
    },
    {
     "name": "stderr",
     "output_type": "stream",
     "text": [
      "/nfs/b0122/Users/eeeeb/miniconda3/envs/pangeo2/lib/python3.9/site-packages/sklearn/base.py:445: UserWarning: X does not have valid feature names, but RandomForestRegressor was fitted with feature names\n",
      "  warnings.warn(\n"
     ]
    },
    {
     "name": "stdout",
     "output_type": "stream",
     "text": [
      "Train RMSE in = 7.317004\n",
      "Valid RMSE in = 7.644737\n",
      "Test RMSE in 2005= 14.047319\n",
      "4\n"
     ]
    },
    {
     "name": "stderr",
     "output_type": "stream",
     "text": [
      "/nfs/b0122/Users/eeeeb/miniconda3/envs/pangeo2/lib/python3.9/site-packages/sklearn/base.py:445: UserWarning: X does not have valid feature names, but RandomForestRegressor was fitted with feature names\n",
      "  warnings.warn(\n"
     ]
    },
    {
     "name": "stdout",
     "output_type": "stream",
     "text": [
      "Train RMSE in = 7.425845\n",
      "Valid RMSE in = 7.18027\n",
      "Test RMSE in 2005= 14.091146\n",
      "2006\n",
      "0\n"
     ]
    },
    {
     "name": "stderr",
     "output_type": "stream",
     "text": [
      "/nfs/b0122/Users/eeeeb/miniconda3/envs/pangeo2/lib/python3.9/site-packages/sklearn/base.py:445: UserWarning: X does not have valid feature names, but RandomForestRegressor was fitted with feature names\n",
      "  warnings.warn(\n"
     ]
    },
    {
     "name": "stdout",
     "output_type": "stream",
     "text": [
      "Train RMSE in = 7.815926\n",
      "Valid RMSE in = 7.853243\n",
      "Test RMSE in 2006= 8.625046\n",
      "1\n"
     ]
    },
    {
     "name": "stderr",
     "output_type": "stream",
     "text": [
      "/nfs/b0122/Users/eeeeb/miniconda3/envs/pangeo2/lib/python3.9/site-packages/sklearn/base.py:445: UserWarning: X does not have valid feature names, but RandomForestRegressor was fitted with feature names\n",
      "  warnings.warn(\n"
     ]
    },
    {
     "name": "stdout",
     "output_type": "stream",
     "text": [
      "Train RMSE in = 7.757219\n",
      "Valid RMSE in = 8.068483\n",
      "Test RMSE in 2006= 8.624267\n",
      "2\n"
     ]
    },
    {
     "name": "stderr",
     "output_type": "stream",
     "text": [
      "/nfs/b0122/Users/eeeeb/miniconda3/envs/pangeo2/lib/python3.9/site-packages/sklearn/base.py:445: UserWarning: X does not have valid feature names, but RandomForestRegressor was fitted with feature names\n",
      "  warnings.warn(\n"
     ]
    },
    {
     "name": "stdout",
     "output_type": "stream",
     "text": [
      "Train RMSE in = 7.708042\n",
      "Valid RMSE in = 8.280578\n",
      "Test RMSE in 2006= 8.656378\n",
      "3\n"
     ]
    },
    {
     "name": "stderr",
     "output_type": "stream",
     "text": [
      "/nfs/b0122/Users/eeeeb/miniconda3/envs/pangeo2/lib/python3.9/site-packages/sklearn/base.py:445: UserWarning: X does not have valid feature names, but RandomForestRegressor was fitted with feature names\n",
      "  warnings.warn(\n"
     ]
    },
    {
     "name": "stdout",
     "output_type": "stream",
     "text": [
      "Train RMSE in = 7.751721\n",
      "Valid RMSE in = 8.109168\n",
      "Test RMSE in 2006= 8.618667\n",
      "4\n"
     ]
    },
    {
     "name": "stderr",
     "output_type": "stream",
     "text": [
      "/nfs/b0122/Users/eeeeb/miniconda3/envs/pangeo2/lib/python3.9/site-packages/sklearn/base.py:445: UserWarning: X does not have valid feature names, but RandomForestRegressor was fitted with feature names\n",
      "  warnings.warn(\n"
     ]
    },
    {
     "name": "stdout",
     "output_type": "stream",
     "text": [
      "Train RMSE in = 7.870052\n",
      "Valid RMSE in = 7.569865\n",
      "Test RMSE in 2006= 8.629022\n",
      "2007\n",
      "0\n"
     ]
    },
    {
     "name": "stderr",
     "output_type": "stream",
     "text": [
      "/nfs/b0122/Users/eeeeb/miniconda3/envs/pangeo2/lib/python3.9/site-packages/sklearn/base.py:445: UserWarning: X does not have valid feature names, but RandomForestRegressor was fitted with feature names\n",
      "  warnings.warn(\n"
     ]
    },
    {
     "name": "stdout",
     "output_type": "stream",
     "text": [
      "Train RMSE in = 7.514183\n",
      "Valid RMSE in = 7.618558\n",
      "Test RMSE in 2007= 12.800451\n",
      "1\n"
     ]
    },
    {
     "name": "stderr",
     "output_type": "stream",
     "text": [
      "/nfs/b0122/Users/eeeeb/miniconda3/envs/pangeo2/lib/python3.9/site-packages/sklearn/base.py:445: UserWarning: X does not have valid feature names, but RandomForestRegressor was fitted with feature names\n",
      "  warnings.warn(\n"
     ]
    },
    {
     "name": "stdout",
     "output_type": "stream",
     "text": [
      "Train RMSE in = 7.47212\n",
      "Valid RMSE in = 7.789107\n",
      "Test RMSE in 2007= 12.758156\n",
      "2\n"
     ]
    },
    {
     "name": "stderr",
     "output_type": "stream",
     "text": [
      "/nfs/b0122/Users/eeeeb/miniconda3/envs/pangeo2/lib/python3.9/site-packages/sklearn/base.py:445: UserWarning: X does not have valid feature names, but RandomForestRegressor was fitted with feature names\n",
      "  warnings.warn(\n"
     ]
    },
    {
     "name": "stdout",
     "output_type": "stream",
     "text": [
      "Train RMSE in = 7.467258\n",
      "Valid RMSE in = 7.814274\n",
      "Test RMSE in 2007= 12.792955\n",
      "3\n"
     ]
    },
    {
     "name": "stderr",
     "output_type": "stream",
     "text": [
      "/nfs/b0122/Users/eeeeb/miniconda3/envs/pangeo2/lib/python3.9/site-packages/sklearn/base.py:445: UserWarning: X does not have valid feature names, but RandomForestRegressor was fitted with feature names\n",
      "  warnings.warn(\n"
     ]
    },
    {
     "name": "stdout",
     "output_type": "stream",
     "text": [
      "Train RMSE in = 7.473226\n",
      "Valid RMSE in = 7.785815\n",
      "Test RMSE in 2007= 12.785213\n",
      "4\n"
     ]
    },
    {
     "name": "stderr",
     "output_type": "stream",
     "text": [
      "/nfs/b0122/Users/eeeeb/miniconda3/envs/pangeo2/lib/python3.9/site-packages/sklearn/base.py:445: UserWarning: X does not have valid feature names, but RandomForestRegressor was fitted with feature names\n",
      "  warnings.warn(\n"
     ]
    },
    {
     "name": "stdout",
     "output_type": "stream",
     "text": [
      "Train RMSE in = 7.561626\n",
      "Valid RMSE in = 7.392558\n",
      "Test RMSE in 2007= 12.771098\n",
      "2008\n",
      "0\n"
     ]
    },
    {
     "name": "stderr",
     "output_type": "stream",
     "text": [
      "/nfs/b0122/Users/eeeeb/miniconda3/envs/pangeo2/lib/python3.9/site-packages/sklearn/base.py:445: UserWarning: X does not have valid feature names, but RandomForestRegressor was fitted with feature names\n",
      "  warnings.warn(\n"
     ]
    },
    {
     "name": "stdout",
     "output_type": "stream",
     "text": [
      "Train RMSE in = 7.897661\n",
      "Valid RMSE in = 8.083248\n",
      "Test RMSE in 2008= 6.102796\n",
      "1\n"
     ]
    },
    {
     "name": "stderr",
     "output_type": "stream",
     "text": [
      "/nfs/b0122/Users/eeeeb/miniconda3/envs/pangeo2/lib/python3.9/site-packages/sklearn/base.py:445: UserWarning: X does not have valid feature names, but RandomForestRegressor was fitted with feature names\n",
      "  warnings.warn(\n"
     ]
    },
    {
     "name": "stdout",
     "output_type": "stream",
     "text": [
      "Train RMSE in = 7.847978\n",
      "Valid RMSE in = 8.286687\n",
      "Test RMSE in 2008= 6.119409\n",
      "2\n"
     ]
    },
    {
     "name": "stderr",
     "output_type": "stream",
     "text": [
      "/nfs/b0122/Users/eeeeb/miniconda3/envs/pangeo2/lib/python3.9/site-packages/sklearn/base.py:445: UserWarning: X does not have valid feature names, but RandomForestRegressor was fitted with feature names\n",
      "  warnings.warn(\n"
     ]
    },
    {
     "name": "stdout",
     "output_type": "stream",
     "text": [
      "Train RMSE in = 7.893091\n",
      "Valid RMSE in = 8.10151\n",
      "Test RMSE in 2008= 6.086278\n",
      "3\n"
     ]
    },
    {
     "name": "stderr",
     "output_type": "stream",
     "text": [
      "/nfs/b0122/Users/eeeeb/miniconda3/envs/pangeo2/lib/python3.9/site-packages/sklearn/base.py:445: UserWarning: X does not have valid feature names, but RandomForestRegressor was fitted with feature names\n",
      "  warnings.warn(\n"
     ]
    },
    {
     "name": "stdout",
     "output_type": "stream",
     "text": [
      "Train RMSE in = 7.868939\n",
      "Valid RMSE in = 8.20478\n",
      "Test RMSE in 2008= 6.096019\n",
      "4\n"
     ]
    },
    {
     "name": "stderr",
     "output_type": "stream",
     "text": [
      "/nfs/b0122/Users/eeeeb/miniconda3/envs/pangeo2/lib/python3.9/site-packages/sklearn/base.py:445: UserWarning: X does not have valid feature names, but RandomForestRegressor was fitted with feature names\n",
      "  warnings.warn(\n"
     ]
    },
    {
     "name": "stdout",
     "output_type": "stream",
     "text": [
      "Train RMSE in = 7.954493\n",
      "Valid RMSE in = 7.825418\n",
      "Test RMSE in 2008= 6.082716\n",
      "2009\n",
      "0\n"
     ]
    },
    {
     "name": "stderr",
     "output_type": "stream",
     "text": [
      "/nfs/b0122/Users/eeeeb/miniconda3/envs/pangeo2/lib/python3.9/site-packages/sklearn/base.py:445: UserWarning: X does not have valid feature names, but RandomForestRegressor was fitted with feature names\n",
      "  warnings.warn(\n"
     ]
    },
    {
     "name": "stdout",
     "output_type": "stream",
     "text": [
      "Train RMSE in = 7.962649\n",
      "Valid RMSE in = 8.165992\n",
      "Test RMSE in 2009= 4.561078\n",
      "1\n"
     ]
    },
    {
     "name": "stderr",
     "output_type": "stream",
     "text": [
      "/nfs/b0122/Users/eeeeb/miniconda3/envs/pangeo2/lib/python3.9/site-packages/sklearn/base.py:445: UserWarning: X does not have valid feature names, but RandomForestRegressor was fitted with feature names\n",
      "  warnings.warn(\n"
     ]
    },
    {
     "name": "stdout",
     "output_type": "stream",
     "text": [
      "Train RMSE in = 7.917653\n",
      "Valid RMSE in = 8.324746\n",
      "Test RMSE in 2009= 4.573099\n",
      "2\n"
     ]
    },
    {
     "name": "stderr",
     "output_type": "stream",
     "text": [
      "/nfs/b0122/Users/eeeeb/miniconda3/envs/pangeo2/lib/python3.9/site-packages/sklearn/base.py:445: UserWarning: X does not have valid feature names, but RandomForestRegressor was fitted with feature names\n",
      "  warnings.warn(\n"
     ]
    },
    {
     "name": "stdout",
     "output_type": "stream",
     "text": [
      "Train RMSE in = 7.945236\n",
      "Valid RMSE in = 8.189585\n",
      "Test RMSE in 2009= 4.553369\n",
      "3\n"
     ]
    },
    {
     "name": "stderr",
     "output_type": "stream",
     "text": [
      "/nfs/b0122/Users/eeeeb/miniconda3/envs/pangeo2/lib/python3.9/site-packages/sklearn/base.py:445: UserWarning: X does not have valid feature names, but RandomForestRegressor was fitted with feature names\n",
      "  warnings.warn(\n"
     ]
    },
    {
     "name": "stdout",
     "output_type": "stream",
     "text": [
      "Train RMSE in = 7.931985\n",
      "Valid RMSE in = 8.265351\n",
      "Test RMSE in 2009= 4.566494\n",
      "4\n"
     ]
    },
    {
     "name": "stderr",
     "output_type": "stream",
     "text": [
      "/nfs/b0122/Users/eeeeb/miniconda3/envs/pangeo2/lib/python3.9/site-packages/sklearn/base.py:445: UserWarning: X does not have valid feature names, but RandomForestRegressor was fitted with feature names\n",
      "  warnings.warn(\n"
     ]
    },
    {
     "name": "stdout",
     "output_type": "stream",
     "text": [
      "Train RMSE in = 8.027283\n",
      "Valid RMSE in = 7.865781\n",
      "Test RMSE in 2009= 4.565887\n",
      "2010\n",
      "0\n"
     ]
    },
    {
     "name": "stderr",
     "output_type": "stream",
     "text": [
      "/nfs/b0122/Users/eeeeb/miniconda3/envs/pangeo2/lib/python3.9/site-packages/sklearn/base.py:445: UserWarning: X does not have valid feature names, but RandomForestRegressor was fitted with feature names\n",
      "  warnings.warn(\n"
     ]
    },
    {
     "name": "stdout",
     "output_type": "stream",
     "text": [
      "Train RMSE in = 7.535494\n",
      "Valid RMSE in = 7.790289\n",
      "Test RMSE in 2010= 11.91679\n",
      "1\n"
     ]
    },
    {
     "name": "stderr",
     "output_type": "stream",
     "text": [
      "/nfs/b0122/Users/eeeeb/miniconda3/envs/pangeo2/lib/python3.9/site-packages/sklearn/base.py:445: UserWarning: X does not have valid feature names, but RandomForestRegressor was fitted with feature names\n",
      "  warnings.warn(\n"
     ]
    },
    {
     "name": "stdout",
     "output_type": "stream",
     "text": [
      "Train RMSE in = 7.549776\n",
      "Valid RMSE in = 7.715946\n",
      "Test RMSE in 2010= 11.916244\n",
      "2\n"
     ]
    },
    {
     "name": "stderr",
     "output_type": "stream",
     "text": [
      "/nfs/b0122/Users/eeeeb/miniconda3/envs/pangeo2/lib/python3.9/site-packages/sklearn/base.py:445: UserWarning: X does not have valid feature names, but RandomForestRegressor was fitted with feature names\n",
      "  warnings.warn(\n"
     ]
    },
    {
     "name": "stdout",
     "output_type": "stream",
     "text": [
      "Train RMSE in = 7.556325\n",
      "Valid RMSE in = 7.701215\n",
      "Test RMSE in 2010= 11.891177\n",
      "3\n"
     ]
    },
    {
     "name": "stderr",
     "output_type": "stream",
     "text": [
      "/nfs/b0122/Users/eeeeb/miniconda3/envs/pangeo2/lib/python3.9/site-packages/sklearn/base.py:445: UserWarning: X does not have valid feature names, but RandomForestRegressor was fitted with feature names\n",
      "  warnings.warn(\n"
     ]
    },
    {
     "name": "stdout",
     "output_type": "stream",
     "text": [
      "Train RMSE in = 7.521434\n",
      "Valid RMSE in = 7.81788\n",
      "Test RMSE in 2010= 11.897734\n",
      "4\n"
     ]
    },
    {
     "name": "stderr",
     "output_type": "stream",
     "text": [
      "/nfs/b0122/Users/eeeeb/miniconda3/envs/pangeo2/lib/python3.9/site-packages/sklearn/base.py:445: UserWarning: X does not have valid feature names, but RandomForestRegressor was fitted with feature names\n",
      "  warnings.warn(\n"
     ]
    },
    {
     "name": "stdout",
     "output_type": "stream",
     "text": [
      "Train RMSE in = 7.560028\n",
      "Valid RMSE in = 7.666531\n",
      "Test RMSE in 2010= 11.925779\n",
      "2011\n",
      "0\n"
     ]
    },
    {
     "name": "stderr",
     "output_type": "stream",
     "text": [
      "/nfs/b0122/Users/eeeeb/miniconda3/envs/pangeo2/lib/python3.9/site-packages/sklearn/base.py:445: UserWarning: X does not have valid feature names, but RandomForestRegressor was fitted with feature names\n",
      "  warnings.warn(\n"
     ]
    },
    {
     "name": "stdout",
     "output_type": "stream",
     "text": [
      "Train RMSE in = 7.966386\n",
      "Valid RMSE in = 8.093082\n",
      "Test RMSE in 2011= 4.649793\n",
      "1\n"
     ]
    },
    {
     "name": "stderr",
     "output_type": "stream",
     "text": [
      "/nfs/b0122/Users/eeeeb/miniconda3/envs/pangeo2/lib/python3.9/site-packages/sklearn/base.py:445: UserWarning: X does not have valid feature names, but RandomForestRegressor was fitted with feature names\n",
      "  warnings.warn(\n"
     ]
    },
    {
     "name": "stdout",
     "output_type": "stream",
     "text": [
      "Train RMSE in = 7.934872\n",
      "Valid RMSE in = 8.224428\n",
      "Test RMSE in 2011= 4.681905\n",
      "2\n"
     ]
    },
    {
     "name": "stderr",
     "output_type": "stream",
     "text": [
      "/nfs/b0122/Users/eeeeb/miniconda3/envs/pangeo2/lib/python3.9/site-packages/sklearn/base.py:445: UserWarning: X does not have valid feature names, but RandomForestRegressor was fitted with feature names\n",
      "  warnings.warn(\n"
     ]
    },
    {
     "name": "stdout",
     "output_type": "stream",
     "text": [
      "Train RMSE in = 7.931559\n",
      "Valid RMSE in = 8.187045\n",
      "Test RMSE in 2011= 4.618603\n",
      "3\n"
     ]
    },
    {
     "name": "stderr",
     "output_type": "stream",
     "text": [
      "/nfs/b0122/Users/eeeeb/miniconda3/envs/pangeo2/lib/python3.9/site-packages/sklearn/base.py:445: UserWarning: X does not have valid feature names, but RandomForestRegressor was fitted with feature names\n",
      "  warnings.warn(\n"
     ]
    },
    {
     "name": "stdout",
     "output_type": "stream",
     "text": [
      "Train RMSE in = 7.965601\n",
      "Valid RMSE in = 8.085628\n",
      "Test RMSE in 2011= 4.644602\n",
      "4\n"
     ]
    },
    {
     "name": "stderr",
     "output_type": "stream",
     "text": [
      "/nfs/b0122/Users/eeeeb/miniconda3/envs/pangeo2/lib/python3.9/site-packages/sklearn/base.py:445: UserWarning: X does not have valid feature names, but RandomForestRegressor was fitted with feature names\n",
      "  warnings.warn(\n"
     ]
    },
    {
     "name": "stdout",
     "output_type": "stream",
     "text": [
      "Train RMSE in = 7.94356\n",
      "Valid RMSE in = 8.186221\n",
      "Test RMSE in 2011= 4.642811\n",
      "2012\n",
      "0\n"
     ]
    },
    {
     "name": "stderr",
     "output_type": "stream",
     "text": [
      "/nfs/b0122/Users/eeeeb/miniconda3/envs/pangeo2/lib/python3.9/site-packages/sklearn/base.py:445: UserWarning: X does not have valid feature names, but RandomForestRegressor was fitted with feature names\n",
      "  warnings.warn(\n"
     ]
    },
    {
     "name": "stdout",
     "output_type": "stream",
     "text": [
      "Train RMSE in = 7.911102\n",
      "Valid RMSE in = 8.068763\n",
      "Test RMSE in 2012= 5.948417\n",
      "1\n"
     ]
    },
    {
     "name": "stderr",
     "output_type": "stream",
     "text": [
      "/nfs/b0122/Users/eeeeb/miniconda3/envs/pangeo2/lib/python3.9/site-packages/sklearn/base.py:445: UserWarning: X does not have valid feature names, but RandomForestRegressor was fitted with feature names\n",
      "  warnings.warn(\n"
     ]
    },
    {
     "name": "stdout",
     "output_type": "stream",
     "text": [
      "Train RMSE in = 7.883164\n",
      "Valid RMSE in = 8.188564\n",
      "Test RMSE in 2012= 5.98597\n",
      "2\n"
     ]
    },
    {
     "name": "stderr",
     "output_type": "stream",
     "text": [
      "/nfs/b0122/Users/eeeeb/miniconda3/envs/pangeo2/lib/python3.9/site-packages/sklearn/base.py:445: UserWarning: X does not have valid feature names, but RandomForestRegressor was fitted with feature names\n",
      "  warnings.warn(\n"
     ]
    },
    {
     "name": "stdout",
     "output_type": "stream",
     "text": [
      "Train RMSE in = 7.893679\n",
      "Valid RMSE in = 8.120682\n",
      "Test RMSE in 2012= 5.945048\n",
      "3\n"
     ]
    },
    {
     "name": "stderr",
     "output_type": "stream",
     "text": [
      "/nfs/b0122/Users/eeeeb/miniconda3/envs/pangeo2/lib/python3.9/site-packages/sklearn/base.py:445: UserWarning: X does not have valid feature names, but RandomForestRegressor was fitted with feature names\n",
      "  warnings.warn(\n"
     ]
    },
    {
     "name": "stdout",
     "output_type": "stream",
     "text": [
      "Train RMSE in = 7.905538\n",
      "Valid RMSE in = 8.040845\n",
      "Test RMSE in 2012= 6.007438\n",
      "4\n"
     ]
    },
    {
     "name": "stderr",
     "output_type": "stream",
     "text": [
      "/nfs/b0122/Users/eeeeb/miniconda3/envs/pangeo2/lib/python3.9/site-packages/sklearn/base.py:445: UserWarning: X does not have valid feature names, but RandomForestRegressor was fitted with feature names\n",
      "  warnings.warn(\n"
     ]
    },
    {
     "name": "stdout",
     "output_type": "stream",
     "text": [
      "Train RMSE in = 7.902248\n",
      "Valid RMSE in = 8.109628\n",
      "Test RMSE in 2012= 5.921861\n",
      "2013\n",
      "0\n"
     ]
    },
    {
     "name": "stderr",
     "output_type": "stream",
     "text": [
      "/nfs/b0122/Users/eeeeb/miniconda3/envs/pangeo2/lib/python3.9/site-packages/sklearn/base.py:445: UserWarning: X does not have valid feature names, but RandomForestRegressor was fitted with feature names\n",
      "  warnings.warn(\n"
     ]
    },
    {
     "name": "stdout",
     "output_type": "stream",
     "text": [
      "Train RMSE in = 8.005345\n",
      "Valid RMSE in = 8.149036\n",
      "Test RMSE in 2013= 3.367334\n",
      "1\n"
     ]
    },
    {
     "name": "stderr",
     "output_type": "stream",
     "text": [
      "/nfs/b0122/Users/eeeeb/miniconda3/envs/pangeo2/lib/python3.9/site-packages/sklearn/base.py:445: UserWarning: X does not have valid feature names, but RandomForestRegressor was fitted with feature names\n",
      "  warnings.warn(\n"
     ]
    },
    {
     "name": "stdout",
     "output_type": "stream",
     "text": [
      "Train RMSE in = 7.967862\n",
      "Valid RMSE in = 8.271697\n",
      "Test RMSE in 2013= 3.41462\n",
      "2\n"
     ]
    },
    {
     "name": "stderr",
     "output_type": "stream",
     "text": [
      "/nfs/b0122/Users/eeeeb/miniconda3/envs/pangeo2/lib/python3.9/site-packages/sklearn/base.py:445: UserWarning: X does not have valid feature names, but RandomForestRegressor was fitted with feature names\n",
      "  warnings.warn(\n"
     ]
    },
    {
     "name": "stdout",
     "output_type": "stream",
     "text": [
      "Train RMSE in = 7.978704\n",
      "Valid RMSE in = 8.226042\n",
      "Test RMSE in 2013= 3.381629\n",
      "3\n"
     ]
    },
    {
     "name": "stderr",
     "output_type": "stream",
     "text": [
      "/nfs/b0122/Users/eeeeb/miniconda3/envs/pangeo2/lib/python3.9/site-packages/sklearn/base.py:445: UserWarning: X does not have valid feature names, but RandomForestRegressor was fitted with feature names\n",
      "  warnings.warn(\n"
     ]
    },
    {
     "name": "stdout",
     "output_type": "stream",
     "text": [
      "Train RMSE in = 8.00604\n",
      "Valid RMSE in = 8.136061\n",
      "Test RMSE in 2013= 3.398556\n",
      "4\n"
     ]
    },
    {
     "name": "stderr",
     "output_type": "stream",
     "text": [
      "/nfs/b0122/Users/eeeeb/miniconda3/envs/pangeo2/lib/python3.9/site-packages/sklearn/base.py:445: UserWarning: X does not have valid feature names, but RandomForestRegressor was fitted with feature names\n",
      "  warnings.warn(\n"
     ]
    },
    {
     "name": "stdout",
     "output_type": "stream",
     "text": [
      "Train RMSE in = 7.993715\n",
      "Valid RMSE in = 8.206902\n",
      "Test RMSE in 2013= 3.3807\n",
      "2014\n",
      "0\n"
     ]
    },
    {
     "name": "stderr",
     "output_type": "stream",
     "text": [
      "/nfs/b0122/Users/eeeeb/miniconda3/envs/pangeo2/lib/python3.9/site-packages/sklearn/base.py:445: UserWarning: X does not have valid feature names, but RandomForestRegressor was fitted with feature names\n",
      "  warnings.warn(\n"
     ]
    },
    {
     "name": "stdout",
     "output_type": "stream",
     "text": [
      "Train RMSE in = 7.966862\n",
      "Valid RMSE in = 8.097986\n",
      "Test RMSE in 2014= 4.787894\n",
      "1\n"
     ]
    },
    {
     "name": "stderr",
     "output_type": "stream",
     "text": [
      "/nfs/b0122/Users/eeeeb/miniconda3/envs/pangeo2/lib/python3.9/site-packages/sklearn/base.py:445: UserWarning: X does not have valid feature names, but RandomForestRegressor was fitted with feature names\n",
      "  warnings.warn(\n"
     ]
    },
    {
     "name": "stdout",
     "output_type": "stream",
     "text": [
      "Train RMSE in = 7.932158\n",
      "Valid RMSE in = 8.230404\n",
      "Test RMSE in 2014= 4.799835\n",
      "2\n"
     ]
    },
    {
     "name": "stderr",
     "output_type": "stream",
     "text": [
      "/nfs/b0122/Users/eeeeb/miniconda3/envs/pangeo2/lib/python3.9/site-packages/sklearn/base.py:445: UserWarning: X does not have valid feature names, but RandomForestRegressor was fitted with feature names\n",
      "  warnings.warn(\n"
     ]
    },
    {
     "name": "stdout",
     "output_type": "stream",
     "text": [
      "Train RMSE in = 7.932447\n",
      "Valid RMSE in = 8.197764\n",
      "Test RMSE in 2014= 4.787571\n",
      "3\n"
     ]
    },
    {
     "name": "stderr",
     "output_type": "stream",
     "text": [
      "/nfs/b0122/Users/eeeeb/miniconda3/envs/pangeo2/lib/python3.9/site-packages/sklearn/base.py:445: UserWarning: X does not have valid feature names, but RandomForestRegressor was fitted with feature names\n",
      "  warnings.warn(\n"
     ]
    },
    {
     "name": "stdout",
     "output_type": "stream",
     "text": [
      "Train RMSE in = 7.969762\n",
      "Valid RMSE in = 8.076323\n",
      "Test RMSE in 2014= 4.786678\n",
      "4\n"
     ]
    },
    {
     "name": "stderr",
     "output_type": "stream",
     "text": [
      "/nfs/b0122/Users/eeeeb/miniconda3/envs/pangeo2/lib/python3.9/site-packages/sklearn/base.py:445: UserWarning: X does not have valid feature names, but RandomForestRegressor was fitted with feature names\n",
      "  warnings.warn(\n"
     ]
    },
    {
     "name": "stdout",
     "output_type": "stream",
     "text": [
      "Train RMSE in = 7.950785\n",
      "Valid RMSE in = 8.182053\n",
      "Test RMSE in 2014= 4.785117\n",
      "2015\n",
      "0\n"
     ]
    },
    {
     "name": "stderr",
     "output_type": "stream",
     "text": [
      "/nfs/b0122/Users/eeeeb/miniconda3/envs/pangeo2/lib/python3.9/site-packages/sklearn/base.py:445: UserWarning: X does not have valid feature names, but RandomForestRegressor was fitted with feature names\n",
      "  warnings.warn(\n"
     ]
    },
    {
     "name": "stdout",
     "output_type": "stream",
     "text": [
      "Train RMSE in = 7.882662\n",
      "Valid RMSE in = 7.984621\n",
      "Test RMSE in 2015= 6.79936\n",
      "1\n"
     ]
    },
    {
     "name": "stderr",
     "output_type": "stream",
     "text": [
      "/nfs/b0122/Users/eeeeb/miniconda3/envs/pangeo2/lib/python3.9/site-packages/sklearn/base.py:445: UserWarning: X does not have valid feature names, but RandomForestRegressor was fitted with feature names\n",
      "  warnings.warn(\n"
     ]
    },
    {
     "name": "stdout",
     "output_type": "stream",
     "text": [
      "Train RMSE in = 7.843071\n",
      "Valid RMSE in = 8.15487\n",
      "Test RMSE in 2015= 6.80453\n",
      "2\n"
     ]
    },
    {
     "name": "stderr",
     "output_type": "stream",
     "text": [
      "/nfs/b0122/Users/eeeeb/miniconda3/envs/pangeo2/lib/python3.9/site-packages/sklearn/base.py:445: UserWarning: X does not have valid feature names, but RandomForestRegressor was fitted with feature names\n",
      "  warnings.warn(\n"
     ]
    },
    {
     "name": "stdout",
     "output_type": "stream",
     "text": [
      "Train RMSE in = 7.845332\n",
      "Valid RMSE in = 8.110802\n",
      "Test RMSE in 2015= 6.758322\n",
      "3\n"
     ]
    },
    {
     "name": "stderr",
     "output_type": "stream",
     "text": [
      "/nfs/b0122/Users/eeeeb/miniconda3/envs/pangeo2/lib/python3.9/site-packages/sklearn/base.py:445: UserWarning: X does not have valid feature names, but RandomForestRegressor was fitted with feature names\n",
      "  warnings.warn(\n"
     ]
    },
    {
     "name": "stdout",
     "output_type": "stream",
     "text": [
      "Train RMSE in = 7.876653\n",
      "Valid RMSE in = 7.997206\n",
      "Test RMSE in 2015= 6.81908\n",
      "4\n"
     ]
    },
    {
     "name": "stderr",
     "output_type": "stream",
     "text": [
      "/nfs/b0122/Users/eeeeb/miniconda3/envs/pangeo2/lib/python3.9/site-packages/sklearn/base.py:445: UserWarning: X does not have valid feature names, but RandomForestRegressor was fitted with feature names\n",
      "  warnings.warn(\n"
     ]
    },
    {
     "name": "stdout",
     "output_type": "stream",
     "text": [
      "Train RMSE in = 7.85612\n",
      "Valid RMSE in = 8.093128\n",
      "Test RMSE in 2015= 6.795391\n",
      "2016\n",
      "0\n"
     ]
    },
    {
     "name": "stderr",
     "output_type": "stream",
     "text": [
      "/nfs/b0122/Users/eeeeb/miniconda3/envs/pangeo2/lib/python3.9/site-packages/sklearn/base.py:445: UserWarning: X does not have valid feature names, but RandomForestRegressor was fitted with feature names\n",
      "  warnings.warn(\n"
     ]
    },
    {
     "name": "stdout",
     "output_type": "stream",
     "text": [
      "Train RMSE in = 7.904529\n",
      "Valid RMSE in = 8.01879\n",
      "Test RMSE in 2016= 6.327195\n",
      "1\n"
     ]
    },
    {
     "name": "stderr",
     "output_type": "stream",
     "text": [
      "/nfs/b0122/Users/eeeeb/miniconda3/envs/pangeo2/lib/python3.9/site-packages/sklearn/base.py:445: UserWarning: X does not have valid feature names, but RandomForestRegressor was fitted with feature names\n",
      "  warnings.warn(\n"
     ]
    },
    {
     "name": "stdout",
     "output_type": "stream",
     "text": [
      "Train RMSE in = 7.871058\n",
      "Valid RMSE in = 8.18312\n",
      "Test RMSE in 2016= 6.332486\n",
      "2\n"
     ]
    },
    {
     "name": "stderr",
     "output_type": "stream",
     "text": [
      "/nfs/b0122/Users/eeeeb/miniconda3/envs/pangeo2/lib/python3.9/site-packages/sklearn/base.py:445: UserWarning: X does not have valid feature names, but RandomForestRegressor was fitted with feature names\n",
      "  warnings.warn(\n"
     ]
    },
    {
     "name": "stdout",
     "output_type": "stream",
     "text": [
      "Train RMSE in = 7.857666\n",
      "Valid RMSE in = 8.157595\n",
      "Test RMSE in 2016= 6.309591\n",
      "3\n"
     ]
    },
    {
     "name": "stderr",
     "output_type": "stream",
     "text": [
      "/nfs/b0122/Users/eeeeb/miniconda3/envs/pangeo2/lib/python3.9/site-packages/sklearn/base.py:445: UserWarning: X does not have valid feature names, but RandomForestRegressor was fitted with feature names\n",
      "  warnings.warn(\n"
     ]
    },
    {
     "name": "stdout",
     "output_type": "stream",
     "text": [
      "Train RMSE in = 7.906181\n",
      "Valid RMSE in = 8.00032\n",
      "Test RMSE in 2016= 6.31824\n",
      "4\n"
     ]
    },
    {
     "name": "stderr",
     "output_type": "stream",
     "text": [
      "/nfs/b0122/Users/eeeeb/miniconda3/envs/pangeo2/lib/python3.9/site-packages/sklearn/base.py:445: UserWarning: X does not have valid feature names, but RandomForestRegressor was fitted with feature names\n",
      "  warnings.warn(\n"
     ]
    },
    {
     "name": "stdout",
     "output_type": "stream",
     "text": [
      "Train RMSE in = 7.889959\n",
      "Valid RMSE in = 8.109159\n",
      "Test RMSE in 2016= 6.301207\n",
      "2017\n",
      "0\n"
     ]
    },
    {
     "name": "stderr",
     "output_type": "stream",
     "text": [
      "/nfs/b0122/Users/eeeeb/miniconda3/envs/pangeo2/lib/python3.9/site-packages/sklearn/base.py:445: UserWarning: X does not have valid feature names, but RandomForestRegressor was fitted with feature names\n",
      "  warnings.warn(\n"
     ]
    },
    {
     "name": "stdout",
     "output_type": "stream",
     "text": [
      "Train RMSE in = 7.900209\n",
      "Valid RMSE in = 7.949892\n",
      "Test RMSE in 2017= 6.683554\n",
      "1\n"
     ]
    },
    {
     "name": "stderr",
     "output_type": "stream",
     "text": [
      "/nfs/b0122/Users/eeeeb/miniconda3/envs/pangeo2/lib/python3.9/site-packages/sklearn/base.py:445: UserWarning: X does not have valid feature names, but RandomForestRegressor was fitted with feature names\n",
      "  warnings.warn(\n"
     ]
    },
    {
     "name": "stdout",
     "output_type": "stream",
     "text": [
      "Train RMSE in = 7.847517\n",
      "Valid RMSE in = 8.197422\n",
      "Test RMSE in 2017= 6.678538\n",
      "2\n"
     ]
    },
    {
     "name": "stderr",
     "output_type": "stream",
     "text": [
      "/nfs/b0122/Users/eeeeb/miniconda3/envs/pangeo2/lib/python3.9/site-packages/sklearn/base.py:445: UserWarning: X does not have valid feature names, but RandomForestRegressor was fitted with feature names\n",
      "  warnings.warn(\n"
     ]
    },
    {
     "name": "stdout",
     "output_type": "stream",
     "text": [
      "Train RMSE in = 7.861419\n",
      "Valid RMSE in = 8.126292\n",
      "Test RMSE in 2017= 6.685963\n",
      "3\n"
     ]
    },
    {
     "name": "stderr",
     "output_type": "stream",
     "text": [
      "/nfs/b0122/Users/eeeeb/miniconda3/envs/pangeo2/lib/python3.9/site-packages/sklearn/base.py:445: UserWarning: X does not have valid feature names, but RandomForestRegressor was fitted with feature names\n",
      "  warnings.warn(\n"
     ]
    },
    {
     "name": "stdout",
     "output_type": "stream",
     "text": [
      "Train RMSE in = 7.887543\n",
      "Valid RMSE in = 8.004911\n",
      "Test RMSE in 2017= 6.690249\n",
      "4\n"
     ]
    },
    {
     "name": "stderr",
     "output_type": "stream",
     "text": [
      "/nfs/b0122/Users/eeeeb/miniconda3/envs/pangeo2/lib/python3.9/site-packages/sklearn/base.py:445: UserWarning: X does not have valid feature names, but RandomForestRegressor was fitted with feature names\n",
      "  warnings.warn(\n"
     ]
    },
    {
     "name": "stdout",
     "output_type": "stream",
     "text": [
      "Train RMSE in = 7.86417\n",
      "Valid RMSE in = 8.094159\n",
      "Test RMSE in 2017= 6.701647\n",
      "2018\n",
      "0\n"
     ]
    },
    {
     "name": "stderr",
     "output_type": "stream",
     "text": [
      "/nfs/b0122/Users/eeeeb/miniconda3/envs/pangeo2/lib/python3.9/site-packages/sklearn/base.py:445: UserWarning: X does not have valid feature names, but RandomForestRegressor was fitted with feature names\n",
      "  warnings.warn(\n"
     ]
    },
    {
     "name": "stdout",
     "output_type": "stream",
     "text": [
      "Train RMSE in = 7.981874\n",
      "Valid RMSE in = 8.055655\n",
      "Test RMSE in 2018= 4.506668\n",
      "1\n"
     ]
    },
    {
     "name": "stderr",
     "output_type": "stream",
     "text": [
      "/nfs/b0122/Users/eeeeb/miniconda3/envs/pangeo2/lib/python3.9/site-packages/sklearn/base.py:445: UserWarning: X does not have valid feature names, but RandomForestRegressor was fitted with feature names\n",
      "  warnings.warn(\n"
     ]
    },
    {
     "name": "stdout",
     "output_type": "stream",
     "text": [
      "Train RMSE in = 7.937817\n",
      "Valid RMSE in = 8.27919\n",
      "Test RMSE in 2018= 4.523392\n",
      "2\n"
     ]
    },
    {
     "name": "stderr",
     "output_type": "stream",
     "text": [
      "/nfs/b0122/Users/eeeeb/miniconda3/envs/pangeo2/lib/python3.9/site-packages/sklearn/base.py:445: UserWarning: X does not have valid feature names, but RandomForestRegressor was fitted with feature names\n",
      "  warnings.warn(\n"
     ]
    },
    {
     "name": "stdout",
     "output_type": "stream",
     "text": [
      "Train RMSE in = 7.947463\n",
      "Valid RMSE in = 8.202054\n",
      "Test RMSE in 2018= 4.504257\n",
      "3\n"
     ]
    },
    {
     "name": "stderr",
     "output_type": "stream",
     "text": [
      "/nfs/b0122/Users/eeeeb/miniconda3/envs/pangeo2/lib/python3.9/site-packages/sklearn/base.py:445: UserWarning: X does not have valid feature names, but RandomForestRegressor was fitted with feature names\n",
      "  warnings.warn(\n"
     ]
    },
    {
     "name": "stdout",
     "output_type": "stream",
     "text": [
      "Train RMSE in = 7.971715\n",
      "Valid RMSE in = 8.108519\n",
      "Test RMSE in 2018= 4.520803\n",
      "4\n"
     ]
    },
    {
     "name": "stderr",
     "output_type": "stream",
     "text": [
      "/nfs/b0122/Users/eeeeb/miniconda3/envs/pangeo2/lib/python3.9/site-packages/sklearn/base.py:445: UserWarning: X does not have valid feature names, but RandomForestRegressor was fitted with feature names\n",
      "  warnings.warn(\n"
     ]
    },
    {
     "name": "stdout",
     "output_type": "stream",
     "text": [
      "Train RMSE in = 7.952294\n",
      "Valid RMSE in = 8.17593\n",
      "Test RMSE in 2018= 4.517473\n",
      "2019\n",
      "0\n"
     ]
    },
    {
     "name": "stderr",
     "output_type": "stream",
     "text": [
      "/nfs/b0122/Users/eeeeb/miniconda3/envs/pangeo2/lib/python3.9/site-packages/sklearn/base.py:445: UserWarning: X does not have valid feature names, but RandomForestRegressor was fitted with feature names\n",
      "  warnings.warn(\n"
     ]
    },
    {
     "name": "stdout",
     "output_type": "stream",
     "text": [
      "Train RMSE in = 7.858578\n",
      "Valid RMSE in = 7.899986\n",
      "Test RMSE in 2019= 7.59613\n",
      "1\n"
     ]
    },
    {
     "name": "stderr",
     "output_type": "stream",
     "text": [
      "/nfs/b0122/Users/eeeeb/miniconda3/envs/pangeo2/lib/python3.9/site-packages/sklearn/base.py:445: UserWarning: X does not have valid feature names, but RandomForestRegressor was fitted with feature names\n",
      "  warnings.warn(\n"
     ]
    },
    {
     "name": "stdout",
     "output_type": "stream",
     "text": [
      "Train RMSE in = 7.809432\n",
      "Valid RMSE in = 8.130233\n",
      "Test RMSE in 2019= 7.610245\n",
      "2\n"
     ]
    },
    {
     "name": "stderr",
     "output_type": "stream",
     "text": [
      "/nfs/b0122/Users/eeeeb/miniconda3/envs/pangeo2/lib/python3.9/site-packages/sklearn/base.py:445: UserWarning: X does not have valid feature names, but RandomForestRegressor was fitted with feature names\n",
      "  warnings.warn(\n"
     ]
    },
    {
     "name": "stdout",
     "output_type": "stream",
     "text": [
      "Train RMSE in = 7.814774\n",
      "Valid RMSE in = 8.068206\n",
      "Test RMSE in 2019= 7.593722\n",
      "3\n"
     ]
    },
    {
     "name": "stderr",
     "output_type": "stream",
     "text": [
      "/nfs/b0122/Users/eeeeb/miniconda3/envs/pangeo2/lib/python3.9/site-packages/sklearn/base.py:445: UserWarning: X does not have valid feature names, but RandomForestRegressor was fitted with feature names\n",
      "  warnings.warn(\n"
     ]
    },
    {
     "name": "stdout",
     "output_type": "stream",
     "text": [
      "Train RMSE in = 7.842456\n",
      "Valid RMSE in = 7.990317\n",
      "Test RMSE in 2019= 7.61876\n",
      "4\n"
     ]
    },
    {
     "name": "stderr",
     "output_type": "stream",
     "text": [
      "/nfs/b0122/Users/eeeeb/miniconda3/envs/pangeo2/lib/python3.9/site-packages/sklearn/base.py:445: UserWarning: X does not have valid feature names, but RandomForestRegressor was fitted with feature names\n",
      "  warnings.warn(\n"
     ]
    },
    {
     "name": "stdout",
     "output_type": "stream",
     "text": [
      "Train RMSE in = 7.824632\n",
      "Valid RMSE in = 8.068125\n",
      "Test RMSE in 2019= 7.60808\n",
      "2020\n",
      "0\n"
     ]
    },
    {
     "name": "stderr",
     "output_type": "stream",
     "text": [
      "/nfs/b0122/Users/eeeeb/miniconda3/envs/pangeo2/lib/python3.9/site-packages/sklearn/base.py:445: UserWarning: X does not have valid feature names, but RandomForestRegressor was fitted with feature names\n",
      "  warnings.warn(\n"
     ]
    },
    {
     "name": "stdout",
     "output_type": "stream",
     "text": [
      "Train RMSE in = 7.892402\n",
      "Valid RMSE in = 7.908265\n",
      "Test RMSE in 2020= 6.884333\n",
      "1\n"
     ]
    },
    {
     "name": "stderr",
     "output_type": "stream",
     "text": [
      "/nfs/b0122/Users/eeeeb/miniconda3/envs/pangeo2/lib/python3.9/site-packages/sklearn/base.py:445: UserWarning: X does not have valid feature names, but RandomForestRegressor was fitted with feature names\n",
      "  warnings.warn(\n"
     ]
    },
    {
     "name": "stdout",
     "output_type": "stream",
     "text": [
      "Train RMSE in = 7.836715\n",
      "Valid RMSE in = 8.187542\n",
      "Test RMSE in 2020= 6.885443\n",
      "2\n"
     ]
    },
    {
     "name": "stderr",
     "output_type": "stream",
     "text": [
      "/nfs/b0122/Users/eeeeb/miniconda3/envs/pangeo2/lib/python3.9/site-packages/sklearn/base.py:445: UserWarning: X does not have valid feature names, but RandomForestRegressor was fitted with feature names\n",
      "  warnings.warn(\n"
     ]
    },
    {
     "name": "stdout",
     "output_type": "stream",
     "text": [
      "Train RMSE in = 7.846433\n",
      "Valid RMSE in = 8.140339\n",
      "Test RMSE in 2020= 6.880827\n",
      "3\n"
     ]
    },
    {
     "name": "stderr",
     "output_type": "stream",
     "text": [
      "/nfs/b0122/Users/eeeeb/miniconda3/envs/pangeo2/lib/python3.9/site-packages/sklearn/base.py:445: UserWarning: X does not have valid feature names, but RandomForestRegressor was fitted with feature names\n",
      "  warnings.warn(\n"
     ]
    },
    {
     "name": "stdout",
     "output_type": "stream",
     "text": [
      "Train RMSE in = 7.872116\n",
      "Valid RMSE in = 7.967829\n",
      "Test RMSE in 2020= 6.921922\n",
      "4\n"
     ]
    },
    {
     "name": "stderr",
     "output_type": "stream",
     "text": [
      "/nfs/b0122/Users/eeeeb/miniconda3/envs/pangeo2/lib/python3.9/site-packages/sklearn/base.py:445: UserWarning: X does not have valid feature names, but RandomForestRegressor was fitted with feature names\n",
      "  warnings.warn(\n"
     ]
    },
    {
     "name": "stdout",
     "output_type": "stream",
     "text": [
      "Train RMSE in = 7.856919\n",
      "Valid RMSE in = 8.115713\n",
      "Test RMSE in 2020= 6.87739\n",
      "Sim_Clim+LU+Def\n",
      "2003\n",
      "0\n"
     ]
    },
    {
     "name": "stderr",
     "output_type": "stream",
     "text": [
      "/nfs/b0122/Users/eeeeb/miniconda3/envs/pangeo2/lib/python3.9/site-packages/sklearn/base.py:445: UserWarning: X does not have valid feature names, but RandomForestRegressor was fitted with feature names\n",
      "  warnings.warn(\n"
     ]
    },
    {
     "name": "stdout",
     "output_type": "stream",
     "text": [
      "Train RMSE in = 6.721987\n",
      "Valid RMSE in = 6.853629\n",
      "Test RMSE in 2003= 8.043333\n",
      "1\n"
     ]
    },
    {
     "name": "stderr",
     "output_type": "stream",
     "text": [
      "/nfs/b0122/Users/eeeeb/miniconda3/envs/pangeo2/lib/python3.9/site-packages/sklearn/base.py:445: UserWarning: X does not have valid feature names, but RandomForestRegressor was fitted with feature names\n",
      "  warnings.warn(\n"
     ]
    },
    {
     "name": "stdout",
     "output_type": "stream",
     "text": [
      "Train RMSE in = 6.675372\n",
      "Valid RMSE in = 6.967331\n",
      "Test RMSE in 2003= 8.038079\n",
      "2\n"
     ]
    },
    {
     "name": "stderr",
     "output_type": "stream",
     "text": [
      "/nfs/b0122/Users/eeeeb/miniconda3/envs/pangeo2/lib/python3.9/site-packages/sklearn/base.py:445: UserWarning: X does not have valid feature names, but RandomForestRegressor was fitted with feature names\n",
      "  warnings.warn(\n"
     ]
    },
    {
     "name": "stdout",
     "output_type": "stream",
     "text": [
      "Train RMSE in = 6.624708\n",
      "Valid RMSE in = 7.259336\n",
      "Test RMSE in 2003= 8.021256\n",
      "3\n"
     ]
    },
    {
     "name": "stderr",
     "output_type": "stream",
     "text": [
      "/nfs/b0122/Users/eeeeb/miniconda3/envs/pangeo2/lib/python3.9/site-packages/sklearn/base.py:445: UserWarning: X does not have valid feature names, but RandomForestRegressor was fitted with feature names\n",
      "  warnings.warn(\n"
     ]
    },
    {
     "name": "stdout",
     "output_type": "stream",
     "text": [
      "Train RMSE in = 6.652463\n",
      "Valid RMSE in = 7.1333\n",
      "Test RMSE in 2003= 8.039203\n",
      "4\n"
     ]
    },
    {
     "name": "stderr",
     "output_type": "stream",
     "text": [
      "/nfs/b0122/Users/eeeeb/miniconda3/envs/pangeo2/lib/python3.9/site-packages/sklearn/base.py:445: UserWarning: X does not have valid feature names, but RandomForestRegressor was fitted with feature names\n",
      "  warnings.warn(\n"
     ]
    },
    {
     "name": "stdout",
     "output_type": "stream",
     "text": [
      "Train RMSE in = 6.787417\n",
      "Valid RMSE in = 6.491823\n",
      "Test RMSE in 2003= 8.03875\n",
      "2004\n",
      "0\n"
     ]
    },
    {
     "name": "stderr",
     "output_type": "stream",
     "text": [
      "/nfs/b0122/Users/eeeeb/miniconda3/envs/pangeo2/lib/python3.9/site-packages/sklearn/base.py:445: UserWarning: X does not have valid feature names, but RandomForestRegressor was fitted with feature names\n",
      "  warnings.warn(\n"
     ]
    },
    {
     "name": "stdout",
     "output_type": "stream",
     "text": [
      "Train RMSE in = 6.63441\n",
      "Valid RMSE in = 6.724857\n",
      "Test RMSE in 2004= 9.523343\n",
      "1\n"
     ]
    },
    {
     "name": "stderr",
     "output_type": "stream",
     "text": [
      "/nfs/b0122/Users/eeeeb/miniconda3/envs/pangeo2/lib/python3.9/site-packages/sklearn/base.py:445: UserWarning: X does not have valid feature names, but RandomForestRegressor was fitted with feature names\n",
      "  warnings.warn(\n"
     ]
    },
    {
     "name": "stdout",
     "output_type": "stream",
     "text": [
      "Train RMSE in = 6.607822\n",
      "Valid RMSE in = 6.827656\n",
      "Test RMSE in 2004= 9.488757\n",
      "2\n"
     ]
    },
    {
     "name": "stderr",
     "output_type": "stream",
     "text": [
      "/nfs/b0122/Users/eeeeb/miniconda3/envs/pangeo2/lib/python3.9/site-packages/sklearn/base.py:445: UserWarning: X does not have valid feature names, but RandomForestRegressor was fitted with feature names\n",
      "  warnings.warn(\n"
     ]
    },
    {
     "name": "stdout",
     "output_type": "stream",
     "text": [
      "Train RMSE in = 6.542905\n",
      "Valid RMSE in = 7.142694\n",
      "Test RMSE in 2004= 9.512831\n",
      "3\n"
     ]
    },
    {
     "name": "stderr",
     "output_type": "stream",
     "text": [
      "/nfs/b0122/Users/eeeeb/miniconda3/envs/pangeo2/lib/python3.9/site-packages/sklearn/base.py:445: UserWarning: X does not have valid feature names, but RandomForestRegressor was fitted with feature names\n",
      "  warnings.warn(\n"
     ]
    },
    {
     "name": "stdout",
     "output_type": "stream",
     "text": [
      "Train RMSE in = 6.56682\n",
      "Valid RMSE in = 7.049335\n",
      "Test RMSE in 2004= 9.509625\n",
      "4\n"
     ]
    },
    {
     "name": "stderr",
     "output_type": "stream",
     "text": [
      "/nfs/b0122/Users/eeeeb/miniconda3/envs/pangeo2/lib/python3.9/site-packages/sklearn/base.py:445: UserWarning: X does not have valid feature names, but RandomForestRegressor was fitted with feature names\n",
      "  warnings.warn(\n"
     ]
    },
    {
     "name": "stdout",
     "output_type": "stream",
     "text": [
      "Train RMSE in = 6.687174\n",
      "Valid RMSE in = 6.53257\n",
      "Test RMSE in 2004= 9.496196\n",
      "2005\n",
      "0\n"
     ]
    },
    {
     "name": "stderr",
     "output_type": "stream",
     "text": [
      "/nfs/b0122/Users/eeeeb/miniconda3/envs/pangeo2/lib/python3.9/site-packages/sklearn/base.py:445: UserWarning: X does not have valid feature names, but RandomForestRegressor was fitted with feature names\n",
      "  warnings.warn(\n"
     ]
    },
    {
     "name": "stdout",
     "output_type": "stream",
     "text": [
      "Train RMSE in = 6.502484\n",
      "Valid RMSE in = 6.590954\n",
      "Test RMSE in 2005= 11.431178\n",
      "1\n"
     ]
    },
    {
     "name": "stderr",
     "output_type": "stream",
     "text": [
      "/nfs/b0122/Users/eeeeb/miniconda3/envs/pangeo2/lib/python3.9/site-packages/sklearn/base.py:445: UserWarning: X does not have valid feature names, but RandomForestRegressor was fitted with feature names\n",
      "  warnings.warn(\n"
     ]
    },
    {
     "name": "stdout",
     "output_type": "stream",
     "text": [
      "Train RMSE in = 6.465524\n",
      "Valid RMSE in = 6.716507\n",
      "Test RMSE in 2005= 11.506206\n",
      "2\n"
     ]
    },
    {
     "name": "stderr",
     "output_type": "stream",
     "text": [
      "/nfs/b0122/Users/eeeeb/miniconda3/envs/pangeo2/lib/python3.9/site-packages/sklearn/base.py:445: UserWarning: X does not have valid feature names, but RandomForestRegressor was fitted with feature names\n",
      "  warnings.warn(\n"
     ]
    },
    {
     "name": "stdout",
     "output_type": "stream",
     "text": [
      "Train RMSE in = 6.391259\n",
      "Valid RMSE in = 7.074301\n",
      "Test RMSE in 2005= 11.582426\n",
      "3\n"
     ]
    },
    {
     "name": "stderr",
     "output_type": "stream",
     "text": [
      "/nfs/b0122/Users/eeeeb/miniconda3/envs/pangeo2/lib/python3.9/site-packages/sklearn/base.py:445: UserWarning: X does not have valid feature names, but RandomForestRegressor was fitted with feature names\n",
      "  warnings.warn(\n"
     ]
    },
    {
     "name": "stdout",
     "output_type": "stream",
     "text": [
      "Train RMSE in = 6.457712\n",
      "Valid RMSE in = 6.798125\n",
      "Test RMSE in 2005= 11.515438\n",
      "4\n"
     ]
    },
    {
     "name": "stderr",
     "output_type": "stream",
     "text": [
      "/nfs/b0122/Users/eeeeb/miniconda3/envs/pangeo2/lib/python3.9/site-packages/sklearn/base.py:445: UserWarning: X does not have valid feature names, but RandomForestRegressor was fitted with feature names\n",
      "  warnings.warn(\n"
     ]
    },
    {
     "name": "stdout",
     "output_type": "stream",
     "text": [
      "Train RMSE in = 6.551196\n",
      "Valid RMSE in = 6.377033\n",
      "Test RMSE in 2005= 11.543479\n",
      "2006\n",
      "0\n"
     ]
    },
    {
     "name": "stderr",
     "output_type": "stream",
     "text": [
      "/nfs/b0122/Users/eeeeb/miniconda3/envs/pangeo2/lib/python3.9/site-packages/sklearn/base.py:445: UserWarning: X does not have valid feature names, but RandomForestRegressor was fitted with feature names\n",
      "  warnings.warn(\n"
     ]
    },
    {
     "name": "stdout",
     "output_type": "stream",
     "text": [
      "Train RMSE in = 6.761823\n",
      "Valid RMSE in = 6.961922\n",
      "Test RMSE in 2006= 7.269078\n",
      "1\n"
     ]
    },
    {
     "name": "stderr",
     "output_type": "stream",
     "text": [
      "/nfs/b0122/Users/eeeeb/miniconda3/envs/pangeo2/lib/python3.9/site-packages/sklearn/base.py:445: UserWarning: X does not have valid feature names, but RandomForestRegressor was fitted with feature names\n",
      "  warnings.warn(\n"
     ]
    },
    {
     "name": "stdout",
     "output_type": "stream",
     "text": [
      "Train RMSE in = 6.732516\n",
      "Valid RMSE in = 7.085635\n",
      "Test RMSE in 2006= 7.24233\n",
      "2\n"
     ]
    },
    {
     "name": "stderr",
     "output_type": "stream",
     "text": [
      "/nfs/b0122/Users/eeeeb/miniconda3/envs/pangeo2/lib/python3.9/site-packages/sklearn/base.py:445: UserWarning: X does not have valid feature names, but RandomForestRegressor was fitted with feature names\n",
      "  warnings.warn(\n"
     ]
    },
    {
     "name": "stdout",
     "output_type": "stream",
     "text": [
      "Train RMSE in = 6.706418\n",
      "Valid RMSE in = 7.229935\n",
      "Test RMSE in 2006= 7.231773\n",
      "3\n"
     ]
    },
    {
     "name": "stderr",
     "output_type": "stream",
     "text": [
      "/nfs/b0122/Users/eeeeb/miniconda3/envs/pangeo2/lib/python3.9/site-packages/sklearn/base.py:445: UserWarning: X does not have valid feature names, but RandomForestRegressor was fitted with feature names\n",
      "  warnings.warn(\n"
     ]
    },
    {
     "name": "stdout",
     "output_type": "stream",
     "text": [
      "Train RMSE in = 6.732269\n",
      "Valid RMSE in = 7.120462\n",
      "Test RMSE in 2006= 7.223007\n",
      "4\n"
     ]
    },
    {
     "name": "stderr",
     "output_type": "stream",
     "text": [
      "/nfs/b0122/Users/eeeeb/miniconda3/envs/pangeo2/lib/python3.9/site-packages/sklearn/base.py:445: UserWarning: X does not have valid feature names, but RandomForestRegressor was fitted with feature names\n",
      "  warnings.warn(\n"
     ]
    },
    {
     "name": "stdout",
     "output_type": "stream",
     "text": [
      "Train RMSE in = 6.838988\n",
      "Valid RMSE in = 6.617149\n",
      "Test RMSE in 2006= 7.224975\n",
      "2007\n",
      "0\n"
     ]
    },
    {
     "name": "stderr",
     "output_type": "stream",
     "text": [
      "/nfs/b0122/Users/eeeeb/miniconda3/envs/pangeo2/lib/python3.9/site-packages/sklearn/base.py:445: UserWarning: X does not have valid feature names, but RandomForestRegressor was fitted with feature names\n",
      "  warnings.warn(\n"
     ]
    },
    {
     "name": "stdout",
     "output_type": "stream",
     "text": [
      "Train RMSE in = 6.487805\n",
      "Valid RMSE in = 6.701476\n",
      "Test RMSE in 2007= 11.5687\n",
      "1\n"
     ]
    },
    {
     "name": "stderr",
     "output_type": "stream",
     "text": [
      "/nfs/b0122/Users/eeeeb/miniconda3/envs/pangeo2/lib/python3.9/site-packages/sklearn/base.py:445: UserWarning: X does not have valid feature names, but RandomForestRegressor was fitted with feature names\n",
      "  warnings.warn(\n"
     ]
    },
    {
     "name": "stdout",
     "output_type": "stream",
     "text": [
      "Train RMSE in = 6.447154\n",
      "Valid RMSE in = 6.831177\n",
      "Test RMSE in 2007= 11.569097\n",
      "2\n"
     ]
    },
    {
     "name": "stderr",
     "output_type": "stream",
     "text": [
      "/nfs/b0122/Users/eeeeb/miniconda3/envs/pangeo2/lib/python3.9/site-packages/sklearn/base.py:445: UserWarning: X does not have valid feature names, but RandomForestRegressor was fitted with feature names\n",
      "  warnings.warn(\n"
     ]
    },
    {
     "name": "stdout",
     "output_type": "stream",
     "text": [
      "Train RMSE in = 6.447875\n",
      "Valid RMSE in = 6.818991\n",
      "Test RMSE in 2007= 11.543401\n",
      "3\n"
     ]
    },
    {
     "name": "stderr",
     "output_type": "stream",
     "text": [
      "/nfs/b0122/Users/eeeeb/miniconda3/envs/pangeo2/lib/python3.9/site-packages/sklearn/base.py:445: UserWarning: X does not have valid feature names, but RandomForestRegressor was fitted with feature names\n",
      "  warnings.warn(\n"
     ]
    },
    {
     "name": "stdout",
     "output_type": "stream",
     "text": [
      "Train RMSE in = 6.449999\n",
      "Valid RMSE in = 6.814189\n",
      "Test RMSE in 2007= 11.513402\n",
      "4\n"
     ]
    },
    {
     "name": "stderr",
     "output_type": "stream",
     "text": [
      "/nfs/b0122/Users/eeeeb/miniconda3/envs/pangeo2/lib/python3.9/site-packages/sklearn/base.py:445: UserWarning: X does not have valid feature names, but RandomForestRegressor was fitted with feature names\n",
      "  warnings.warn(\n"
     ]
    },
    {
     "name": "stdout",
     "output_type": "stream",
     "text": [
      "Train RMSE in = 6.547577\n",
      "Valid RMSE in = 6.392304\n",
      "Test RMSE in 2007= 11.512895\n",
      "2008\n",
      "0\n"
     ]
    },
    {
     "name": "stderr",
     "output_type": "stream",
     "text": [
      "/nfs/b0122/Users/eeeeb/miniconda3/envs/pangeo2/lib/python3.9/site-packages/sklearn/base.py:445: UserWarning: X does not have valid feature names, but RandomForestRegressor was fitted with feature names\n",
      "  warnings.warn(\n"
     ]
    },
    {
     "name": "stdout",
     "output_type": "stream",
     "text": [
      "Train RMSE in = 6.796242\n",
      "Valid RMSE in = 7.117417\n",
      "Test RMSE in 2008= 5.874369\n",
      "1\n"
     ]
    },
    {
     "name": "stderr",
     "output_type": "stream",
     "text": [
      "/nfs/b0122/Users/eeeeb/miniconda3/envs/pangeo2/lib/python3.9/site-packages/sklearn/base.py:445: UserWarning: X does not have valid feature names, but RandomForestRegressor was fitted with feature names\n",
      "  warnings.warn(\n"
     ]
    },
    {
     "name": "stdout",
     "output_type": "stream",
     "text": [
      "Train RMSE in = 6.761359\n",
      "Valid RMSE in = 7.22248\n",
      "Test RMSE in 2008= 5.88895\n",
      "2\n"
     ]
    },
    {
     "name": "stderr",
     "output_type": "stream",
     "text": [
      "/nfs/b0122/Users/eeeeb/miniconda3/envs/pangeo2/lib/python3.9/site-packages/sklearn/base.py:445: UserWarning: X does not have valid feature names, but RandomForestRegressor was fitted with feature names\n",
      "  warnings.warn(\n"
     ]
    },
    {
     "name": "stdout",
     "output_type": "stream",
     "text": [
      "Train RMSE in = 6.808802\n",
      "Valid RMSE in = 7.033016\n",
      "Test RMSE in 2008= 5.840246\n",
      "3\n"
     ]
    },
    {
     "name": "stderr",
     "output_type": "stream",
     "text": [
      "/nfs/b0122/Users/eeeeb/miniconda3/envs/pangeo2/lib/python3.9/site-packages/sklearn/base.py:445: UserWarning: X does not have valid feature names, but RandomForestRegressor was fitted with feature names\n",
      "  warnings.warn(\n"
     ]
    },
    {
     "name": "stdout",
     "output_type": "stream",
     "text": [
      "Train RMSE in = 6.776502\n",
      "Valid RMSE in = 7.159011\n",
      "Test RMSE in 2008= 5.873336\n",
      "4\n"
     ]
    },
    {
     "name": "stderr",
     "output_type": "stream",
     "text": [
      "/nfs/b0122/Users/eeeeb/miniconda3/envs/pangeo2/lib/python3.9/site-packages/sklearn/base.py:445: UserWarning: X does not have valid feature names, but RandomForestRegressor was fitted with feature names\n",
      "  warnings.warn(\n"
     ]
    },
    {
     "name": "stdout",
     "output_type": "stream",
     "text": [
      "Train RMSE in = 6.861797\n",
      "Valid RMSE in = 6.759669\n",
      "Test RMSE in 2008= 5.864185\n",
      "2009\n",
      "0\n"
     ]
    },
    {
     "name": "stderr",
     "output_type": "stream",
     "text": [
      "/nfs/b0122/Users/eeeeb/miniconda3/envs/pangeo2/lib/python3.9/site-packages/sklearn/base.py:445: UserWarning: X does not have valid feature names, but RandomForestRegressor was fitted with feature names\n",
      "  warnings.warn(\n"
     ]
    },
    {
     "name": "stdout",
     "output_type": "stream",
     "text": [
      "Train RMSE in = 6.85612\n",
      "Valid RMSE in = 7.177738\n",
      "Test RMSE in 2009= 4.731301\n",
      "1\n"
     ]
    },
    {
     "name": "stderr",
     "output_type": "stream",
     "text": [
      "/nfs/b0122/Users/eeeeb/miniconda3/envs/pangeo2/lib/python3.9/site-packages/sklearn/base.py:445: UserWarning: X does not have valid feature names, but RandomForestRegressor was fitted with feature names\n",
      "  warnings.warn(\n"
     ]
    },
    {
     "name": "stdout",
     "output_type": "stream",
     "text": [
      "Train RMSE in = 6.832907\n",
      "Valid RMSE in = 7.254889\n",
      "Test RMSE in 2009= 4.731313\n",
      "2\n"
     ]
    },
    {
     "name": "stderr",
     "output_type": "stream",
     "text": [
      "/nfs/b0122/Users/eeeeb/miniconda3/envs/pangeo2/lib/python3.9/site-packages/sklearn/base.py:445: UserWarning: X does not have valid feature names, but RandomForestRegressor was fitted with feature names\n",
      "  warnings.warn(\n"
     ]
    },
    {
     "name": "stdout",
     "output_type": "stream",
     "text": [
      "Train RMSE in = 6.860107\n",
      "Valid RMSE in = 7.114228\n",
      "Test RMSE in 2009= 4.73847\n",
      "3\n"
     ]
    },
    {
     "name": "stderr",
     "output_type": "stream",
     "text": [
      "/nfs/b0122/Users/eeeeb/miniconda3/envs/pangeo2/lib/python3.9/site-packages/sklearn/base.py:445: UserWarning: X does not have valid feature names, but RandomForestRegressor was fitted with feature names\n",
      "  warnings.warn(\n"
     ]
    },
    {
     "name": "stdout",
     "output_type": "stream",
     "text": [
      "Train RMSE in = 6.839012\n",
      "Valid RMSE in = 7.226931\n",
      "Test RMSE in 2009= 4.73271\n",
      "4\n"
     ]
    },
    {
     "name": "stderr",
     "output_type": "stream",
     "text": [
      "/nfs/b0122/Users/eeeeb/miniconda3/envs/pangeo2/lib/python3.9/site-packages/sklearn/base.py:445: UserWarning: X does not have valid feature names, but RandomForestRegressor was fitted with feature names\n",
      "  warnings.warn(\n"
     ]
    },
    {
     "name": "stdout",
     "output_type": "stream",
     "text": [
      "Train RMSE in = 6.917607\n",
      "Valid RMSE in = 6.807311\n",
      "Test RMSE in 2009= 4.765847\n",
      "2010\n",
      "0\n"
     ]
    },
    {
     "name": "stderr",
     "output_type": "stream",
     "text": [
      "/nfs/b0122/Users/eeeeb/miniconda3/envs/pangeo2/lib/python3.9/site-packages/sklearn/base.py:445: UserWarning: X does not have valid feature names, but RandomForestRegressor was fitted with feature names\n",
      "  warnings.warn(\n"
     ]
    },
    {
     "name": "stdout",
     "output_type": "stream",
     "text": [
      "Train RMSE in = 6.406319\n",
      "Valid RMSE in = 6.760232\n",
      "Test RMSE in 2010= 11.895093\n",
      "1\n"
     ]
    },
    {
     "name": "stderr",
     "output_type": "stream",
     "text": [
      "/nfs/b0122/Users/eeeeb/miniconda3/envs/pangeo2/lib/python3.9/site-packages/sklearn/base.py:445: UserWarning: X does not have valid feature names, but RandomForestRegressor was fitted with feature names\n",
      "  warnings.warn(\n"
     ]
    },
    {
     "name": "stdout",
     "output_type": "stream",
     "text": [
      "Train RMSE in = 6.432404\n",
      "Valid RMSE in = 6.61443\n",
      "Test RMSE in 2010= 11.845181\n",
      "2\n"
     ]
    },
    {
     "name": "stderr",
     "output_type": "stream",
     "text": [
      "/nfs/b0122/Users/eeeeb/miniconda3/envs/pangeo2/lib/python3.9/site-packages/sklearn/base.py:445: UserWarning: X does not have valid feature names, but RandomForestRegressor was fitted with feature names\n",
      "  warnings.warn(\n"
     ]
    },
    {
     "name": "stdout",
     "output_type": "stream",
     "text": [
      "Train RMSE in = 6.447658\n",
      "Valid RMSE in = 6.5851\n",
      "Test RMSE in 2010= 11.886327\n",
      "3\n"
     ]
    },
    {
     "name": "stderr",
     "output_type": "stream",
     "text": [
      "/nfs/b0122/Users/eeeeb/miniconda3/envs/pangeo2/lib/python3.9/site-packages/sklearn/base.py:445: UserWarning: X does not have valid feature names, but RandomForestRegressor was fitted with feature names\n",
      "  warnings.warn(\n"
     ]
    },
    {
     "name": "stdout",
     "output_type": "stream",
     "text": [
      "Train RMSE in = 6.394528\n",
      "Valid RMSE in = 6.758267\n",
      "Test RMSE in 2010= 11.90934\n",
      "4\n"
     ]
    },
    {
     "name": "stderr",
     "output_type": "stream",
     "text": [
      "/nfs/b0122/Users/eeeeb/miniconda3/envs/pangeo2/lib/python3.9/site-packages/sklearn/base.py:445: UserWarning: X does not have valid feature names, but RandomForestRegressor was fitted with feature names\n",
      "  warnings.warn(\n"
     ]
    },
    {
     "name": "stdout",
     "output_type": "stream",
     "text": [
      "Train RMSE in = 6.433883\n",
      "Valid RMSE in = 6.600624\n",
      "Test RMSE in 2010= 11.88776\n",
      "2011\n",
      "0\n"
     ]
    },
    {
     "name": "stderr",
     "output_type": "stream",
     "text": [
      "/nfs/b0122/Users/eeeeb/miniconda3/envs/pangeo2/lib/python3.9/site-packages/sklearn/base.py:445: UserWarning: X does not have valid feature names, but RandomForestRegressor was fitted with feature names\n",
      "  warnings.warn(\n"
     ]
    },
    {
     "name": "stdout",
     "output_type": "stream",
     "text": [
      "Train RMSE in = 6.916238\n",
      "Valid RMSE in = 7.140445\n",
      "Test RMSE in 2011= 3.32871\n",
      "1\n"
     ]
    },
    {
     "name": "stderr",
     "output_type": "stream",
     "text": [
      "/nfs/b0122/Users/eeeeb/miniconda3/envs/pangeo2/lib/python3.9/site-packages/sklearn/base.py:445: UserWarning: X does not have valid feature names, but RandomForestRegressor was fitted with feature names\n",
      "  warnings.warn(\n"
     ]
    },
    {
     "name": "stdout",
     "output_type": "stream",
     "text": [
      "Train RMSE in = 6.894658\n",
      "Valid RMSE in = 7.209179\n",
      "Test RMSE in 2011= 3.337968\n",
      "2\n"
     ]
    },
    {
     "name": "stderr",
     "output_type": "stream",
     "text": [
      "/nfs/b0122/Users/eeeeb/miniconda3/envs/pangeo2/lib/python3.9/site-packages/sklearn/base.py:445: UserWarning: X does not have valid feature names, but RandomForestRegressor was fitted with feature names\n",
      "  warnings.warn(\n"
     ]
    },
    {
     "name": "stdout",
     "output_type": "stream",
     "text": [
      "Train RMSE in = 6.906006\n",
      "Valid RMSE in = 7.192373\n",
      "Test RMSE in 2011= 3.33377\n",
      "3\n"
     ]
    },
    {
     "name": "stderr",
     "output_type": "stream",
     "text": [
      "/nfs/b0122/Users/eeeeb/miniconda3/envs/pangeo2/lib/python3.9/site-packages/sklearn/base.py:445: UserWarning: X does not have valid feature names, but RandomForestRegressor was fitted with feature names\n",
      "  warnings.warn(\n"
     ]
    },
    {
     "name": "stdout",
     "output_type": "stream",
     "text": [
      "Train RMSE in = 6.918889\n",
      "Valid RMSE in = 7.085237\n",
      "Test RMSE in 2011= 3.331067\n",
      "4\n"
     ]
    },
    {
     "name": "stderr",
     "output_type": "stream",
     "text": [
      "/nfs/b0122/Users/eeeeb/miniconda3/envs/pangeo2/lib/python3.9/site-packages/sklearn/base.py:445: UserWarning: X does not have valid feature names, but RandomForestRegressor was fitted with feature names\n",
      "  warnings.warn(\n"
     ]
    },
    {
     "name": "stdout",
     "output_type": "stream",
     "text": [
      "Train RMSE in = 6.885258\n",
      "Valid RMSE in = 7.225015\n",
      "Test RMSE in 2011= 3.346299\n",
      "2012\n",
      "0\n"
     ]
    },
    {
     "name": "stderr",
     "output_type": "stream",
     "text": [
      "/nfs/b0122/Users/eeeeb/miniconda3/envs/pangeo2/lib/python3.9/site-packages/sklearn/base.py:445: UserWarning: X does not have valid feature names, but RandomForestRegressor was fitted with feature names\n",
      "  warnings.warn(\n"
     ]
    },
    {
     "name": "stdout",
     "output_type": "stream",
     "text": [
      "Train RMSE in = 6.863806\n",
      "Valid RMSE in = 7.123302\n",
      "Test RMSE in 2012= 4.973316\n",
      "1\n"
     ]
    },
    {
     "name": "stderr",
     "output_type": "stream",
     "text": [
      "/nfs/b0122/Users/eeeeb/miniconda3/envs/pangeo2/lib/python3.9/site-packages/sklearn/base.py:445: UserWarning: X does not have valid feature names, but RandomForestRegressor was fitted with feature names\n",
      "  warnings.warn(\n"
     ]
    },
    {
     "name": "stdout",
     "output_type": "stream",
     "text": [
      "Train RMSE in = 6.831263\n",
      "Valid RMSE in = 7.176185\n",
      "Test RMSE in 2012= 4.99336\n",
      "2\n"
     ]
    },
    {
     "name": "stderr",
     "output_type": "stream",
     "text": [
      "/nfs/b0122/Users/eeeeb/miniconda3/envs/pangeo2/lib/python3.9/site-packages/sklearn/base.py:445: UserWarning: X does not have valid feature names, but RandomForestRegressor was fitted with feature names\n",
      "  warnings.warn(\n"
     ]
    },
    {
     "name": "stdout",
     "output_type": "stream",
     "text": [
      "Train RMSE in = 6.854075\n",
      "Valid RMSE in = 7.101144\n",
      "Test RMSE in 2012= 4.98684\n",
      "3\n"
     ]
    },
    {
     "name": "stderr",
     "output_type": "stream",
     "text": [
      "/nfs/b0122/Users/eeeeb/miniconda3/envs/pangeo2/lib/python3.9/site-packages/sklearn/base.py:445: UserWarning: X does not have valid feature names, but RandomForestRegressor was fitted with feature names\n",
      "  warnings.warn(\n"
     ]
    },
    {
     "name": "stdout",
     "output_type": "stream",
     "text": [
      "Train RMSE in = 6.865452\n",
      "Valid RMSE in = 7.035163\n",
      "Test RMSE in 2012= 4.984984\n",
      "4\n"
     ]
    },
    {
     "name": "stderr",
     "output_type": "stream",
     "text": [
      "/nfs/b0122/Users/eeeeb/miniconda3/envs/pangeo2/lib/python3.9/site-packages/sklearn/base.py:445: UserWarning: X does not have valid feature names, but RandomForestRegressor was fitted with feature names\n",
      "  warnings.warn(\n"
     ]
    },
    {
     "name": "stdout",
     "output_type": "stream",
     "text": [
      "Train RMSE in = 6.841678\n",
      "Valid RMSE in = 7.141739\n",
      "Test RMSE in 2012= 4.994956\n",
      "2013\n",
      "0\n"
     ]
    },
    {
     "name": "stderr",
     "output_type": "stream",
     "text": [
      "/nfs/b0122/Users/eeeeb/miniconda3/envs/pangeo2/lib/python3.9/site-packages/sklearn/base.py:445: UserWarning: X does not have valid feature names, but RandomForestRegressor was fitted with feature names\n",
      "  warnings.warn(\n"
     ]
    },
    {
     "name": "stdout",
     "output_type": "stream",
     "text": [
      "Train RMSE in = 6.927719\n",
      "Valid RMSE in = 7.148835\n",
      "Test RMSE in 2013= 2.625555\n",
      "1\n"
     ]
    },
    {
     "name": "stderr",
     "output_type": "stream",
     "text": [
      "/nfs/b0122/Users/eeeeb/miniconda3/envs/pangeo2/lib/python3.9/site-packages/sklearn/base.py:445: UserWarning: X does not have valid feature names, but RandomForestRegressor was fitted with feature names\n",
      "  warnings.warn(\n"
     ]
    },
    {
     "name": "stdout",
     "output_type": "stream",
     "text": [
      "Train RMSE in = 6.901711\n",
      "Valid RMSE in = 7.229282\n",
      "Test RMSE in 2013= 2.614717\n",
      "2\n"
     ]
    },
    {
     "name": "stderr",
     "output_type": "stream",
     "text": [
      "/nfs/b0122/Users/eeeeb/miniconda3/envs/pangeo2/lib/python3.9/site-packages/sklearn/base.py:445: UserWarning: X does not have valid feature names, but RandomForestRegressor was fitted with feature names\n",
      "  warnings.warn(\n"
     ]
    },
    {
     "name": "stdout",
     "output_type": "stream",
     "text": [
      "Train RMSE in = 6.919657\n",
      "Valid RMSE in = 7.199362\n",
      "Test RMSE in 2013= 2.610697\n",
      "3\n"
     ]
    },
    {
     "name": "stderr",
     "output_type": "stream",
     "text": [
      "/nfs/b0122/Users/eeeeb/miniconda3/envs/pangeo2/lib/python3.9/site-packages/sklearn/base.py:445: UserWarning: X does not have valid feature names, but RandomForestRegressor was fitted with feature names\n",
      "  warnings.warn(\n"
     ]
    },
    {
     "name": "stdout",
     "output_type": "stream",
     "text": [
      "Train RMSE in = 6.932769\n",
      "Valid RMSE in = 7.108987\n",
      "Test RMSE in 2013= 2.630158\n",
      "4\n"
     ]
    },
    {
     "name": "stderr",
     "output_type": "stream",
     "text": [
      "/nfs/b0122/Users/eeeeb/miniconda3/envs/pangeo2/lib/python3.9/site-packages/sklearn/base.py:445: UserWarning: X does not have valid feature names, but RandomForestRegressor was fitted with feature names\n",
      "  warnings.warn(\n"
     ]
    },
    {
     "name": "stdout",
     "output_type": "stream",
     "text": [
      "Train RMSE in = 6.909189\n",
      "Valid RMSE in = 7.224267\n",
      "Test RMSE in 2013= 2.62514\n",
      "2014\n",
      "0\n"
     ]
    },
    {
     "name": "stderr",
     "output_type": "stream",
     "text": [
      "/nfs/b0122/Users/eeeeb/miniconda3/envs/pangeo2/lib/python3.9/site-packages/sklearn/base.py:445: UserWarning: X does not have valid feature names, but RandomForestRegressor was fitted with feature names\n",
      "  warnings.warn(\n"
     ]
    },
    {
     "name": "stdout",
     "output_type": "stream",
     "text": [
      "Train RMSE in = 6.89218\n",
      "Valid RMSE in = 7.113343\n",
      "Test RMSE in 2014= 4.183049\n",
      "1\n"
     ]
    },
    {
     "name": "stderr",
     "output_type": "stream",
     "text": [
      "/nfs/b0122/Users/eeeeb/miniconda3/envs/pangeo2/lib/python3.9/site-packages/sklearn/base.py:445: UserWarning: X does not have valid feature names, but RandomForestRegressor was fitted with feature names\n",
      "  warnings.warn(\n"
     ]
    },
    {
     "name": "stdout",
     "output_type": "stream",
     "text": [
      "Train RMSE in = 6.871659\n",
      "Valid RMSE in = 7.186633\n",
      "Test RMSE in 2014= 4.189836\n",
      "2\n"
     ]
    },
    {
     "name": "stderr",
     "output_type": "stream",
     "text": [
      "/nfs/b0122/Users/eeeeb/miniconda3/envs/pangeo2/lib/python3.9/site-packages/sklearn/base.py:445: UserWarning: X does not have valid feature names, but RandomForestRegressor was fitted with feature names\n",
      "  warnings.warn(\n"
     ]
    },
    {
     "name": "stdout",
     "output_type": "stream",
     "text": [
      "Train RMSE in = 6.874334\n",
      "Valid RMSE in = 7.17765\n",
      "Test RMSE in 2014= 4.177977\n",
      "3\n"
     ]
    },
    {
     "name": "stderr",
     "output_type": "stream",
     "text": [
      "/nfs/b0122/Users/eeeeb/miniconda3/envs/pangeo2/lib/python3.9/site-packages/sklearn/base.py:445: UserWarning: X does not have valid feature names, but RandomForestRegressor was fitted with feature names\n",
      "  warnings.warn(\n"
     ]
    },
    {
     "name": "stdout",
     "output_type": "stream",
     "text": [
      "Train RMSE in = 6.903815\n",
      "Valid RMSE in = 7.04939\n",
      "Test RMSE in 2014= 4.191652\n",
      "4\n"
     ]
    },
    {
     "name": "stderr",
     "output_type": "stream",
     "text": [
      "/nfs/b0122/Users/eeeeb/miniconda3/envs/pangeo2/lib/python3.9/site-packages/sklearn/base.py:445: UserWarning: X does not have valid feature names, but RandomForestRegressor was fitted with feature names\n",
      "  warnings.warn(\n"
     ]
    },
    {
     "name": "stdout",
     "output_type": "stream",
     "text": [
      "Train RMSE in = 6.869365\n",
      "Valid RMSE in = 7.197683\n",
      "Test RMSE in 2014= 4.197122\n",
      "2015\n",
      "0\n"
     ]
    },
    {
     "name": "stderr",
     "output_type": "stream",
     "text": [
      "/nfs/b0122/Users/eeeeb/miniconda3/envs/pangeo2/lib/python3.9/site-packages/sklearn/base.py:445: UserWarning: X does not have valid feature names, but RandomForestRegressor was fitted with feature names\n",
      "  warnings.warn(\n"
     ]
    },
    {
     "name": "stdout",
     "output_type": "stream",
     "text": [
      "Train RMSE in = 6.83596\n",
      "Valid RMSE in = 7.031285\n",
      "Test RMSE in 2015= 5.823406\n",
      "1\n"
     ]
    },
    {
     "name": "stderr",
     "output_type": "stream",
     "text": [
      "/nfs/b0122/Users/eeeeb/miniconda3/envs/pangeo2/lib/python3.9/site-packages/sklearn/base.py:445: UserWarning: X does not have valid feature names, but RandomForestRegressor was fitted with feature names\n",
      "  warnings.warn(\n"
     ]
    },
    {
     "name": "stdout",
     "output_type": "stream",
     "text": [
      "Train RMSE in = 6.807669\n",
      "Valid RMSE in = 7.145622\n",
      "Test RMSE in 2015= 5.800473\n",
      "2\n"
     ]
    },
    {
     "name": "stderr",
     "output_type": "stream",
     "text": [
      "/nfs/b0122/Users/eeeeb/miniconda3/envs/pangeo2/lib/python3.9/site-packages/sklearn/base.py:445: UserWarning: X does not have valid feature names, but RandomForestRegressor was fitted with feature names\n",
      "  warnings.warn(\n"
     ]
    },
    {
     "name": "stdout",
     "output_type": "stream",
     "text": [
      "Train RMSE in = 6.810358\n",
      "Valid RMSE in = 7.10725\n",
      "Test RMSE in 2015= 5.803079\n",
      "3\n"
     ]
    },
    {
     "name": "stderr",
     "output_type": "stream",
     "text": [
      "/nfs/b0122/Users/eeeeb/miniconda3/envs/pangeo2/lib/python3.9/site-packages/sklearn/base.py:445: UserWarning: X does not have valid feature names, but RandomForestRegressor was fitted with feature names\n",
      "  warnings.warn(\n"
     ]
    },
    {
     "name": "stdout",
     "output_type": "stream",
     "text": [
      "Train RMSE in = 6.836234\n",
      "Valid RMSE in = 6.987386\n",
      "Test RMSE in 2015= 5.800994\n",
      "4\n"
     ]
    },
    {
     "name": "stderr",
     "output_type": "stream",
     "text": [
      "/nfs/b0122/Users/eeeeb/miniconda3/envs/pangeo2/lib/python3.9/site-packages/sklearn/base.py:445: UserWarning: X does not have valid feature names, but RandomForestRegressor was fitted with feature names\n",
      "  warnings.warn(\n"
     ]
    },
    {
     "name": "stdout",
     "output_type": "stream",
     "text": [
      "Train RMSE in = 6.801814\n",
      "Valid RMSE in = 7.137634\n",
      "Test RMSE in 2015= 5.791421\n",
      "2016\n",
      "0\n"
     ]
    },
    {
     "name": "stderr",
     "output_type": "stream",
     "text": [
      "/nfs/b0122/Users/eeeeb/miniconda3/envs/pangeo2/lib/python3.9/site-packages/sklearn/base.py:445: UserWarning: X does not have valid feature names, but RandomForestRegressor was fitted with feature names\n",
      "  warnings.warn(\n"
     ]
    },
    {
     "name": "stdout",
     "output_type": "stream",
     "text": [
      "Train RMSE in = 6.843817\n",
      "Valid RMSE in = 7.043418\n",
      "Test RMSE in 2016= 5.413322\n",
      "1\n"
     ]
    },
    {
     "name": "stderr",
     "output_type": "stream",
     "text": [
      "/nfs/b0122/Users/eeeeb/miniconda3/envs/pangeo2/lib/python3.9/site-packages/sklearn/base.py:445: UserWarning: X does not have valid feature names, but RandomForestRegressor was fitted with feature names\n",
      "  warnings.warn(\n"
     ]
    },
    {
     "name": "stdout",
     "output_type": "stream",
     "text": [
      "Train RMSE in = 6.816273\n",
      "Valid RMSE in = 7.14703\n",
      "Test RMSE in 2016= 5.430015\n",
      "2\n"
     ]
    },
    {
     "name": "stderr",
     "output_type": "stream",
     "text": [
      "/nfs/b0122/Users/eeeeb/miniconda3/envs/pangeo2/lib/python3.9/site-packages/sklearn/base.py:445: UserWarning: X does not have valid feature names, but RandomForestRegressor was fitted with feature names\n",
      "  warnings.warn(\n"
     ]
    },
    {
     "name": "stdout",
     "output_type": "stream",
     "text": [
      "Train RMSE in = 6.828899\n",
      "Valid RMSE in = 7.138652\n",
      "Test RMSE in 2016= 5.409702\n",
      "3\n"
     ]
    },
    {
     "name": "stderr",
     "output_type": "stream",
     "text": [
      "/nfs/b0122/Users/eeeeb/miniconda3/envs/pangeo2/lib/python3.9/site-packages/sklearn/base.py:445: UserWarning: X does not have valid feature names, but RandomForestRegressor was fitted with feature names\n",
      "  warnings.warn(\n"
     ]
    },
    {
     "name": "stdout",
     "output_type": "stream",
     "text": [
      "Train RMSE in = 6.857168\n",
      "Valid RMSE in = 6.984884\n",
      "Test RMSE in 2016= 5.429058\n",
      "4\n"
     ]
    },
    {
     "name": "stderr",
     "output_type": "stream",
     "text": [
      "/nfs/b0122/Users/eeeeb/miniconda3/envs/pangeo2/lib/python3.9/site-packages/sklearn/base.py:445: UserWarning: X does not have valid feature names, but RandomForestRegressor was fitted with feature names\n",
      "  warnings.warn(\n"
     ]
    },
    {
     "name": "stdout",
     "output_type": "stream",
     "text": [
      "Train RMSE in = 6.810554\n",
      "Valid RMSE in = 7.144964\n",
      "Test RMSE in 2016= 5.385251\n",
      "2017\n",
      "0\n"
     ]
    },
    {
     "name": "stderr",
     "output_type": "stream",
     "text": [
      "/nfs/b0122/Users/eeeeb/miniconda3/envs/pangeo2/lib/python3.9/site-packages/sklearn/base.py:445: UserWarning: X does not have valid feature names, but RandomForestRegressor was fitted with feature names\n",
      "  warnings.warn(\n"
     ]
    },
    {
     "name": "stdout",
     "output_type": "stream",
     "text": [
      "Train RMSE in = 6.823627\n",
      "Valid RMSE in = 6.962266\n",
      "Test RMSE in 2017= 6.3677\n",
      "1\n"
     ]
    },
    {
     "name": "stderr",
     "output_type": "stream",
     "text": [
      "/nfs/b0122/Users/eeeeb/miniconda3/envs/pangeo2/lib/python3.9/site-packages/sklearn/base.py:445: UserWarning: X does not have valid feature names, but RandomForestRegressor was fitted with feature names\n",
      "  warnings.warn(\n"
     ]
    },
    {
     "name": "stdout",
     "output_type": "stream",
     "text": [
      "Train RMSE in = 6.767767\n",
      "Valid RMSE in = 7.146491\n",
      "Test RMSE in 2017= 6.369937\n",
      "2\n"
     ]
    },
    {
     "name": "stderr",
     "output_type": "stream",
     "text": [
      "/nfs/b0122/Users/eeeeb/miniconda3/envs/pangeo2/lib/python3.9/site-packages/sklearn/base.py:445: UserWarning: X does not have valid feature names, but RandomForestRegressor was fitted with feature names\n",
      "  warnings.warn(\n"
     ]
    },
    {
     "name": "stdout",
     "output_type": "stream",
     "text": [
      "Train RMSE in = 6.795608\n",
      "Valid RMSE in = 7.066228\n",
      "Test RMSE in 2017= 6.349617\n",
      "3\n"
     ]
    },
    {
     "name": "stderr",
     "output_type": "stream",
     "text": [
      "/nfs/b0122/Users/eeeeb/miniconda3/envs/pangeo2/lib/python3.9/site-packages/sklearn/base.py:445: UserWarning: X does not have valid feature names, but RandomForestRegressor was fitted with feature names\n",
      "  warnings.warn(\n"
     ]
    },
    {
     "name": "stdout",
     "output_type": "stream",
     "text": [
      "Train RMSE in = 6.79688\n",
      "Valid RMSE in = 6.970779\n",
      "Test RMSE in 2017= 6.368895\n",
      "4\n"
     ]
    },
    {
     "name": "stderr",
     "output_type": "stream",
     "text": [
      "/nfs/b0122/Users/eeeeb/miniconda3/envs/pangeo2/lib/python3.9/site-packages/sklearn/base.py:445: UserWarning: X does not have valid feature names, but RandomForestRegressor was fitted with feature names\n",
      "  warnings.warn(\n"
     ]
    },
    {
     "name": "stdout",
     "output_type": "stream",
     "text": [
      "Train RMSE in = 6.76665\n",
      "Valid RMSE in = 7.115886\n",
      "Test RMSE in 2017= 6.351205\n",
      "2018\n",
      "0\n"
     ]
    },
    {
     "name": "stderr",
     "output_type": "stream",
     "text": [
      "/nfs/b0122/Users/eeeeb/miniconda3/envs/pangeo2/lib/python3.9/site-packages/sklearn/base.py:445: UserWarning: X does not have valid feature names, but RandomForestRegressor was fitted with feature names\n",
      "  warnings.warn(\n"
     ]
    },
    {
     "name": "stdout",
     "output_type": "stream",
     "text": [
      "Train RMSE in = 6.916922\n",
      "Valid RMSE in = 7.062555\n",
      "Test RMSE in 2018= 3.832798\n",
      "1\n"
     ]
    },
    {
     "name": "stderr",
     "output_type": "stream",
     "text": [
      "/nfs/b0122/Users/eeeeb/miniconda3/envs/pangeo2/lib/python3.9/site-packages/sklearn/base.py:445: UserWarning: X does not have valid feature names, but RandomForestRegressor was fitted with feature names\n",
      "  warnings.warn(\n"
     ]
    },
    {
     "name": "stdout",
     "output_type": "stream",
     "text": [
      "Train RMSE in = 6.871808\n",
      "Valid RMSE in = 7.239567\n",
      "Test RMSE in 2018= 3.826319\n",
      "2\n"
     ]
    },
    {
     "name": "stderr",
     "output_type": "stream",
     "text": [
      "/nfs/b0122/Users/eeeeb/miniconda3/envs/pangeo2/lib/python3.9/site-packages/sklearn/base.py:445: UserWarning: X does not have valid feature names, but RandomForestRegressor was fitted with feature names\n",
      "  warnings.warn(\n"
     ]
    },
    {
     "name": "stdout",
     "output_type": "stream",
     "text": [
      "Train RMSE in = 6.895831\n",
      "Valid RMSE in = 7.155497\n",
      "Test RMSE in 2018= 3.830984\n",
      "3\n"
     ]
    },
    {
     "name": "stderr",
     "output_type": "stream",
     "text": [
      "/nfs/b0122/Users/eeeeb/miniconda3/envs/pangeo2/lib/python3.9/site-packages/sklearn/base.py:445: UserWarning: X does not have valid feature names, but RandomForestRegressor was fitted with feature names\n",
      "  warnings.warn(\n"
     ]
    },
    {
     "name": "stdout",
     "output_type": "stream",
     "text": [
      "Train RMSE in = 6.897004\n",
      "Valid RMSE in = 7.110928\n",
      "Test RMSE in 2018= 3.830884\n",
      "4\n"
     ]
    },
    {
     "name": "stderr",
     "output_type": "stream",
     "text": [
      "/nfs/b0122/Users/eeeeb/miniconda3/envs/pangeo2/lib/python3.9/site-packages/sklearn/base.py:445: UserWarning: X does not have valid feature names, but RandomForestRegressor was fitted with feature names\n",
      "  warnings.warn(\n"
     ]
    },
    {
     "name": "stdout",
     "output_type": "stream",
     "text": [
      "Train RMSE in = 6.878556\n",
      "Valid RMSE in = 7.207497\n",
      "Test RMSE in 2018= 3.838216\n",
      "2019\n",
      "0\n"
     ]
    },
    {
     "name": "stderr",
     "output_type": "stream",
     "text": [
      "/nfs/b0122/Users/eeeeb/miniconda3/envs/pangeo2/lib/python3.9/site-packages/sklearn/base.py:445: UserWarning: X does not have valid feature names, but RandomForestRegressor was fitted with feature names\n",
      "  warnings.warn(\n"
     ]
    },
    {
     "name": "stdout",
     "output_type": "stream",
     "text": [
      "Train RMSE in = 6.789787\n",
      "Valid RMSE in = 6.898642\n",
      "Test RMSE in 2019= 7.010615\n",
      "1\n"
     ]
    },
    {
     "name": "stderr",
     "output_type": "stream",
     "text": [
      "/nfs/b0122/Users/eeeeb/miniconda3/envs/pangeo2/lib/python3.9/site-packages/sklearn/base.py:445: UserWarning: X does not have valid feature names, but RandomForestRegressor was fitted with feature names\n",
      "  warnings.warn(\n"
     ]
    },
    {
     "name": "stdout",
     "output_type": "stream",
     "text": [
      "Train RMSE in = 6.737519\n",
      "Valid RMSE in = 7.104575\n",
      "Test RMSE in 2019= 7.014719\n",
      "2\n"
     ]
    },
    {
     "name": "stderr",
     "output_type": "stream",
     "text": [
      "/nfs/b0122/Users/eeeeb/miniconda3/envs/pangeo2/lib/python3.9/site-packages/sklearn/base.py:445: UserWarning: X does not have valid feature names, but RandomForestRegressor was fitted with feature names\n",
      "  warnings.warn(\n"
     ]
    },
    {
     "name": "stdout",
     "output_type": "stream",
     "text": [
      "Train RMSE in = 6.765268\n",
      "Valid RMSE in = 7.006937\n",
      "Test RMSE in 2019= 7.012903\n",
      "3\n"
     ]
    },
    {
     "name": "stderr",
     "output_type": "stream",
     "text": [
      "/nfs/b0122/Users/eeeeb/miniconda3/envs/pangeo2/lib/python3.9/site-packages/sklearn/base.py:445: UserWarning: X does not have valid feature names, but RandomForestRegressor was fitted with feature names\n",
      "  warnings.warn(\n"
     ]
    },
    {
     "name": "stdout",
     "output_type": "stream",
     "text": [
      "Train RMSE in = 6.768443\n",
      "Valid RMSE in = 6.968817\n",
      "Test RMSE in 2019= 7.01201\n",
      "4\n"
     ]
    },
    {
     "name": "stderr",
     "output_type": "stream",
     "text": [
      "/nfs/b0122/Users/eeeeb/miniconda3/envs/pangeo2/lib/python3.9/site-packages/sklearn/base.py:445: UserWarning: X does not have valid feature names, but RandomForestRegressor was fitted with feature names\n",
      "  warnings.warn(\n"
     ]
    },
    {
     "name": "stdout",
     "output_type": "stream",
     "text": [
      "Train RMSE in = 6.741183\n",
      "Valid RMSE in = 7.105551\n",
      "Test RMSE in 2019= 7.007926\n",
      "2020\n",
      "0\n"
     ]
    },
    {
     "name": "stderr",
     "output_type": "stream",
     "text": [
      "/nfs/b0122/Users/eeeeb/miniconda3/envs/pangeo2/lib/python3.9/site-packages/sklearn/base.py:445: UserWarning: X does not have valid feature names, but RandomForestRegressor was fitted with feature names\n",
      "  warnings.warn(\n"
     ]
    },
    {
     "name": "stdout",
     "output_type": "stream",
     "text": [
      "Train RMSE in = 6.838317\n",
      "Valid RMSE in = 6.933265\n",
      "Test RMSE in 2020= 6.117384\n",
      "1\n"
     ]
    },
    {
     "name": "stderr",
     "output_type": "stream",
     "text": [
      "/nfs/b0122/Users/eeeeb/miniconda3/envs/pangeo2/lib/python3.9/site-packages/sklearn/base.py:445: UserWarning: X does not have valid feature names, but RandomForestRegressor was fitted with feature names\n",
      "  warnings.warn(\n"
     ]
    },
    {
     "name": "stdout",
     "output_type": "stream",
     "text": [
      "Train RMSE in = 6.779802\n",
      "Valid RMSE in = 7.163882\n",
      "Test RMSE in 2020= 6.055937\n",
      "2\n"
     ]
    },
    {
     "name": "stderr",
     "output_type": "stream",
     "text": [
      "/nfs/b0122/Users/eeeeb/miniconda3/envs/pangeo2/lib/python3.9/site-packages/sklearn/base.py:445: UserWarning: X does not have valid feature names, but RandomForestRegressor was fitted with feature names\n",
      "  warnings.warn(\n"
     ]
    },
    {
     "name": "stdout",
     "output_type": "stream",
     "text": [
      "Train RMSE in = 6.800136\n",
      "Valid RMSE in = 7.093027\n",
      "Test RMSE in 2020= 6.052661\n",
      "3\n"
     ]
    },
    {
     "name": "stderr",
     "output_type": "stream",
     "text": [
      "/nfs/b0122/Users/eeeeb/miniconda3/envs/pangeo2/lib/python3.9/site-packages/sklearn/base.py:445: UserWarning: X does not have valid feature names, but RandomForestRegressor was fitted with feature names\n",
      "  warnings.warn(\n"
     ]
    },
    {
     "name": "stdout",
     "output_type": "stream",
     "text": [
      "Train RMSE in = 6.819559\n",
      "Valid RMSE in = 6.964906\n",
      "Test RMSE in 2020= 6.1011\n",
      "4\n"
     ]
    },
    {
     "name": "stderr",
     "output_type": "stream",
     "text": [
      "/nfs/b0122/Users/eeeeb/miniconda3/envs/pangeo2/lib/python3.9/site-packages/sklearn/base.py:445: UserWarning: X does not have valid feature names, but RandomForestRegressor was fitted with feature names\n",
      "  warnings.warn(\n"
     ]
    },
    {
     "name": "stdout",
     "output_type": "stream",
     "text": [
      "Train RMSE in = 6.783335\n",
      "Valid RMSE in = 7.171496\n",
      "Test RMSE in 2020= 6.041686\n"
     ]
    }
   ],
   "source": [
    "# Loop through each simulation\n",
    "for sim_index, sim in enumerate(sim_label):\n",
    "    # Print simulation\n",
    "    print(sim)\n",
    "    \n",
    "    # Get featues/variables for each simulation\n",
    "    sim_data = df[sim_features[sim_index]]\n",
    "       \n",
    "    # Loop through each year\n",
    "    for yr in years:\n",
    "        \n",
    "        # Print year\n",
    "        print(yr)\n",
    "        \n",
    "        # Copy simulation data\n",
    "        train = sim_data.copy()\n",
    "        \n",
    "        # Get test data. Test set is data for year of interest.\n",
    "        test = train[(train['year'] == yr)]\n",
    "        \n",
    "        # Use this to add test predictions \n",
    "        test_original = test.copy()\n",
    "        \n",
    "        # Remove test data from train data\n",
    "        train = train.loc[~((train['year'] == yr)),:]\n",
    "        \n",
    "        # Remove 'year' from datasets as it is not needed now\n",
    "        train = train.drop('year', axis=1)\n",
    "        test = test.drop('year', axis=1)\n",
    "        \n",
    "        # X,y test dataset\n",
    "        X_test, y_test = test.drop(dep_var,axis=1), test[dep_var]\n",
    "        \n",
    "        # Set number of k-folds \n",
    "        n_folds = 5 \n",
    "    \n",
    "        # Empty array to store test predictions for each k-fold   \n",
    "        preds_test_ar = np.ones((n_folds,len(X_test)))\n",
    "        \n",
    "        # Define splits into k-folds\n",
    "        kf = KFold(n_splits=n_folds, random_state=42, shuffle=True) \n",
    "        kf.get_n_splits(train) # returns the number of splitting iterations in the cross-validator\n",
    "    \n",
    "        index_count  = 0\n",
    "        for train_index, valid_index in kf.split(train):\n",
    "            index_count += 1\n",
    "            print(index_count-1)\n",
    "        \n",
    "            # Get train and valid set for fold\n",
    "            X_train, X_valid = train.iloc[train_index], train.iloc[valid_index]\n",
    "            y_train, y_valid = X_train[dep_var], X_valid[dep_var]  \n",
    "            \n",
    "            # Drop dependent/target variable \n",
    "            X_train, X_valid = X_train.drop(dep_var,axis=1), X_valid.drop(dep_var,axis=1) \n",
    "            \n",
    "            # Fit model   \n",
    "            m = rf(X_train,y_train)\n",
    "            \n",
    "            # Get fire count predictions for train, valid and test sets\n",
    "            preds_train = m.predict(X_train)\n",
    "            preds_valid = m.predict(X_valid)\n",
    "            preds_test =  m.predict(X_test)\n",
    "\n",
    "            # Print RMSE for train, valid and test sets\n",
    "            print('Train RMSE in = ' + str(r_mse(preds_train, y_train)))\n",
    "            print('Valid RMSE in = ' + str(r_mse(preds_valid, y_valid)))\n",
    "            print('Test RMSE in ' + str(yr) + '= ' + str(r_mse(preds_test, y_test))) \n",
    "\n",
    "            # Store test fire count predictions    \n",
    "            preds_test_ar[index_count-1,:] = preds_test\n",
    "        \n",
    "            # Average and save fire count predictions\n",
    "            if index_count-1 == 4:  \n",
    "\n",
    "                # Average test predictions across folds and save \n",
    "                test_original['mean_preds'] = np.round(preds_test_ar.mean(axis=0))\n",
    "                test_original.to_csv(outpath + 'test_preds_'+sim+'_'+str(n_folds)+'folds_'+str(yr)+'.csv', index=False)\n",
    "    \n",
    "\n",
    "    "
   ]
  },
  {
   "cell_type": "code",
   "execution_count": null,
   "metadata": {},
   "outputs": [],
   "source": []
  },
  {
   "cell_type": "code",
   "execution_count": null,
   "metadata": {},
   "outputs": [],
   "source": []
  }
 ],
 "metadata": {
  "kernelspec": {
   "display_name": "Python 3",
   "language": "python",
   "name": "python3"
  },
  "language_info": {
   "codemirror_mode": {
    "name": "ipython",
    "version": 3
   },
   "file_extension": ".py",
   "mimetype": "text/x-python",
   "name": "python",
   "nbconvert_exporter": "python",
   "pygments_lexer": "ipython3",
   "version": "3.8.5"
  }
 },
 "nbformat": 4,
 "nbformat_minor": 4
}
